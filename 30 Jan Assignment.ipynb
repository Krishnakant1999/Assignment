{
 "cells": [
  {
   "cell_type": "code",
   "execution_count": 11,
   "id": "b4df8658",
   "metadata": {},
   "outputs": [
    {
     "name": "stdout",
     "output_type": "stream",
     "text": [
      "Marks obtained: 93\n",
      "Grade A\n"
     ]
    }
   ],
   "source": [
    "# Q.1. \n",
    "m = int(input(\"Marks obtained: \"))\n",
    "if m>90:\n",
    "    print(\"Grade A\")\n",
    "elif 80<m<=90 :\n",
    "    print(\"Grade B\")\n",
    "elif 60<= m <= 80 :\n",
    "    print(\"Grade C\")\n",
    "elif m <= 60 :\n",
    "    print(\"Grade D\")\n",
    "    "
   ]
  },
  {
   "cell_type": "code",
   "execution_count": 12,
   "id": "4a59cddf",
   "metadata": {},
   "outputs": [
    {
     "name": "stdout",
     "output_type": "stream",
     "text": [
      "Cost price in Rs. :55000\n",
      "Tax to be paid is 10%\n"
     ]
    }
   ],
   "source": [
    "# Q.2. \n",
    "c = int(input(\"Cost price in Rs. :\"))\n",
    "if  c > 100000:\n",
    "    print(\"Tax to be paid 15 %\")\n",
    "elif 50000< c<= 100000:\n",
    "    print(\"Tax to be paid is 10%\")\n",
    "elif c<= 50000:\n",
    "    print(\"Tax to be paid is 5%\")"
   ]
  },
  {
   "cell_type": "code",
   "execution_count": 12,
   "id": "23b6037e",
   "metadata": {},
   "outputs": [
    {
     "name": "stdout",
     "output_type": "stream",
     "text": [
      "City name : Agra\n",
      "Monument present in this city is Taj Mahal \n"
     ]
    }
   ],
   "source": [
    "# Q.3. \n",
    "c = str(input(\"City name : \"))\n",
    "if c == \"Delhi\"  :\n",
    "    print(\"Monument present in this city is Red Fort\")\n",
    "elif c == \"Agra\"  :\n",
    "    print( \"Monument present in this city is Taj Mahal \")\n",
    "elif c == \"Jaipur\" :\n",
    "    print(\"Monument present in this city is Jal Mahal\")\n",
    "    "
   ]
  },
  {
   "cell_type": "code",
   "execution_count": 39,
   "id": "fca8d241",
   "metadata": {},
   "outputs": [
    {
     "name": "stdout",
     "output_type": "stream",
     "text": [
      "Enter your number : 54\n",
      "54\n",
      "18.0\n",
      "This many times number can be divided by 3 before it is less than or equal to 10 :  2\n"
     ]
    }
   ],
   "source": [
    "# Q.4. \n",
    "count = 0\n",
    "n = int(input(\"Enter your number : \"))\n",
    "while n>10 and n % 3 == 0  :    \n",
    "    count = count +1 \n",
    "    print(n)\n",
    "    n = n/3\n",
    "print(\"This many times number can be divided by 3 before it is less than or equal to 10 : \" , count)        "
   ]
  },
  {
   "cell_type": "markdown",
   "id": "41afd825",
   "metadata": {},
   "source": [
    "Q. 5 why and when to use while loop in python give a detailed discription with examples"
   ]
  },
  {
   "cell_type": "markdown",
   "id": "e2a398ba",
   "metadata": {},
   "source": [
    "A while loop is used to repeatedly execute a block of code as long as a certain condition remains true. It is useful when you want to iterate through a set of instructions until a specific condition is no longer met."
   ]
  },
  {
   "cell_type": "code",
   "execution_count": 40,
   "id": "6fcaa84d",
   "metadata": {},
   "outputs": [
    {
     "name": "stdout",
     "output_type": "stream",
     "text": [
      "Count: 0\n",
      "Count: 1\n",
      "Count: 2\n",
      "Count: 3\n",
      "Count: 4\n"
     ]
    }
   ],
   "source": [
    "count = 0\n",
    "while count < 5:\n",
    "    print(\"Count:\", count)\n",
    "    count += 1\n"
   ]
  },
  {
   "cell_type": "markdown",
   "id": "3e8a3bf5",
   "metadata": {},
   "source": [
    "Q.6. Use nested while loop to print 3 different patterns."
   ]
  },
  {
   "cell_type": "code",
   "execution_count": 3,
   "id": "4aec59a8",
   "metadata": {},
   "outputs": [
    {
     "name": "stdout",
     "output_type": "stream",
     "text": [
      "*\n",
      "**\n",
      "***\n",
      "****\n",
      "*****\n"
     ]
    }
   ],
   "source": [
    "i = 1\n",
    "while i <= 5:\n",
    "    j = 1\n",
    "    while j<= i:\n",
    "        print(\"*\",end=\"\")\n",
    "        j = j+1\n",
    "    print()\n",
    "    i = i+1"
   ]
  },
  {
   "cell_type": "code",
   "execution_count": 5,
   "id": "9abb360a",
   "metadata": {},
   "outputs": [
    {
     "name": "stdout",
     "output_type": "stream",
     "text": [
      "1\n",
      "12\n",
      "123\n",
      "1234\n",
      "12345\n"
     ]
    }
   ],
   "source": [
    "i = 1\n",
    "while i <= 5:\n",
    "    j = 1\n",
    "    while j<= i:\n",
    "        print(j,end=\"\")\n",
    "        j = j+1\n",
    "    print()\n",
    "    i = i+1"
   ]
  },
  {
   "cell_type": "code",
   "execution_count": 1,
   "id": "c336a95b",
   "metadata": {},
   "outputs": [
    {
     "name": "stdout",
     "output_type": "stream",
     "text": [
      "1\n",
      "22\n",
      "333\n",
      "4444\n",
      "55555\n"
     ]
    }
   ],
   "source": [
    "i = 1\n",
    "while i <= 5:\n",
    "    j = 1\n",
    "    while j<= i:\n",
    "        print(i,end=\"\")\n",
    "        j = j+1\n",
    "    print()\n",
    "    i = i+1"
   ]
  },
  {
   "cell_type": "markdown",
   "id": "412cc30d",
   "metadata": {},
   "source": [
    "Q.8. Reverse a while loop to display numbers from 10 to 1."
   ]
  },
  {
   "cell_type": "code",
   "execution_count": 17,
   "id": "659bbf6e",
   "metadata": {},
   "outputs": [
    {
     "name": "stdout",
     "output_type": "stream",
     "text": [
      "10\n",
      "9\n",
      "8\n",
      "7\n",
      "6\n",
      "5\n",
      "4\n",
      "3\n",
      "2\n",
      "1\n"
     ]
    }
   ],
   "source": [
    "number = 10\n",
    "while number >= 1:\n",
    "    print(number)\n",
    "    number -= 1\n"
   ]
  }
 ],
 "metadata": {
  "kernelspec": {
   "display_name": "Python 3 (ipykernel)",
   "language": "python",
   "name": "python3"
  },
  "language_info": {
   "codemirror_mode": {
    "name": "ipython",
    "version": 3
   },
   "file_extension": ".py",
   "mimetype": "text/x-python",
   "name": "python",
   "nbconvert_exporter": "python",
   "pygments_lexer": "ipython3",
   "version": "3.9.13"
  }
 },
 "nbformat": 4,
 "nbformat_minor": 5
}

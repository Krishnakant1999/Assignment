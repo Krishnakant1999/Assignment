{
 "cells": [
  {
   "cell_type": "markdown",
   "id": "fd31430e",
   "metadata": {},
   "source": [
    "Q1. What is a database? Differentiate between SQL and NoSQL databases."
   ]
  },
  {
   "cell_type": "markdown",
   "id": "1767c0af",
   "metadata": {},
   "source": [
    "A database is an organized collection of structured information, or data, typically stored in a computer system. A database is usually controlled by a database management system (DBMS). Together, the data and the DBMS, along with the applications that are associated with them, are referred to as a database system and also called as just database."
   ]
  },
  {
   "cell_type": "markdown",
   "id": "28c80b30",
   "metadata": {},
   "source": [
    "SQL requires you to use predefined schemas to determine the structure of your data before you work with it. Also, all of your data must follow the same structure.\n",
    "This can require significant up-front preparation which means that a change in the structure would be both difficult and disruptive to your whole system. "
   ]
  },
  {
   "cell_type": "markdown",
   "id": "53a290cd",
   "metadata": {},
   "source": [
    "A NoSQL database has a dynamic schema for unstructured data. Data is stored in many ways which means it can be document-oriented, column-oriented, graph-based, or organized as a key-value store. This flexibility means that documents can be created without having a defined structure first. Also, each document can have its own unique structure. "
   ]
  },
  {
   "cell_type": "markdown",
   "id": "3ff9c9cf",
   "metadata": {},
   "source": [
    "Q.2. What is DDL? Explain why CREATE, DROP, ALTER, and TRUNCATE are used with an example."
   ]
  },
  {
   "cell_type": "markdown",
   "id": "c9f6f469",
   "metadata": {},
   "source": [
    "Data Definition Language(DDL) is a subset of SQL and a part of DBMS(Database Management System). DDL consist of Commands to commands like CREATE, ALTER, TRUNCATE and DROP.DDL used to manage structure of databases and its objects.DDL statements are used to create modify and delete database objects such tables, views , indexes and schemas."
   ]
  },
  {
   "cell_type": "markdown",
   "id": "51c965bf",
   "metadata": {},
   "source": [
    "1.CREATE"
   ]
  },
  {
   "cell_type": "markdown",
   "id": "df3e18a9",
   "metadata": {},
   "source": [
    "The CREATE statement is used to create new database objects such as tables, views, indexes, or schemas. It defines the structure and attributes of the object being created."
   ]
  },
  {
   "cell_type": "markdown",
   "id": "3b991ba6",
   "metadata": {},
   "source": [
    "2.DROP"
   ]
  },
  {
   "cell_type": "markdown",
   "id": "16742cbe",
   "metadata": {},
   "source": [
    "DROP: The DROP statement is used to delete an existing database object, such as a table, index, or view. Be cautious when using DROP, as it permanently deletes the object and its data"
   ]
  },
  {
   "cell_type": "code",
   "execution_count": null,
   "id": "d4f4dcb2",
   "metadata": {},
   "outputs": [],
   "source": [
    "DROP TABLE employees;\n"
   ]
  },
  {
   "cell_type": "markdown",
   "id": "cd4f38ce",
   "metadata": {},
   "source": [
    "3.ALTER "
   ]
  },
  {
   "cell_type": "markdown",
   "id": "96a19676",
   "metadata": {},
   "source": [
    "The ALTER statement is used to modify the structure of an existing database object. It can be used to add, modify, or drop columns from a table, change data types, or add constraints"
   ]
  },
  {
   "cell_type": "markdown",
   "id": "ed970178",
   "metadata": {},
   "source": [
    "4.TRUNCATE"
   ]
  },
  {
   "cell_type": "markdown",
   "id": "de2f33f7",
   "metadata": {},
   "source": [
    "The TRUNCATE statement is used to remove all rows from a table, but it keeps the structure intact. It is faster than using DELETE as it does not generate individual row-level delete operations. "
   ]
  },
  {
   "cell_type": "markdown",
   "id": "64d5a4fe",
   "metadata": {},
   "source": [
    "Q.3.What is DML? Explain INSERT, UPDATE, and DELETE with an example."
   ]
  },
  {
   "cell_type": "markdown",
   "id": "1eb5e0c6",
   "metadata": {},
   "source": [
    "DML stands for Data Manipulation Language, which is a subset of SQL (Structured Query Language) used for manipulating data within a database. DML consists of three main operations: INSERT, UPDATE, and DELETE"
   ]
  },
  {
   "cell_type": "markdown",
   "id": "ab4d4998",
   "metadata": {},
   "source": [
    "1.INSERT"
   ]
  },
  {
   "cell_type": "markdown",
   "id": "15f647a4",
   "metadata": {},
   "source": [
    "The INSERT statement is used to add new records into a database table. It allows you to specify the values that should be inserted into each column of the table. "
   ]
  },
  {
   "cell_type": "code",
   "execution_count": null,
   "id": "06eaa55f",
   "metadata": {},
   "outputs": [],
   "source": [
    "INSERT INTO Employees (ID, Name, Salary)\n",
    "VALUES (1, 'John Doe', 5000);\n"
   ]
  },
  {
   "cell_type": "markdown",
   "id": "ddfd0593",
   "metadata": {},
   "source": [
    "2.UPDATE"
   ]
  },
  {
   "cell_type": "markdown",
   "id": "eca27132",
   "metadata": {},
   "source": [
    "The UPDATE statement is used to modify existing records in a database table. It allows you to change the values of one or more columns based on specified conditions. "
   ]
  },
  {
   "cell_type": "code",
   "execution_count": null,
   "id": "ce2b8c30",
   "metadata": {},
   "outputs": [],
   "source": [
    "UPDATE Employees\n",
    "SET Salary = 6000\n",
    "WHERE ID = 1;\n"
   ]
  },
  {
   "cell_type": "markdown",
   "id": "b6414f8f",
   "metadata": {},
   "source": [
    "3.DELETE"
   ]
  },
  {
   "cell_type": "markdown",
   "id": "fe7a3a84",
   "metadata": {},
   "source": [
    "The DELETE statement is used to remove one or more records from a database table. It allows you to specify conditions to determine which records should be deleted."
   ]
  },
  {
   "cell_type": "code",
   "execution_count": null,
   "id": "2ee70ab0",
   "metadata": {},
   "outputs": [],
   "source": [
    "DELETE FROM Employees\n",
    "WHERE Salary < 2000;\n"
   ]
  },
  {
   "cell_type": "markdown",
   "id": "35df4418",
   "metadata": {},
   "source": [
    "q.4.What is DQL? Explain SELECT with an example."
   ]
  },
  {
   "cell_type": "markdown",
   "id": "64815365",
   "metadata": {},
   "source": [
    "DQL stands for Data Query Language, which is a subset of SQL (Structured Query Language) used for retrieving and querying data from a database. DQL consists mainly of the SELECT statement, which is used to specify the columns and conditions for fetching data from one or more tables."
   ]
  },
  {
   "cell_type": "markdown",
   "id": "1ad84e07",
   "metadata": {},
   "source": [
    "The SELECT statement retrieves data from one or more tables based on specified criteria. It allows you to specify the columns you want to retrieve, apply filters using conditions, perform calculations, and even join multiple tables to retrieve data from related entities."
   ]
  },
  {
   "cell_type": "code",
   "execution_count": null,
   "id": "080f0270",
   "metadata": {},
   "outputs": [],
   "source": [
    "SELECT ID, Name\n",
    "FROM Employees\n",
    "WHERE Salary > 5000;\n"
   ]
  },
  {
   "cell_type": "markdown",
   "id": "1e7bca25",
   "metadata": {},
   "source": [
    "Q.5. Explain Primary Key and Foreign Key."
   ]
  },
  {
   "cell_type": "markdown",
   "id": "f0edde69",
   "metadata": {},
   "source": [
    "1.Primary Key"
   ]
  },
  {
   "cell_type": "markdown",
   "id": "9e5310e4",
   "metadata": {},
   "source": [
    "A primary key is a column or a set of columns in a table that uniquely identifies each record in the table. It ensures that each row in the table is unique and can be used as a reference to identify and retrieve specific records."
   ]
  },
  {
   "cell_type": "markdown",
   "id": "7d23eab2",
   "metadata": {},
   "source": [
    "Each table can have only one primary key.\n",
    "The primary key column(s) must have a unique value for each record.\n",
    "The primary key column(s) cannot contain NULL values.\n",
    "The primary key provides a way to enforce data integrity and maintain the uniqueness of records."
   ]
  },
  {
   "cell_type": "markdown",
   "id": "c8db182a",
   "metadata": {},
   "source": [
    "For example, consider a table called \"Students\" with columns \"StudentID\" (primary key), \"Name,\" and \"Age.\" The \"StudentID\" column uniquely identifies each student, and no two students can have the same \"StudentID\" value."
   ]
  },
  {
   "cell_type": "markdown",
   "id": "127fb351",
   "metadata": {},
   "source": [
    "2.Foreign Key"
   ]
  },
  {
   "cell_type": "markdown",
   "id": "813ff7c5",
   "metadata": {},
   "source": [
    "A foreign key is a column or a set of columns in a table that refers to the primary key of another table. It establishes a relationship between two tables by enforcing referential integrity. The foreign key column(s) in one table references the primary key column(s) in another table."
   ]
  },
  {
   "cell_type": "markdown",
   "id": "0b0246f4",
   "metadata": {},
   "source": [
    "A table can have multiple foreign keys, referencing different tables.\n",
    "The foreign key column(s) in the referencing table must have values that exist in the referenced table's primary key column(s).\n",
    "The foreign key column(s) can contain NULL values if the relationship allows it."
   ]
  },
  {
   "cell_type": "markdown",
   "id": "f0f5c776",
   "metadata": {},
   "source": [
    "For example, consider two tables: \"Orders\" and \"Customers.\" The \"Orders\" table has a foreign key column \"CustomerID\" that references the primary key \"CustomerID\" in the \"Customers\" table. This establishes a relationship between the two tables, indicating that each order is associated with a specific customer"
   ]
  },
  {
   "cell_type": "markdown",
   "id": "fab1b606",
   "metadata": {},
   "source": [
    "Q.6.Write a python code to connect MySQL to python. Explain the cursor() and execute() method."
   ]
  },
  {
   "cell_type": "markdown",
   "id": "7bac1881",
   "metadata": {},
   "source": [
    "To connect MySQL to Python, we can use the mysql-connector-python library. "
   ]
  },
  {
   "cell_type": "code",
   "execution_count": null,
   "id": "2c6bab67",
   "metadata": {},
   "outputs": [],
   "source": [
    "import mysql.connector\n",
    "\n",
    "# Connect to MySQL database\n",
    "mydb = mysql.connector.connect(\n",
    "    host=\"localhost\",\n",
    "    user=\"abc\",\n",
    "    password=\"password\",\n",
    "    database=\"test2\"\n",
    ")\n",
    "\n",
    "# Create a cursor object\n",
    "cursor = mydb.cursor()\n",
    "\n",
    "# Execute SQL queries\n",
    "cursor.execute(\"SELECT * FROM test_teble\")\n",
    "result = cursor.fetchall()  # Retrieve all rows\n",
    "\n",
    "for row in result:\n",
    "    print(row)\n",
    "\n",
    "# Close the cursor and the database connection\n",
    "cursor.close()\n",
    "mydb.close()"
   ]
  },
  {
   "cell_type": "markdown",
   "id": "ee407e7d",
   "metadata": {},
   "source": [
    "Explanation of the cursor() method:\n",
    "\n",
    "The cursor() method creates a cursor object, which allows you to execute SQL queries and fetch results from the database.\n",
    "It is invoked on the database connection object (mydb.cursor() in this example) to create a new cursor associated with that connection."
   ]
  },
  {
   "cell_type": "code",
   "execution_count": null,
   "id": "c4c0cce2",
   "metadata": {},
   "outputs": [],
   "source": [
    "Explanation of the execute() method:\n",
    "\n",
    "The execute() method is used to execute SQL queries or statements.\n",
    "It is invoked on the cursor object (cursor.execute() in this example) to execute the specified query.\n",
    "The SQL query is passed as a string parameter to the execute() method."
   ]
  },
  {
   "cell_type": "markdown",
   "id": "121bd32d",
   "metadata": {},
   "source": [
    "Q.7.Give the order of execution of SQL clauses in an SQL query"
   ]
  },
  {
   "cell_type": "markdown",
   "id": "959f68fc",
   "metadata": {},
   "source": [
    "The order of execution of SQL clauses in an SQL query is as follows:\n",
    "\n",
    "FROM: The FROM clause specifies the table or tables from which the data will be retrieved. It defines the source tables for the query.\n",
    "\n",
    "WHERE: The WHERE clause filters the rows based on specified conditions. It allows you to specify criteria to select only the rows that meet certain conditions.\n",
    "\n",
    "GROUP BY: The GROUP BY clause is used to group the rows based on one or more columns. It is typically used in combination with aggregate functions to perform calculations on each group.\n",
    "\n",
    "HAVING: The HAVING clause filters the groups created by the GROUP BY clause. It allows you to specify conditions to filter the groups based on aggregate function results.\n",
    "\n",
    "SELECT: The SELECT clause specifies the columns to be retrieved from the table(s). It determines the data that will be returned as the result of the query.\n",
    "\n",
    "DISTINCT: The DISTINCT keyword, if used, removes duplicate rows from the result set.\n",
    "\n",
    "ORDER BY: The ORDER BY clause is used to sort the result set based on one or more columns. It arranges the rows in ascending or descending order.\n",
    "\n",
    "LIMIT/OFFSET: The LIMIT clause is used to limit the number of rows returned by the query. It is often used in combination with the ORDER BY clause. The OFFSET clause, if used, specifies the number of rows to skip before starting to return rows."
   ]
  },
  {
   "cell_type": "markdown",
   "id": "fbe34b68",
   "metadata": {},
   "source": [
    "It's important to note that not all clauses are required in every SQL query, and the specific order of execution may vary based on the query structure. Additionally, some databases may have additional clauses or variations that can affect the order of execution. However, the order provided above represents the typical sequence of clauses in a basic SQL query."
   ]
  }
 ],
 "metadata": {
  "kernelspec": {
   "display_name": "Python 3 (ipykernel)",
   "language": "python",
   "name": "python3"
  },
  "language_info": {
   "codemirror_mode": {
    "name": "ipython",
    "version": 3
   },
   "file_extension": ".py",
   "mimetype": "text/x-python",
   "name": "python",
   "nbconvert_exporter": "python",
   "pygments_lexer": "ipython3",
   "version": "3.9.13"
  }
 },
 "nbformat": 4,
 "nbformat_minor": 5
}

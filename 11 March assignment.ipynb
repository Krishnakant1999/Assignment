{
 "cells": [
  {
   "cell_type": "markdown",
   "id": "6dcd72f3",
   "metadata": {},
   "source": [
    "Q1: What is the difference between a t-test and a z-test? Provide an example scenario where you would \n",
    "use each type of test."
   ]
  },
  {
   "cell_type": "markdown",
   "id": "102798e9",
   "metadata": {},
   "source": [
    "some key differences between the two tests.\n",
    "\n",
    "Population Standard Deviation:\n",
    "\n",
    "Z-Test: The z-test assumes that the population standard deviation is known.\n",
    "T-Test: The t-test assumes that the population standard deviation is unknown and must be estimated from the sample.\n",
    "Sample Size:\n",
    "\n",
    "Z-Test: The z-test is appropriate when the sample size is large (typically, n > 30) due to the central limit theorem.\n",
    "T-Test: The t-test is more suitable when the sample size is small (typically, n < 30) or when the population standard deviation is unknown."
   ]
  },
  {
   "cell_type": "markdown",
   "id": "40610c8b",
   "metadata": {},
   "source": [
    "Z-Test:\n",
    "Let's say you want to test whether the mean height of a specific population is significantly different from the national average height of 170 cm. You collect a large sample of heights (n > 30) from the population and know the population standard deviation. In this case, you would use a z-test to compare the sample mean with the population mean.\n",
    "\n",
    "T-Test:\n",
    "Consider a scenario where you want to determine whether a new teaching method improves student performance. You randomly select two groups of students: one group taught using the traditional method, and the other group taught using the new method. You measure their test scores and want to compare the means of the two groups. Since the population standard deviation is unknown and you have small sample sizes (n < 30), you would employ a t-test to assess the significance of the difference between the means."
   ]
  },
  {
   "cell_type": "markdown",
   "id": "85b9fecd",
   "metadata": {},
   "source": [
    "Q2: Differentiate between one-tailed and two-tailed tests."
   ]
  },
  {
   "cell_type": "markdown",
   "id": "bff84e13",
   "metadata": {},
   "source": [
    "a one-tailed test is used when you have a specific directional hypothesis and want to focus on detecting deviations in that particular direction. A two-tailed test is employed when you have a non-directional hypothesis and want to determine if there is a significant difference in either direction from the null hypothesis."
   ]
  },
  {
   "cell_type": "markdown",
   "id": "be42ff55",
   "metadata": {},
   "source": [
    "Q3: Explain the concept of Type 1 and Type 2 errors in hypothesis testing. Provide an example scenario for \n",
    "each type of error."
   ]
  },
  {
   "cell_type": "markdown",
   "id": "f16d87f0",
   "metadata": {},
   "source": [
    "Type 1 Error (False Positive):\n",
    "A Type 1 error occurs when you reject the null hypothesis (consider it false) when, in fact, it is true. In other words, it is a false positive result where you conclude there is a significant effect or relationship when there isn't one in the population.\n",
    "Example scenario:\n",
    "Let's say a pharmaceutical company is testing a new drug for a specific condition. The null hypothesis states that the drug has no effect on the condition. However, due to a Type 1 error, the researchers conclude that the drug is effective, and they reject the null hypothesis. As a result, the drug might be promoted and used widely, even though it does not actually provide any benefit.\n",
    "\n",
    "Type 2 Error (False Negative):\n",
    "A Type 2 error occurs when you fail to reject the null hypothesis (consider it true) when, in reality, it is false. In this case, you fail to identify a significant effect or relationship that exists in the population.\n",
    "Example scenario:\n",
    "Consider a criminal trial where the null hypothesis assumes the defendant is innocent. However, due to a Type 2 error, the jury fails to reject the null hypothesis and concludes the defendant is innocent when, in fact, they are guilty."
   ]
  },
  {
   "cell_type": "markdown",
   "id": "cebcd508",
   "metadata": {},
   "source": [
    "Q4:  Explain Bayes's theorem with an example."
   ]
  },
  {
   "cell_type": "markdown",
   "id": "323b631e",
   "metadata": {},
   "source": [
    "Bayes's theorem is a fundamental concept in probability theory that describes how to update the probability of an event based on new evidence or information. It mathematically relates the conditional probability of an event with the prior probability and the probability of the evidence occurring.\n",
    "\n",
    "The general form of Bayes's theorem can be expressed as follows:\n",
    "\n",
    "P(A|B) = (P(B|A) * P(A)) / P(B)\n",
    "\n",
    "Where:\n",
    "\n",
    "P(A|B) is the conditional probability of event A given event B.\n",
    "P(B|A) is the conditional probability of event B given event A.\n",
    "P(A) is the prior probability of event A.\n",
    "P(B) is the prior probability of event B"
   ]
  },
  {
   "cell_type": "markdown",
   "id": "e2727f7a",
   "metadata": {},
   "source": [
    "there is a rare disease that affects 1 in 10,000 people, and a test has been developed to diagnose this disease. The test is 99% accurate, meaning it correctly identifies a person with the disease 99% of the time (true positive rate) and correctly identifies a person without the disease 99% of the time (true negative rate).\n",
    "\n",
    "Now, let's say you take the test and it comes back positive (indicating you have the disease). However, you want to know the probability that you actually have the disease given the positive test result.\n",
    "\n",
    "Let's define the events:\n",
    "A: Having the disease\n",
    "B: Testing positive\n",
    "\n",
    "Using Bayes's theorem, we can calculate the probability of having the disease given a positive test result:\n",
    "\n",
    "P(A|B) = (P(B|A) * P(A)) / P(B)\n",
    "\n",
    "In this example:\n",
    "P(A) = 1/10,000 (prior probability of having the disease)\n",
    "P(B|A) = 0.99 (probability of testing positive given you have the disease)\n",
    "P(B) = ? (probability of testing positive, which we need to determine)\n",
    "\n",
    "To find P(B), we can use the law of total probability:\n",
    "P(B) = P(B|A) * P(A) + P(B|¬A) * P(¬A)\n",
    "\n",
    "In this case:\n",
    "P(B|¬A) = 1 - 0.99 = 0.01 (probability of testing positive given you don't have the disease)\n",
    "P(¬A) = 1 - P(A) = 1 - (1/10,000) = 9,999/10,000 (probability of not having the disease)\n",
    "\n",
    "Now we can substitute these values into Bayes's theorem:\n",
    "\n",
    "P(A|B) = (0.99 * (1/10,000)) / [(0.99 * (1/10,000)) + (0.01 * (9,999/10,000))]"
   ]
  },
  {
   "cell_type": "markdown",
   "id": "39350f15",
   "metadata": {},
   "source": [
    "Q5: What is a confidence interval? How to calculate the confidence interval, explain with an example."
   ]
  },
  {
   "cell_type": "markdown",
   "id": "5c5ea81b",
   "metadata": {},
   "source": [
    "A confidence interval is a range of values within which we estimate the true value of a population parameter to lie. It provides a measure of the uncertainty associated with our estimate. The confidence level associated with the interval represents the probability that the interval contains the true population parameter."
   ]
  },
  {
   "cell_type": "markdown",
   "id": "113cc527",
   "metadata": {},
   "source": [
    "Sample data: A representative sample from the population of interest.\n",
    "Point estimate: A calculated value from the sample that serves as an estimate of the population parameter.\n",
    "Margin of error: The range of values added and subtracted from the point estimate to create the interval.\n",
    "Here's an example to illustrate the calculation of a confidence interval:\n",
    "\n",
    "Let's say you want to estimate the average height of students in a university. You collect a random sample of 100 students and measure their heights. The sample mean height is 165 cm, and the sample standard deviation is 5 cm.\n",
    "\n",
    "Determine the desired confidence level: Let's choose a 95% confidence level. This means we want to construct a confidence interval that will capture the true population mean height with 95% confidence.\n",
    "\n",
    "Calculate the margin of error: The margin of error depends on the standard deviation of the population, the sample size, and the chosen confidence level. Since the population standard deviation is unknown, we can estimate it using the sample standard deviation.\n",
    "\n",
    "Margin of error = (Z * (standard deviation / sqrt(sample size)))\n",
    "\n",
    "Here, Z is the critical value corresponding to the desired confidence level. For a 95% confidence level, the Z-value is approximately 1.96.\n",
    "\n",
    "Margin of error = (1.96 * (5 / sqrt(100))) = 0.98 cm\n",
    "\n",
    "Construct the confidence interval: We add and subtract the margin of error from the sample mean to create the interval.\n",
    "\n",
    "Confidence interval = (sample mean - margin of error, sample mean + margin of error)\n",
    "= (165 - 0.98, 165 + 0.98)\n",
    "= (164.02, 165.98)"
   ]
  },
  {
   "cell_type": "markdown",
   "id": "89aad117",
   "metadata": {},
   "source": [
    "Q6. Use Bayes' Theorem to calculate the probability of an event occurring given prior knowledge of the \n",
    "event's probability and new evidence. Provide a sample problem and solution."
   ]
  },
  {
   "cell_type": "markdown",
   "id": "4b1c8028",
   "metadata": {},
   "source": [
    "Bayes' Theorem is a fundamental principle in probability theory that allows us to update our beliefs about an event based on new evidence. It is mathematically expressed as:\n",
    "\n",
    "P(A|B) = (P(B|A) * P(A)) / P(B)\n",
    "\n",
    "Where:\n",
    "P(A|B) is the probability of event A occurring given that event B has occurred.\n",
    "P(B|A) is the probability of event B occurring given that event A has occurred.\n",
    "P(A) is the prior probability of event A.\n",
    "P(B) is the prior probability of event B.\n",
    "\n",
    "To demonstrate the usage of Bayes' Theorem, let's consider a sample problem:\n",
    "\n",
    "Problem: A factory produces light bulbs, and the quality control process indicates that only 2% of the bulbs are defective. However, a sample of bulbs is randomly selected, and it is known that the testing process correctly identifies a defective bulb 95% of the time. If a bulb is randomly chosen and found to be defective, what is the probability that it actually came from the factory?\n",
    "\n",
    "Solution:\n",
    "Let's define the events:\n",
    "A: The bulb is defective.\n",
    "B: The bulb came from the factory.\n",
    "\n",
    "Given information:\n",
    "P(A) = 0.02 (prior probability of a bulb being defective)\n",
    "P(B|A) = 0.95 (probability that a defective bulb is correctly identified)\n",
    "P(B) = 1 (assuming we only have bulbs from the factory)\n",
    "\n",
    "We want to find P(B|A), the probability that the bulb came from the factory given that it is defective.\n",
    "\n",
    "Using Bayes' Theorem:\n",
    "\n",
    "P(B|A) = (P(A|B) * P(B)) / P(A)\n",
    "\n",
    "P(A|B) is the probability that the bulb is defective given that it came from the factory. Since we assume all bulbs come from the factory, the probability is 1.\n",
    "\n",
    "P(B|A) = (1 * 1) / P(A)\n",
    "\n",
    "To calculate P(A), we can use the Law of Total Probability. Since we have two possibilities, either the bulb is defective or it's not defective:\n",
    "\n",
    "P(A) = P(A and B) + P(A and not B)\n",
    "\n",
    "P(A and B) = P(B|A) * P(A) = 0.95 * 0.02\n",
    "P(A and not B) = P(not B|A) * P(A) = 0 * 0.02 (assuming non-defective bulbs are never identified as defective)\n",
    "\n",
    "P(A) = P(A and B) + P(A and not B) = 0.95 * 0.02 + 0 * 0.02 = 0.019\n",
    "\n",
    "Now we can substitute the values into Bayes' Theorem:\n",
    "\n",
    "P(B|A) = (1 * 1) / P(A) = 1 / 0.019 ≈ 0.0526"
   ]
  },
  {
   "cell_type": "markdown",
   "id": "8fb7dc42",
   "metadata": {},
   "source": [
    "Q7. Calculate the 95% confidence interval for a sample of data with a mean of 50 and a standard deviation \n",
    "of 5. Interpret the results."
   ]
  },
  {
   "cell_type": "markdown",
   "id": "fe00b9db",
   "metadata": {},
   "source": [
    "Sample mean (x̄) = 50\n",
    "Standard deviation (σ) = 5\n",
    "Sample size (n) = 30 (assumed)\n",
    "\n",
    "To calculate the 95% confidence interval, we can use the formula:\n",
    "\n",
    "Confidence Interval = x̄ ± (z * σ / √n)\n",
    "\n",
    "Where:\n",
    "x̄ is the sample mean\n",
    "z is the critical value corresponding to the desired confidence level (95% confidence level corresponds to z ≈ 1.96)\n",
    "σ is the standard deviation\n",
    "n is the sample size\n",
    "\n",
    "Plugging in the values:\n",
    "\n",
    "Confidence Interval = 50 ± (1.96 * 5 / √30)\n",
    "\n",
    "Now, let's calculate the confidence interval:\n",
    "\n",
    "Confidence Interval = 50 ± (1.96 * 5 / √30) ≈ 50 ± 1.79\n",
    "\n",
    "Interpretation:\n",
    "The 95% confidence interval for this sample data is approximately (48.21, 51.79)."
   ]
  },
  {
   "cell_type": "markdown",
   "id": "45f923d8",
   "metadata": {},
   "source": [
    "Q8. What is the margin of error in a confidence interval? How does sample size affect the margin of error? \n",
    "Provide an example of a scenario where a larger sample size would result in a smaller margin of error."
   ]
  },
  {
   "cell_type": "markdown",
   "id": "eac706eb",
   "metadata": {},
   "source": [
    "The margin of error is a measure of the uncertainty associated with estimating a population parameter based on a sample. It represents the maximum amount by which the estimated value might differ from the true value in either direction.\n",
    "\n",
    "Margin of Error = Critical Value * Standard Error\n",
    "\n",
    "The sample size has an inverse relationship with the margin of error. As the sample size increases, the margin of error decreases. This occurs because larger sample sizes provide more information about the population, resulting in a more precise estimate of the population parameter."
   ]
  },
  {
   "cell_type": "markdown",
   "id": "25e6ece9",
   "metadata": {},
   "source": [
    "Scenario 1:\n",
    "Sample size (n) = 100\n",
    "Margin of Error = 1.96 * Standard Error\n",
    "\n",
    "Scenario 2:\n",
    "Sample size (n) = 400\n",
    "Margin of Error = 1.96 * Standard Error (assuming the same critical value)\n",
    "\n",
    "In Scenario 2, the larger sample size (n = 400) will result in a smaller margin of error compared to Scenario 1 (n = 100) because a larger sample size reduces the standard error. "
   ]
  },
  {
   "cell_type": "markdown",
   "id": "b58cd53e",
   "metadata": {},
   "source": [
    "Q9. Calculate the z-score for a data point with a value of 75, a population mean of 70, and a population \n",
    "standard deviation of 5. Interpret the results."
   ]
  },
  {
   "cell_type": "markdown",
   "id": "e8bb7a79",
   "metadata": {},
   "source": [
    "z = (x - μ) / σ\n",
    "\n",
    "Where:\n",
    "z is the z-score\n",
    "x is the data point value\n",
    "μ is the population mean\n",
    "σ is the population standard deviation\n",
    "\n",
    "Given:\n",
    "Data point value (x) = 75\n",
    "Population mean (μ) = 70\n",
    "Population standard deviation (σ) = 5\n",
    "\n",
    "Plugging in the values:\n",
    "\n",
    "z = (75 - 70) / 5 = 1\n",
    "\n",
    "The z-score for the data point with a value of 75 is 1.\n",
    "\n",
    "Interpretation:\n",
    "The z-score indicates how many standard deviations the data point is away from the population mean. In this case, a z-score of 1 means that the data point of 75 is 1 standard deviation above the population mean of 70.\n",
    "\n",
    "Since the z-score is positive, it indicates that the data point is above the mean. Specifically, it is 1 standard deviation above the mean. The positive z-score suggests that the data point is relatively higher compared to the average value in the population.\n",
    "\n",
    "Z-scores are useful for standardizing data and comparing it across different distributions. By converting data points into z-scores, we can analyze how each data point deviates from the mean in terms of standard deviations, irrespective of the specific scales or units of measurement."
   ]
  },
  {
   "cell_type": "markdown",
   "id": "ec7ece7c",
   "metadata": {},
   "source": [
    "Q10. In a study of the effectiveness of a new weight loss drug, a sample of 50 participants lost an average \n",
    "of 6 pounds with a standard deviation of 2.5 pounds. Conduct a hypothesis test to determine if the drug is \n",
    "significantly effective at a 95% confidence level using a t-test."
   ]
  },
  {
   "cell_type": "markdown",
   "id": "0071a9de",
   "metadata": {},
   "source": [
    "Null Hypothesis (H₀): The weight loss drug is not significantly effective. The average weight loss in the population is equal to or less than zero.\n",
    "Alternative Hypothesis (H₁): The weight loss drug is significantly effective. The average weight loss in the population is greater than zero.\n",
    "\n",
    "We will use a one-sample t-test since we have one sample mean and want to compare it to a hypothetical population mean.\n",
    "\n",
    "Given:\n",
    "Sample size (n) = 50\n",
    "Sample mean (x̄) = 6 pounds\n",
    "Sample standard deviation (s) = 2.5 pounds\n",
    "\n",
    "We will assume a 95% confidence level, which corresponds to a significance level (α) of 0.05.\n",
    "\n",
    "To conduct the t-test, we need to calculate the t-statistic and compare it to the critical value.\n",
    "\n",
    "The t-statistic is given by:\n",
    "\n",
    "t = (x̄ - μ₀) / (s / √n)\n",
    "\n",
    "t = (6 - 0) / (2.5 / √50)\n",
    "\n",
    "t = 6 / (2.5 / 7.071) ≈ 16.97\n",
    "\n",
    "Next, we need to find the critical value for a one-tailed t-test with a significance level of 0.05 and 49 degrees of freedom (n - 1).\n",
    "\n",
    "Looking up the critical value in a t-distribution table or using statistical software, we find that the critical value is approximately 1.676.\n",
    "\n",
    "Since the t-statistic (16.97) is greater than the critical value (1.676), we reject the null hypothesis.\n",
    "\n",
    "Interpretation:\n",
    "Based on the results of the t-test, at a 95% confidence level, there is sufficient evidence to conclude that the weight loss drug is significantly effective. The sample of 50 participants lost an average of 6 pounds, which is significantly greater than zero. This suggests that the weight loss drug has a positive effect on weight loss compared to no treatment."
   ]
  },
  {
   "cell_type": "markdown",
   "id": "d5e7e3e7",
   "metadata": {},
   "source": [
    "Q11. In a survey of 500 people, 65% reported being satisfied with their current job. Calculate the 95% \n",
    "confidence interval for the true proportion of people who are satisfied with their job."
   ]
  },
  {
   "cell_type": "markdown",
   "id": "b0e53b35",
   "metadata": {},
   "source": [
    "Confidence Interval = p̂ ± z * √((p̂ * (1 - p̂)) / n)\n",
    "\n",
    "Where:\n",
    "Confidence Interval is the range around the sample proportion\n",
    "p̂ is the sample proportion (65% or 0.65 in this case)\n",
    "z is the critical value corresponding to the desired confidence level (95% confidence level corresponds to z ≈ 1.96)\n",
    "n is the sample size (500 in this case)\n",
    "\n",
    "Plugging in the values:\n",
    "\n",
    "Confidence Interval = 0.65 ± 1.96 * √((0.65 * (1 - 0.65)) / 500)\n",
    "\n",
    "Now, let's calculate the confidence interval:\n",
    "\n",
    "Confidence Interval = 0.65 ± 1.96 * √((0.65 * 0.35) / 500) ≈ 0.65 ± 0.036\n",
    "\n",
    "Interpretation:\n",
    "The 95% confidence interval for the true proportion of people who are satisfied with their job is approximately (0.614, 0.686)."
   ]
  },
  {
   "cell_type": "markdown",
   "id": "95b92db1",
   "metadata": {},
   "source": [
    "Q12. A researcher is testing the effectiveness of two different teaching methods on student performance. \n",
    "Sample A has a mean score of 85 with a standard deviation of 6, while sample B has a mean score of 82 \n",
    "with a standard deviation of 5. Conduct a hypothesis test to determine if the two teaching methods have a \n",
    "significant difference in student performance using a t-test with a significance level of 0.01."
   ]
  },
  {
   "cell_type": "markdown",
   "id": "2613dbb0",
   "metadata": {},
   "source": [
    "Null Hypothesis (H₀): There is no significant difference in student performance between the two teaching methods. The population means are equal (μ₁ = μ₂).\n",
    "Alternative Hypothesis (H₁): There is a significant difference in student performance between the two teaching methods. The population means are not equal (μ₁ ≠ μ₂).\n",
    "\n",
    "Given:\n",
    "Sample A:\n",
    "Sample mean (x̄₁) = 85\n",
    "Sample standard deviation (s₁) = 6\n",
    "\n",
    "Sample B:\n",
    "Sample mean (x̄₂) = 82\n",
    "Sample standard deviation (s₂) = 5\n",
    "\n",
    "We will assume a significance level (α) of 0.01.\n",
    "\n",
    "To conduct the t-test, we need to calculate the t-statistic and compare it to the critical value.\n",
    "\n",
    "The t-statistic for a two-sample t-test is given by:\n",
    "\n",
    "t = (x̄₁ - x̄₂) / √((s₁² / n₁) + (s₂² / n₂))\n",
    "\n",
    "Where:\n",
    "x̄₁ and x̄₂ are the sample means for samples A and B, respectively\n",
    "s₁ and s₂ are the sample standard deviations for samples A and B, respectively\n",
    "n₁ and n₂ are the sample sizes for samples A and B, respectively\n",
    "\n",
    "Plugging in the values:\n",
    "\n",
    "t = (85 - 82) / √((6² / n₁) + (5² / n₂))\n",
    "\n",
    "To calculate the degrees of freedom (df) for the t-distribution, we use the formula:\n",
    "\n",
    "df = (s₁² / n₁ + s₂² / n₂)² / ((s₁² / n₁)² / (n₁ - 1) + (s₂² / n₂)² / (n₂ - 1))\n",
    "\n",
    "Now, let's calculate the t-statistic and degrees of freedom:\n",
    "\n",
    "df = (6² / n₁ + 5² / n₂)² / ((6² / n₁)² / (n₁ - 1) + (5² / n₂)² / (n₂ - 1))\n",
    "= (36 / n₁ + 25 / n₂)² / ((36 / n₁)² / (n₁ - 1) + (25 / n₂)² / (n₂ - 1))\n",
    "\n",
    "t = (85 - 82) / √((6² / n₁) + (5² / n₂))\n",
    "\n",
    "Next, we need to find the critical value for a two-tailed t-test with a significance level of 0.01 and the degrees of freedom calculated above. Using statistical software or a t-distribution table, we find the critical value to be approximately ±2.615.\n",
    "\n",
    "Now, we can compare the absolute value of the t-statistic to the critical value to determine if we reject or fail to reject the null hypothesis.\n",
    "\n",
    "If |t| > critical value, we reject the null hypothesis.\n",
    "If |t| ≤ critical value, we fail to reject the null hypothesis.\n",
    "\n",
    "Interpretation:\n",
    "Based on the results of the t-test, if the absolute value of the calculated t-statistic is greater than 2.615, we reject the null hypothesis and conclude that there is a significant difference in student performance between the two teaching methods. If the absolute value of the calculated t-statistic is less than or equal to 2.615, we fail to reject the null hypothesis and conclude that there is not enough evidence to suggest a significant difference in student performance between the two teaching methods."
   ]
  },
  {
   "cell_type": "markdown",
   "id": "f6255bf8",
   "metadata": {},
   "source": [
    "Q13. A population has a mean of 60 and a standard deviation of 8. A sample of 50 observations has a mean \n",
    "of 65. Calculate the 90% confidence interval for the true population mean."
   ]
  },
  {
   "cell_type": "markdown",
   "id": "1309cd84",
   "metadata": {},
   "source": [
    "Confidence Interval = x̄ ± z * (σ / √n)\n",
    "\n",
    "Where:\n",
    "Confidence Interval is the range around the sample mean\n",
    "x̄ is the sample mean (65 in this case)\n",
    "z is the critical value corresponding to the desired confidence level (90% confidence level corresponds to z ≈ 1.645)\n",
    "σ is the population standard deviation (8 in this case)\n",
    "n is the sample size (50 in this case)\n",
    "\n",
    "Plugging in the values:\n",
    "\n",
    "Confidence Interval = 65 ± 1.645 * (8 / √50)\n",
    "\n",
    "Now, let's calculate the confidence interval:\n",
    "\n",
    "Confidence Interval = 65 ± 1.645 * (8 / √50) ≈ 65 ± 2.297\n",
    "\n",
    "Interpretation:\n",
    "The 90% confidence interval for the true population mean is approximately (62.703, 67.297)."
   ]
  },
  {
   "cell_type": "markdown",
   "id": "0f1cd6ab",
   "metadata": {},
   "source": [
    "Q14. In a study of the effects of caffeine on reaction time, a sample of 30 participants had an average \n",
    "reaction time of 0.25 seconds with a standard deviation of 0.05 seconds. Conduct a hypothesis test to \n",
    "determine if the caffeine has a significant effect on reaction time at a 90% confidence level using a t-test."
   ]
  },
  {
   "cell_type": "markdown",
   "id": "baa9a531",
   "metadata": {},
   "source": [
    "Null Hypothesis (H₀): Caffeine does not have a significant effect on reaction time. The population mean reaction time is equal to or greater than 0.25 seconds.\n",
    "Alternative Hypothesis (H₁): Caffeine has a significant effect on reaction time. The population mean reaction time is less than 0.25 seconds.\n",
    "\n",
    "We will use a one-sample t-test since we have one sample mean and want to compare it to a hypothetical population mean.\n",
    "\n",
    "Given:\n",
    "Sample size (n) = 30\n",
    "Sample mean (x̄) = 0.25 seconds\n",
    "Sample standard deviation (s) = 0.05 seconds\n",
    "\n",
    "We will assume a 90% confidence level, which corresponds to a significance level (α) of 0.10.\n",
    "\n",
    "To conduct the t-test, we need to calculate the t-statistic and compare it to the critical value.\n",
    "\n",
    "The t-statistic is given by:\n",
    "\n",
    "t = (x̄ - μ₀) / (s / √n)\n",
    "\n",
    "Where:\n",
    "x̄ is the sample mean\n",
    "μ₀ is the hypothesized population mean (in this case, we assume it to be 0.25 seconds since the null hypothesis states no effect of caffeine)\n",
    "s is the sample standard deviation\n",
    "n is the sample size\n",
    "\n",
    "Plugging in the values:\n",
    "\n",
    "t = (0.25 - 0.25) / (0.05 / √30)\n",
    "\n",
    "t = 0 / (0.05 / √30) = 0 / 0.009128 ≈ 0\n",
    " for a one-tailed t-test with a significance level of 0.10 and 29 degrees of freedom (n - 1).\n",
    " we find that the critical value is approximately -1.311 (since we are testing if the population mean is less than 0.25 seconds).\n",
    "\n",
    "Since the t-statistic (0) is not less than the critical value (-1.311), we fail to reject the null hypothesis.\n",
    "\n",
    "Interpretation:\n",
    "Based on the results of the t-test, at a 90% confidence level, there is not enough evidence to conclude that caffeine has a significant effect on reaction time. The sample of 30 participants did not provide sufficient evidence to reject the null hypothesis that the population mean reaction time is equal to or greater than 0.25 seconds."
   ]
  }
 ],
 "metadata": {
  "kernelspec": {
   "display_name": "Python 3 (ipykernel)",
   "language": "python",
   "name": "python3"
  },
  "language_info": {
   "codemirror_mode": {
    "name": "ipython",
    "version": 3
   },
   "file_extension": ".py",
   "mimetype": "text/x-python",
   "name": "python",
   "nbconvert_exporter": "python",
   "pygments_lexer": "ipython3",
   "version": "3.9.13"
  }
 },
 "nbformat": 4,
 "nbformat_minor": 5
}

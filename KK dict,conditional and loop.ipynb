{
 "cells": [
  {
   "cell_type": "code",
   "execution_count": 17,
   "id": "e8323ffb-2d5f-4eca-9cc7-48df9b12e768",
   "metadata": {},
   "outputs": [
    {
     "name": "stdout",
     "output_type": "stream",
     "text": [
      "Hi\n"
     ]
    }
   ],
   "source": [
    "print('Hi')"
   ]
  },
  {
   "cell_type": "code",
   "execution_count": 18,
   "id": "38e4bfcb-c15a-4cc9-96a0-84bb7e24adff",
   "metadata": {},
   "outputs": [
    {
     "name": "stdout",
     "output_type": "stream",
     "text": [
      "My name is KK\n"
     ]
    }
   ],
   "source": [
    "print('My name is KK')"
   ]
  },
  {
   "cell_type": "code",
   "execution_count": 19,
   "id": "fd931a8d-63d9-4f0d-a651-a946d75fb765",
   "metadata": {},
   "outputs": [
    {
     "name": "stdout",
     "output_type": "stream",
     "text": [
      "IIT Tirupati\n"
     ]
    }
   ],
   "source": [
    "print('IIT Tirupati') "
   ]
  },
  {
   "cell_type": "code",
   "execution_count": 20,
   "id": "954a26a8-a1e3-4ae4-8107-003f4fde4b14",
   "metadata": {},
   "outputs": [],
   "source": [
    "d = {}"
   ]
  },
  {
   "cell_type": "code",
   "execution_count": 21,
   "id": "4dd38f99-27c6-49f7-a608-d078ffab344b",
   "metadata": {},
   "outputs": [
    {
     "data": {
      "text/plain": [
       "dict"
      ]
     },
     "execution_count": 21,
     "metadata": {},
     "output_type": "execute_result"
    }
   ],
   "source": [
    "type(d)"
   ]
  },
  {
   "cell_type": "code",
   "execution_count": 22,
   "id": "41230cb0-2c1d-4860-aee7-f1c93462992e",
   "metadata": {},
   "outputs": [],
   "source": [
    "d1 = {'key': \"Krish\"}"
   ]
  },
  {
   "cell_type": "code",
   "execution_count": 23,
   "id": "73fc26a8-b303-4cb9-9a76-2c047dd6bf37",
   "metadata": {},
   "outputs": [
    {
     "data": {
      "text/plain": [
       "{'key': 'Krish'}"
      ]
     },
     "execution_count": 23,
     "metadata": {},
     "output_type": "execute_result"
    }
   ],
   "source": [
    "d1"
   ]
  },
  {
   "cell_type": "code",
   "execution_count": 24,
   "id": "ba9f6914-4054-4cf1-84c6-7906a8e0ab31",
   "metadata": {},
   "outputs": [],
   "source": [
    "d2 = {'name' : \"Krishnakant\",'email':\"krishnakantuttarwar208@gmail.com\"}"
   ]
  },
  {
   "cell_type": "code",
   "execution_count": 25,
   "id": "2010418e-6bd5-45b5-b5af-98b43027694c",
   "metadata": {},
   "outputs": [
    {
     "data": {
      "text/plain": [
       "{'name': 'Krishnakant', 'email': 'krishnakantuttarwar208@gmail.com'}"
      ]
     },
     "execution_count": 25,
     "metadata": {},
     "output_type": "execute_result"
    }
   ],
   "source": [
    "d2"
   ]
  },
  {
   "cell_type": "code",
   "execution_count": 26,
   "id": "c44c3414-4252-4712-9195-967c94dcb2f3",
   "metadata": {},
   "outputs": [],
   "source": [
    "d3 = {2324 : 'Bat',  23:'Cat',True : 34}"
   ]
  },
  {
   "cell_type": "markdown",
   "id": "52d56cbf-f2dd-4d97-b9f7-9355e7871b59",
   "metadata": {},
   "source": [
    "We cannot take special case char and we can take boolan as key"
   ]
  },
  {
   "cell_type": "code",
   "execution_count": 27,
   "id": "5aec52c1-1bc4-47dd-88b1-c05002fe0116",
   "metadata": {},
   "outputs": [
    {
     "data": {
      "text/plain": [
       "{2324: 'Bat', 23: 'Cat', True: 34}"
      ]
     },
     "execution_count": 27,
     "metadata": {},
     "output_type": "execute_result"
    }
   ],
   "source": [
    "d3"
   ]
  },
  {
   "cell_type": "code",
   "execution_count": 28,
   "id": "c3f6c3f5-71d8-495b-9c4d-c76b0a4013c1",
   "metadata": {},
   "outputs": [
    {
     "data": {
      "text/plain": [
       "'Bat'"
      ]
     },
     "execution_count": 28,
     "metadata": {},
     "output_type": "execute_result"
    }
   ],
   "source": [
    "d3[2324]"
   ]
  },
  {
   "cell_type": "code",
   "execution_count": 29,
   "id": "ae435dc5-f823-4c04-a43a-895c2b0ec60e",
   "metadata": {},
   "outputs": [
    {
     "data": {
      "text/plain": [
       "34"
      ]
     },
     "execution_count": 29,
     "metadata": {},
     "output_type": "execute_result"
    }
   ],
   "source": [
    "d3[True]"
   ]
  },
  {
   "cell_type": "code",
   "execution_count": 14,
   "id": "cfed5561-e14a-4813-b663-f67920070495",
   "metadata": {},
   "outputs": [
    {
     "data": {
      "text/plain": [
       "34"
      ]
     },
     "execution_count": 14,
     "metadata": {},
     "output_type": "execute_result"
    }
   ],
   "source": [
    "d3[1]"
   ]
  },
  {
   "cell_type": "code",
   "execution_count": 15,
   "id": "6a448990-ae7e-4190-85a8-c58fe5f30444",
   "metadata": {},
   "outputs": [
    {
     "ename": "KeyError",
     "evalue": "0",
     "output_type": "error",
     "traceback": [
      "\u001b[0;31m---------------------------------------------------------------------------\u001b[0m",
      "\u001b[0;31mKeyError\u001b[0m                                  Traceback (most recent call last)",
      "Cell \u001b[0;32mIn[15], line 1\u001b[0m\n\u001b[0;32m----> 1\u001b[0m \u001b[43md3\u001b[49m\u001b[43m[\u001b[49m\u001b[38;5;241;43m0\u001b[39;49m\u001b[43m]\u001b[49m\n",
      "\u001b[0;31mKeyError\u001b[0m: 0"
     ]
    }
   ],
   "source": [
    "d3[0]"
   ]
  },
  {
   "cell_type": "code",
   "execution_count": null,
   "id": "4b0df049-2a9c-4e23-a47c-39af83c64bcf",
   "metadata": {},
   "outputs": [],
   "source": [
    "d4 = {'name': \"Krish\",'email':\"kk@gmail.com\",'name':\"KK\"}"
   ]
  },
  {
   "cell_type": "code",
   "execution_count": null,
   "id": "fda30ed8-c5ad-49a5-8f7f-336641922943",
   "metadata": {},
   "outputs": [],
   "source": [
    "d4['name']"
   ]
  },
  {
   "cell_type": "markdown",
   "id": "2e7025fa-0ba5-4fae-a9fe-16d253fe3f39",
   "metadata": {},
   "source": [
    "Last updated value will be taken"
   ]
  },
  {
   "cell_type": "code",
   "execution_count": null,
   "id": "6ee417c2-03c9-481e-8493-27e98dcb468c",
   "metadata": {},
   "outputs": [],
   "source": [
    "d5 = {'company':\"pwsills\",'courses':[\"web  dev\",\"data scinece\",\"Java with DSA\"]}"
   ]
  },
  {
   "cell_type": "code",
   "execution_count": null,
   "id": "7c7e1186-5626-4dd9-9715-7d8fa05e1a9c",
   "metadata": {},
   "outputs": [],
   "source": [
    "d5['courses']"
   ]
  },
  {
   "cell_type": "code",
   "execution_count": null,
   "id": "a0258773-66fa-4385-a4d3-99d90ba8ef1d",
   "metadata": {},
   "outputs": [],
   "source": [
    "d5['courses'][2]"
   ]
  },
  {
   "cell_type": "code",
   "execution_count": null,
   "id": "5c87447e-295d-47eb-9d03-1df0325a49cc",
   "metadata": {},
   "outputs": [],
   "source": [
    "d6 = {'number':[2,3,45,6,75,43,67,45],\"assignment\":(1,23,32),'lanch date':\"23/02/2023\",'class time':{'web_dev':'3 pm','data science':'4 pm','Java with DSA':'5 pm'}}"
   ]
  },
  {
   "cell_type": "code",
   "execution_count": null,
   "id": "6d714f27-9ef6-4fb0-b05a-ae34bb83e6cd",
   "metadata": {},
   "outputs": [],
   "source": [
    "d6"
   ]
  },
  {
   "cell_type": "code",
   "execution_count": null,
   "id": "47d51396-1118-4038-9562-5b10da8bf7c7",
   "metadata": {},
   "outputs": [],
   "source": [
    "d6['class time']['Java with DSA']"
   ]
  },
  {
   "cell_type": "code",
   "execution_count": null,
   "id": "42610b12-4fb4-4bf3-8fad-6ede2dd04db8",
   "metadata": {},
   "outputs": [],
   "source": [
    "d6['mentor']= ['Sudhunshu','krish','anurag','hyder']"
   ]
  },
  {
   "cell_type": "code",
   "execution_count": null,
   "id": "1c3e0f7c-25df-4923-a3d1-28c1f83842a0",
   "metadata": {},
   "outputs": [],
   "source": [
    "d6"
   ]
  },
  {
   "cell_type": "code",
   "execution_count": null,
   "id": "27c98a50-d697-4130-a633-7a37680f04f2",
   "metadata": {},
   "outputs": [],
   "source": [
    "del d6['number']"
   ]
  },
  {
   "cell_type": "code",
   "execution_count": null,
   "id": "e51a23bd-3795-48e3-80ce-e65f50139829",
   "metadata": {},
   "outputs": [],
   "source": [
    "d6"
   ]
  },
  {
   "cell_type": "code",
   "execution_count": null,
   "id": "f77ea69d-2901-4af3-8393-92fe5d25afe6",
   "metadata": {},
   "outputs": [],
   "source": [
    "list(d6.keys())"
   ]
  },
  {
   "cell_type": "code",
   "execution_count": null,
   "id": "12d9a997-2cd8-4d44-ab00-29152bfe9b37",
   "metadata": {},
   "outputs": [],
   "source": [
    "list(d6.values())"
   ]
  },
  {
   "cell_type": "code",
   "execution_count": null,
   "id": "37590202-a751-4c54-955e-5a6b4a495c2d",
   "metadata": {},
   "outputs": [],
   "source": [
    "list(d6.items())"
   ]
  },
  {
   "cell_type": "code",
   "execution_count": null,
   "id": "acd52bbe-9ff9-4d3f-9c06-964817c36f5b",
   "metadata": {},
   "outputs": [],
   "source": [
    "d6"
   ]
  },
  {
   "cell_type": "code",
   "execution_count": null,
   "id": "a2089e1d-63b6-440f-81c0-206613b85b32",
   "metadata": {},
   "outputs": [],
   "source": [
    "d6.pop('assignment')"
   ]
  },
  {
   "cell_type": "code",
   "execution_count": null,
   "id": "bb07b3da-5da1-4c1f-9dac-4ecb628b6f56",
   "metadata": {},
   "outputs": [],
   "source": [
    "d6"
   ]
  },
  {
   "cell_type": "code",
   "execution_count": null,
   "id": "ee033c56-9cd9-4a58-8dd9-379c00afc9b5",
   "metadata": {},
   "outputs": [],
   "source": [
    "d6"
   ]
  },
  {
   "cell_type": "code",
   "execution_count": null,
   "id": "8eb61768-6d00-49bd-a9c1-8e53bc0d1f28",
   "metadata": {},
   "outputs": [],
   "source": [
    "marks = 1000\n",
    "if marks >= 80 :\n",
    "    print ('You will be a part of A0 Batch')\n",
    "elif marks >= 60 and marks< 80:\n",
    "    print(\"You will be a part of A1 Batch\")\n",
    "elif marks >= 40 and marks< 60:\n",
    "    print (\"You will be a part of A2 Batch\")\n",
    "\n",
    "else :\n",
    "    print(\"You will be a part of A3 Batch\")"
   ]
  },
  {
   "cell_type": "code",
   "execution_count": null,
   "id": "1a971315-85dd-4b49-8f2d-d3f196c79876",
   "metadata": {},
   "outputs": [],
   "source": [
    " 10 >= 80"
   ]
  },
  {
   "cell_type": "code",
   "execution_count": 31,
   "id": "0d11eff2-c6e1-4b46-b243-ee5f529adf5a",
   "metadata": {},
   "outputs": [
    {
     "name": "stdout",
     "output_type": "stream",
     "text": [
      "You will be a part of A2 Batch\n"
     ]
    }
   ],
   "source": [
    "marks = 45\n",
    "if marks >= 80 :\n",
    "    print ('You will be a part of A0 Batch')\n",
    "elif marks >= 60 and marks< 80:\n",
    "    print(\"You will be a part of A1 Batch\")\n",
    "elif marks >= 40 and marks< 60:\n",
    "    print (\"You will be a part of A2 Batch\")\n",
    "else :\n",
    "    print(\"You will be a part of A3 Batch\")"
   ]
  },
  {
   "cell_type": "code",
   "execution_count": 33,
   "id": "45fabdb2-4a55-4259-9f96-c6b61d4d0fd2",
   "metadata": {},
   "outputs": [
    {
     "data": {
      "text/plain": [
       "True"
      ]
     },
     "execution_count": 33,
     "metadata": {},
     "output_type": "execute_result"
    }
   ],
   "source": [
    "10 >= 3"
   ]
  },
  {
   "cell_type": "code",
   "execution_count": 38,
   "id": "a07b7be1-bef9-40df-bc8b-8b5ed237736f",
   "metadata": {},
   "outputs": [
    {
     "name": "stdout",
     "output_type": "stream",
     "text": [
      "I will purchse\n"
     ]
    }
   ],
   "source": [
    "price = 233\n",
    "if price>= 1000 :\n",
    "    print(\"I will not purchase\")\n",
    "else :\n",
    "    print(\"I will purchse\")"
   ]
  },
  {
   "cell_type": "code",
   "execution_count": 48,
   "id": "da3ad688-a68c-4597-af16-170be131ed7d",
   "metadata": {},
   "outputs": [
    {
     "name": "stdout",
     "output_type": "stream",
     "text": [
      " It's OK baby\n"
     ]
    }
   ],
   "source": [
    "price = 700\n",
    "if price>= 1000 :\n",
    "    print(\"I will not purchase\")\n",
    "    if price>= 5000:\n",
    "        print(\"This is too much\")  \n",
    "elif price <= 2000 :\n",
    "            print(\" It's OK baby\")"
   ]
  },
  {
   "cell_type": "code",
   "execution_count": 49,
   "id": "947b6585-55bd-451d-97d1-f850f30d33b2",
   "metadata": {},
   "outputs": [],
   "source": [
    "l = [1,23,4,5,6,7,3,2,2]"
   ]
  },
  {
   "cell_type": "code",
   "execution_count": 50,
   "id": "7451b494-3842-4af2-ae50-7452968e74bf",
   "metadata": {},
   "outputs": [
    {
     "ename": "TypeError",
     "evalue": "can only concatenate list (not \"int\") to list",
     "output_type": "error",
     "traceback": [
      "\u001b[0;31m---------------------------------------------------------------------------\u001b[0m",
      "\u001b[0;31mTypeError\u001b[0m                                 Traceback (most recent call last)",
      "Cell \u001b[0;32mIn[50], line 1\u001b[0m\n\u001b[0;32m----> 1\u001b[0m l \u001b[38;5;241m=\u001b[39m \u001b[43ml\u001b[49m\u001b[38;5;241;43m+\u001b[39;49m\u001b[38;5;241;43m1\u001b[39;49m\n",
      "\u001b[0;31mTypeError\u001b[0m: can only concatenate list (not \"int\") to list"
     ]
    }
   ],
   "source": [
    "l = l+1"
   ]
  },
  {
   "cell_type": "code",
   "execution_count": 51,
   "id": "5ebfefee-75b6-442a-bc85-79e2b4ce8c90",
   "metadata": {},
   "outputs": [
    {
     "data": {
      "text/plain": [
       "2"
      ]
     },
     "execution_count": 51,
     "metadata": {},
     "output_type": "execute_result"
    }
   ],
   "source": [
    "l[0]+1"
   ]
  },
  {
   "cell_type": "code",
   "execution_count": 53,
   "id": "9f229a3a-eff5-43bd-88b5-79d8b1a43eb2",
   "metadata": {},
   "outputs": [],
   "source": [
    "l1=[]"
   ]
  },
  {
   "cell_type": "code",
   "execution_count": 54,
   "id": "0af1533d-0dff-4e32-bf09-e813e4daf6fe",
   "metadata": {},
   "outputs": [],
   "source": [
    "l1.append(l[0]+1)"
   ]
  },
  {
   "cell_type": "code",
   "execution_count": 56,
   "id": "fc867e66-56aa-4004-aed9-a847b6af0364",
   "metadata": {},
   "outputs": [
    {
     "data": {
      "text/plain": [
       "[2]"
      ]
     },
     "execution_count": 56,
     "metadata": {},
     "output_type": "execute_result"
    }
   ],
   "source": [
    "l1\n"
   ]
  },
  {
   "cell_type": "code",
   "execution_count": 58,
   "id": "cd235b76-3d87-4629-9c77-52ac5ac0e17c",
   "metadata": {},
   "outputs": [
    {
     "data": {
      "text/plain": [
       "[1, 23, 4, 5, 6, 7, 3, 2, 2]"
      ]
     },
     "execution_count": 58,
     "metadata": {},
     "output_type": "execute_result"
    }
   ],
   "source": [
    "l"
   ]
  },
  {
   "cell_type": "code",
   "execution_count": 59,
   "id": "b07946fe-c990-41a4-92c2-e48df0f3ae7c",
   "metadata": {},
   "outputs": [],
   "source": [
    "l = [1,23,4,5,6,7,3,2,2]"
   ]
  },
  {
   "cell_type": "code",
   "execution_count": 65,
   "id": "256eb4aa-9742-4e6b-b6c6-a418b7fd30cd",
   "metadata": {},
   "outputs": [
    {
     "name": "stdout",
     "output_type": "stream",
     "text": [
      "2\n",
      "24\n",
      "5\n",
      "6\n",
      "7\n",
      "8\n",
      "4\n",
      "3\n",
      "3\n"
     ]
    },
    {
     "data": {
      "text/plain": [
       "[2, 24, 5, 6, 7, 8, 4, 3, 3]"
      ]
     },
     "execution_count": 65,
     "metadata": {},
     "output_type": "execute_result"
    }
   ],
   "source": [
    "l1 = []\n",
    "for m in l :\n",
    "    print(m+1)\n",
    "    l1.append(m+1)\n",
    "l1    "
   ]
  },
  {
   "cell_type": "code",
   "execution_count": 66,
   "id": "bc659e11-f32f-4892-beee-eccd9f2d04f4",
   "metadata": {},
   "outputs": [
    {
     "data": {
      "text/plain": [
       "[1, 23, 4, 5, 6, 7, 3, 2, 2]"
      ]
     },
     "execution_count": 66,
     "metadata": {},
     "output_type": "execute_result"
    }
   ],
   "source": [
    "l"
   ]
  },
  {
   "cell_type": "code",
   "execution_count": 67,
   "id": "fc650c60-520e-43c4-921e-6736847037e5",
   "metadata": {},
   "outputs": [],
   "source": [
    "l = [\"Krishna\",'pwsills','IITian','Brilant','Sharp']"
   ]
  },
  {
   "cell_type": "code",
   "execution_count": 74,
   "id": "88e4c140-f1d0-4372-a80b-4acc908392ed",
   "metadata": {},
   "outputs": [
    {
     "name": "stdout",
     "output_type": "stream",
     "text": [
      "Krishna\n",
      "pwsills\n",
      "IITian\n",
      "Brilant\n",
      "Sharp\n"
     ]
    }
   ],
   "source": [
    "l1 = []\n",
    "for i in l :\n",
    "    print(i)\n",
    "    l1.append(i.upper())"
   ]
  },
  {
   "cell_type": "code",
   "execution_count": 75,
   "id": "d33d82d3-d93a-45c7-82c7-8e9ccc9e55b7",
   "metadata": {},
   "outputs": [
    {
     "data": {
      "text/plain": [
       "['KRISHNA', 'PWSILLS', 'IITIAN', 'BRILANT', 'SHARP']"
      ]
     },
     "execution_count": 75,
     "metadata": {},
     "output_type": "execute_result"
    }
   ],
   "source": [
    "l1"
   ]
  },
  {
   "cell_type": "code",
   "execution_count": 76,
   "id": "443bed76-11f8-460d-8cb6-e3f864169cd8",
   "metadata": {},
   "outputs": [],
   "source": [
    "l = [1,2,3,4,5,6,7,8,\"krish\",\"AA\",\"KK\",34.23]"
   ]
  },
  {
   "cell_type": "code",
   "execution_count": 89,
   "id": "243d9a15-9598-40ad-a4a9-8718028b9f8a",
   "metadata": {},
   "outputs": [],
   "source": [
    "l1_numeric = []\n",
    "l2_string = []\n",
    "for i in l :\n",
    "      if type(i) == int or type(i) == float :\n",
    "          l1_numeric.append(i)\n",
    "      else :\n",
    "          l2_string.append(i)\n",
    "    \n",
    "    "
   ]
  },
  {
   "cell_type": "code",
   "execution_count": 91,
   "id": "26b52798-3cb8-4002-8e75-81cee4cde59a",
   "metadata": {},
   "outputs": [
    {
     "data": {
      "text/plain": [
       "[1, 2, 3, 4, 5, 6, 7, 8, 34.23]"
      ]
     },
     "execution_count": 91,
     "metadata": {},
     "output_type": "execute_result"
    }
   ],
   "source": [
    "l1_numeric"
   ]
  },
  {
   "cell_type": "code",
   "execution_count": 92,
   "id": "46d214e9-33f0-44e7-885b-353204949fbd",
   "metadata": {},
   "outputs": [
    {
     "data": {
      "text/plain": [
       "['krish', 'AA', 'KK']"
      ]
     },
     "execution_count": 92,
     "metadata": {},
     "output_type": "execute_result"
    }
   ],
   "source": [
    "l2_string"
   ]
  },
  {
   "cell_type": "code",
   "execution_count": null,
   "id": "d53e4f6b-4df2-4791-9941-c0c7cff5433b",
   "metadata": {},
   "outputs": [],
   "source": []
  }
 ],
 "metadata": {
  "kernelspec": {
   "display_name": "Python 3 (ipykernel)",
   "language": "python",
   "name": "python3"
  },
  "language_info": {
   "codemirror_mode": {
    "name": "ipython",
    "version": 3
   },
   "file_extension": ".py",
   "mimetype": "text/x-python",
   "name": "python",
   "nbconvert_exporter": "python",
   "pygments_lexer": "ipython3",
   "version": "3.10.8"
  }
 },
 "nbformat": 4,
 "nbformat_minor": 5
}

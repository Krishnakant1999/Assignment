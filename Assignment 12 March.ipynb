{
 "cells": [
  {
   "cell_type": "markdown",
   "id": "dae28bf3",
   "metadata": {},
   "source": [
    "Q1. Calculate the 95% confidence interval for a sample of data with a mean of 50 and a standard deviation \n",
    "of 5 using Python. Interpret the results."
   ]
  },
  {
   "cell_type": "code",
   "execution_count": 4,
   "id": "4ba8a6f1",
   "metadata": {},
   "outputs": [
    {
     "name": "stdout",
     "output_type": "stream",
     "text": [
      "Confidence Interval: [48.21, 51.79]\n"
     ]
    }
   ],
   "source": [
    "import scipy.stats as stats\n",
    "\n",
    "sample_mean = 50\n",
    "sample_std = 5\n",
    "sample_size = 30  # You need to provide the sample size\n",
    "\n",
    "confidence_level = 0.95\n",
    "\n",
    "# Calculate the margin of error\n",
    "margin_of_error = stats.norm.ppf((1 + confidence_level) / 2) * (sample_std / (sample_size ** 0.5))\n",
    "\n",
    "# Calculate the lower and upper bounds of the confidence interval\n",
    "lower_bound = sample_mean - margin_of_error\n",
    "upper_bound = sample_mean + margin_of_error\n",
    "\n",
    "# Print the results\n",
    "print(f\"Confidence Interval: [{lower_bound:.2f}, {upper_bound:.2f}]\")\n"
   ]
  },
  {
   "cell_type": "markdown",
   "id": "ab5390e4",
   "metadata": {},
   "source": [
    "Q2. Conduct a chi-square goodness of fit test to determine if the distribution of colors of M&Ms in a bag \n",
    "matches the expected distribution of 20% blue, 20% orange, 20% green, 10% yellow, 10% red, and 20% \n",
    "brown. Use Python to perform the test with a significance level of 0.05."
   ]
  },
  {
   "cell_type": "code",
   "execution_count": 9,
   "id": "bb30fc7f",
   "metadata": {},
   "outputs": [
    {
     "name": "stdout",
     "output_type": "stream",
     "text": [
      "5\n",
      "Chi-square statistic: 0.4000\n",
      "P-value: 0.9953\n",
      "Degrees of freedom: 5\n",
      "The distribution of colors of M&Ms in the bag is not significantly different from the expected distribution.\n"
     ]
    }
   ],
   "source": [
    "import scipy.stats as stats\n",
    "import numpy as np\n",
    "\n",
    "observed = [0.1, 0.1, 0.1, 0.2, 0.2, 0.3]  # You need to provide the observed frequencies for each color\n",
    "expected = [0.2, 0.2, 0.2, 0.1, 0.1, 0.2]  # Expected proportions for each color\n",
    "\n",
    "# Calculate the expected frequencies based on the expected proportions\n",
    "total_observed = sum(observed)\n",
    "expected_freq = [expected[i] * total_observed for i in range(len(expected))]\n",
    "\n",
    "# Perform the chi-square test\n",
    "chi2_stat, p_value = stats.chisquare(f_obs=observed, f_exp=expected_freq)\n",
    "\n",
    "# Determine the degrees of freedom\n",
    "df = len(observed) - 1\n",
    "\n",
    "# Define the significance level\n",
    "alpha = 0.05\n",
    "## find the critical value\n",
    "significane_value=0.05\n",
    "dof=len(expected)-1\n",
    "print(dof)\n",
    "critical_value=stats.chi2.ppf(1-significane_value,dof)\n",
    "\n",
    "# Print the results\n",
    "print(f\"Chi-square statistic: {chi2_stat:.4f}\")\n",
    "print(f\"P-value: {p_value:.4f}\")\n",
    "print(f\"Degrees of freedom: {df}\")\n",
    "if chi2_stat > critical_value:\n",
    "    print(\"The distribution of colors of M&Ms in the bag is significantly different from the expected distribution.\")\n",
    "else:\n",
    "    print(\"The distribution of colors of M&Ms in the bag is not significantly different from the expected distribution.\")\n"
   ]
  },
  {
   "cell_type": "markdown",
   "id": "6f980578",
   "metadata": {},
   "source": [
    "Q3. Use Python to calculate the chi-square statistic and p-value for a contingency table with the following \n",
    "data:Interpret the results of the test."
   ]
  },
  {
   "attachments": {
    "image.png": {
     "image/png": "[encoded data removed]"
    }
   },
   "cell_type": "markdown",
   "id": "f5d7f76a",
   "metadata": {},
   "source": [
    "![image.png](attachment:image.png)"
   ]
  },
  {
   "cell_type": "code",
   "execution_count": 10,
   "id": "2a5070b8",
   "metadata": {},
   "outputs": [
    {
     "ename": "ValueError",
     "evalue": "For each axis slice, the sum of the observed frequencies must agree with the sum of the expected frequencies to a relative tolerance of 1e-08, but the percent differences are:\n59.0",
     "output_type": "error",
     "traceback": [
      "\u001b[1;31m---------------------------------------------------------------------------\u001b[0m",
      "\u001b[1;31mValueError\u001b[0m                                Traceback (most recent call last)",
      "\u001b[1;32m~\\AppData\\Local\\Temp\\ipykernel_5236\\3952963725.py\u001b[0m in \u001b[0;36m<module>\u001b[1;34m\u001b[0m\n\u001b[0;32m     10\u001b[0m \u001b[1;33m\u001b[0m\u001b[0m\n\u001b[0;32m     11\u001b[0m \u001b[1;31m# Perform the chi-square test\u001b[0m\u001b[1;33m\u001b[0m\u001b[1;33m\u001b[0m\u001b[0m\n\u001b[1;32m---> 12\u001b[1;33m \u001b[0mchi2_stat\u001b[0m\u001b[1;33m,\u001b[0m \u001b[0mp_value\u001b[0m \u001b[1;33m=\u001b[0m \u001b[0mstats\u001b[0m\u001b[1;33m.\u001b[0m\u001b[0mchisquare\u001b[0m\u001b[1;33m(\u001b[0m\u001b[0mf_obs\u001b[0m\u001b[1;33m=\u001b[0m\u001b[0mobserved\u001b[0m\u001b[1;33m,\u001b[0m \u001b[0mf_exp\u001b[0m\u001b[1;33m=\u001b[0m\u001b[0mexpected_freq\u001b[0m\u001b[1;33m)\u001b[0m\u001b[1;33m\u001b[0m\u001b[1;33m\u001b[0m\u001b[0m\n\u001b[0m\u001b[0;32m     13\u001b[0m \u001b[1;33m\u001b[0m\u001b[0m\n\u001b[0;32m     14\u001b[0m \u001b[1;31m# Determine the degrees of freedom\u001b[0m\u001b[1;33m\u001b[0m\u001b[1;33m\u001b[0m\u001b[0m\n",
      "\u001b[1;32m~\\anaconda3\\lib\\site-packages\\scipy\\stats\\_stats_py.py\u001b[0m in \u001b[0;36mchisquare\u001b[1;34m(f_obs, f_exp, ddof, axis)\u001b[0m\n\u001b[0;32m   7303\u001b[0m \u001b[1;33m\u001b[0m\u001b[0m\n\u001b[0;32m   7304\u001b[0m     \"\"\"\n\u001b[1;32m-> 7305\u001b[1;33m     return power_divergence(f_obs, f_exp=f_exp, ddof=ddof, axis=axis,\n\u001b[0m\u001b[0;32m   7306\u001b[0m                             lambda_=\"pearson\")\n\u001b[0;32m   7307\u001b[0m \u001b[1;33m\u001b[0m\u001b[0m\n",
      "\u001b[1;32m~\\anaconda3\\lib\\site-packages\\scipy\\stats\\_stats_py.py\u001b[0m in \u001b[0;36mpower_divergence\u001b[1;34m(f_obs, f_exp, ddof, axis, lambda_)\u001b[0m\n\u001b[0;32m   7145\u001b[0m                    \u001b[1;34mf\"of {rtol}, but the percent differences are:\\n\"\u001b[0m\u001b[1;33m\u001b[0m\u001b[1;33m\u001b[0m\u001b[0m\n\u001b[0;32m   7146\u001b[0m                    f\"{relative_diff}\")\n\u001b[1;32m-> 7147\u001b[1;33m             \u001b[1;32mraise\u001b[0m \u001b[0mValueError\u001b[0m\u001b[1;33m(\u001b[0m\u001b[0mmsg\u001b[0m\u001b[1;33m)\u001b[0m\u001b[1;33m\u001b[0m\u001b[1;33m\u001b[0m\u001b[0m\n\u001b[0m\u001b[0;32m   7148\u001b[0m \u001b[1;33m\u001b[0m\u001b[0m\n\u001b[0;32m   7149\u001b[0m     \u001b[1;32melse\u001b[0m\u001b[1;33m:\u001b[0m\u001b[1;33m\u001b[0m\u001b[1;33m\u001b[0m\u001b[0m\n",
      "\u001b[1;31mValueError\u001b[0m: For each axis slice, the sum of the observed frequencies must agree with the sum of the expected frequencies to a relative tolerance of 1e-08, but the percent differences are:\n59.0"
     ]
    }
   ],
   "source": [
    "import scipy.stats as stats\n",
    "import numpy as np\n",
    "\n",
    "observed = [20,10,15]  # You need to provide the observed frequencies for each color\n",
    "expected = [15,25,20]  # Expected proportions for each color\n",
    "\n",
    "# Calculate the expected frequencies based on the expected proportions\n",
    "total_observed = sum(observed)\n",
    "expected_freq = [expected[i] * total_observed for i in range(len(expected))]\n",
    "\n",
    "# Perform the chi-square test\n",
    "chi2_stat, p_value = stats.chisquare(f_obs=observed, f_exp=expected_freq)\n",
    "\n",
    "# Determine the degrees of freedom\n",
    "df = len(observed) - 1\n",
    "\n",
    "# Define the significance level\n",
    "alpha = 0.05\n",
    "## find the critical value\n",
    "significane_value=0.05\n",
    "dof=len(expected)-1\n",
    "print(dof)\n",
    "critical_value=stats.chi2.ppf(1-significane_value,dof)\n",
    "\n",
    "# Print the results\n",
    "print(f\"Chi-square statistic: {chi2_stat:.4f}\")\n",
    "print(f\"P-value: {p_value:.4f}\")\n",
    "print(f\"Degrees of freedom: {df}\")\n",
    "if chi2_stat > critical_value:\n",
    "    print(\"The distribution of colors of M&Ms in the bag is significantly different from the expected distribution.\")\n",
    "else:\n",
    "    print(\"The distribution of colors of M&Ms in the bag is not significantly different from the expected distribution.\")\n"
   ]
  },
  {
   "cell_type": "code",
   "execution_count": null,
   "id": "bd93c805",
   "metadata": {},
   "outputs": [],
   "source": [
    "# We are getting error since the sum of observed and expected is not same."
   ]
  },
  {
   "cell_type": "markdown",
   "id": "a0c6b860",
   "metadata": {},
   "source": [
    "Q4. A study of the prevalence of smoking in a population of 500 individuals found that 60 individuals \n",
    "smoked. Use Python to calculate the 95% confidence interval for the true proportion of individuals in the \n",
    "population who smoke."
   ]
  },
  {
   "cell_type": "code",
   "execution_count": 13,
   "id": "818e440d",
   "metadata": {},
   "outputs": [
    {
     "name": "stdout",
     "output_type": "stream",
     "text": [
      "Confidence Interval: [0.0915, 0.1485]\n"
     ]
    }
   ],
   "source": [
    "import scipy.stats as stats\n",
    "\n",
    "total_population = 500\n",
    "observed_smokers = 60\n",
    "\n",
    "# Calculate the proportion of smokers in the sample\n",
    "sample_proportion = observed_smokers / total_population\n",
    "\n",
    "# Calculate the standard error\n",
    "standard_error = (sample_proportion * (1 - sample_proportion) / total_population) ** 0.5\n",
    "\n",
    "# Calculate the margin of error\n",
    "margin_of_error = stats.norm.ppf(0.975) * standard_error  # 0.975 corresponds to a 95% confidence level\n",
    "\n",
    "# Calculate the lower and upper bounds of the confidence interval\n",
    "lower_bound = sample_proportion - margin_of_error\n",
    "upper_bound = sample_proportion + margin_of_error\n",
    "\n",
    "# Print the results\n",
    "print(f\"Confidence Interval: [{lower_bound:.4f}, {upper_bound:.4f}]\")\n"
   ]
  },
  {
   "cell_type": "markdown",
   "id": "254ec7cc",
   "metadata": {},
   "source": [
    "Q5. Calculate the 90% confidence interval for a sample of data with a mean of 75 and a standard deviation \n",
    "of 12 using Python. Interpret the results."
   ]
  },
  {
   "cell_type": "code",
   "execution_count": 14,
   "id": "15495d29",
   "metadata": {},
   "outputs": [
    {
     "name": "stdout",
     "output_type": "stream",
     "text": [
      "Confidence Interval: [71.40, 78.60]\n"
     ]
    }
   ],
   "source": [
    "import scipy.stats as stats\n",
    "\n",
    "sample_mean = 75\n",
    "sample_std = 12\n",
    "sample_size = 30  # You need to provide the sample size\n",
    "\n",
    "confidence_level = 0.90\n",
    "\n",
    "# Calculate the margin of error\n",
    "margin_of_error = stats.norm.ppf((1 + confidence_level) / 2) * (sample_std / (sample_size ** 0.5))\n",
    "\n",
    "# Calculate the lower and upper bounds of the confidence interval\n",
    "lower_bound = sample_mean - margin_of_error\n",
    "upper_bound = sample_mean + margin_of_error\n",
    "\n",
    "# Print the results\n",
    "print(f\"Confidence Interval: [{lower_bound:.2f}, {upper_bound:.2f}]\")\n"
   ]
  },
  {
   "cell_type": "markdown",
   "id": "e0a969e0",
   "metadata": {},
   "source": [
    "Q6. Use Python to plot the chi-square distribution with 10 degrees of freedom. Label the axes and shade the \n",
    "area corresponding to a chi-square statistic of 15."
   ]
  },
  {
   "cell_type": "code",
   "execution_count": 21,
   "id": "00b9b11e",
   "metadata": {},
   "outputs": [
    {
     "data": {
      "image/png": "[encoded data removed]",
      "text/plain": [
       "<Figure size 640x480 with 1 Axes>"
      ]
     },
     "metadata": {},
     "output_type": "display_data"
    }
   ],
   "source": [
    "import numpy as np\n",
    "import matplotlib.pyplot as plt\n",
    "import scipy.stats as stats\n",
    "\n",
    "# Define the degrees of freedom\n",
    "df = 10\n",
    "\n",
    "# Generate values for the x-axis\n",
    "x = np.linspace(0, 30, 500)\n",
    "\n",
    "# Calculate the chi-square probability density function (PDF)\n",
    "pdf = stats.chi2.pdf(x, df-1)\n",
    "\n",
    "# Create the plot\n",
    "plt.plot(x, pdf, 'b-', label=f\"df = {df-1}\")\n",
    "\n",
    "# Shade the area corresponding to a chi-square statistic of 15\n",
    "shade_x = np.linspace(15, 30, 100)\n",
    "shade_y = stats.chi2.pdf(shade_x, df-1)\n",
    "plt.fill_between(shade_x, shade_y, color='gray', alpha=0.5)\n",
    "\n",
    "# Label the axes and add a legend\n",
    "plt.xlabel('Chi-square Statistic')\n",
    "plt.ylabel('Probability Density Function')\n",
    "plt.legend()\n",
    "\n",
    "# Display the plot\n",
    "plt.show()\n"
   ]
  },
  {
   "cell_type": "markdown",
   "id": "205bcfa0",
   "metadata": {},
   "source": [
    "Q7. A random sample of 1000 people was asked if they preferred Coke or Pepsi. Of the sample, 520 \n",
    "preferred Coke. Calculate a 99% confidence interval for the true proportion of people in the population who \n",
    "prefer Coke."
   ]
  },
  {
   "cell_type": "code",
   "execution_count": 22,
   "id": "f34a5d41",
   "metadata": {},
   "outputs": [
    {
     "name": "stdout",
     "output_type": "stream",
     "text": [
      "Confidence Interval: [0.4793, 0.5607]\n"
     ]
    }
   ],
   "source": [
    "import scipy.stats as stats\n",
    "\n",
    "people = 1000\n",
    "coke = 520\n",
    "\n",
    "# Calculate the proportion of smokers in the sample\n",
    "sample_proportion = coke / people\n",
    "\n",
    "# Calculate the standard error\n",
    "standard_error = (sample_proportion * (1 - sample_proportion) / people) ** 0.5\n",
    "\n",
    "# Calculate the margin of error\n",
    "margin_of_error = stats.norm.ppf(0.995) * standard_error  \n",
    "\n",
    "# Calculate the lower and upper bounds of the confidence interval\n",
    "lower_bound = sample_proportion - margin_of_error\n",
    "upper_bound = sample_proportion + margin_of_error\n",
    "\n",
    "# Print the results\n",
    "print(f\"Confidence Interval: [{lower_bound:.4f}, {upper_bound:.4f}]\")\n"
   ]
  },
  {
   "cell_type": "markdown",
   "id": "809779c5",
   "metadata": {},
   "source": [
    "Q8. A researcher hypothesizes that a coin is biased towards tails. They flip the coin 100 times and observe \n",
    "45 tails. Conduct a chi-square goodness of fit test to determine if the observed frequencies match the \n",
    "expected frequencies of a fair coin. Use a significance level of 0.05."
   ]
  },
  {
   "cell_type": "code",
   "execution_count": null,
   "id": "0fab38fa",
   "metadata": {},
   "outputs": [],
   "source": [
    "import scipy.stats as stats\n",
    "import numpy as np\n",
    "\n",
    "observed = 45  # You need to provide the observed frequencies for each color\n",
    "total = 100  # Expected proportions for each color\n",
    "expected = 100 -50\n",
    "# Calculate the expected frequencies based on the expected proportions\n",
    "total_observed = sum(observed)\n",
    "expected_freq = [expected[i] * total_observed for i in range(len(expected))]\n",
    "\n",
    "# Perform the chi-square test\n",
    "chi2_stat, p_value = stats.chisquare(f_obs=observed, f_exp=expected_freq)\n",
    "\n",
    "# Determine the degrees of freedom\n",
    "df = len(observed) - 1\n",
    "\n",
    "# Define the significance level\n",
    "alpha = 0.05\n",
    "## find the critical value\n",
    "significane_value=0.05\n",
    "dof=len(expected)-1\n",
    "print(dof)\n",
    "critical_value=stats.chi2.ppf(1-significane_value,dof)\n",
    "\n",
    "# Print the results\n",
    "print(f\"Chi-square statistic: {chi2_stat:.4f}\")\n",
    "print(f\"P-value: {p_value:.4f}\")\n",
    "print(f\"Degrees of freedom: {df}\")\n",
    "if chi2_stat > critical_value:\n",
    "    print(\"The distribution of colors of M&Ms in the bag is significantly different from the expected distribution.\")\n",
    "else:\n",
    "    print(\"The distribution of colors of M&Ms in the bag is not significantly different from the expected distribution.\")\n"
   ]
  },
  {
   "cell_type": "code",
   "execution_count": 31,
   "id": "6fbfa442",
   "metadata": {},
   "outputs": [
    {
     "name": "stdout",
     "output_type": "stream",
     "text": [
      "1\n",
      "critical_value 3.841458820694124\n",
      "Chi-square statistic: 1.0000\n",
      "P-value: 0.3173\n",
      "Degrees of freedom: 1\n",
      "The observed frequencies do not significantly differ from the expected frequencies, failing to reject the hypothesis of a fair coin.\n"
     ]
    }
   ],
   "source": [
    "import scipy.stats as stats\n",
    "\n",
    "observed_tails = 45\n",
    "expected_tails = 50\n",
    "total_flips = 100\n",
    "\n",
    "# Calculate the expected heads based on the assumption of a fair coin\n",
    "expected_heads = 50\n",
    "observed_heads = 55\n",
    "\n",
    "\n",
    "# Create the observed and expected frequency arrays\n",
    "observed_freq = [observed_heads, observed_tails]\n",
    "expected_freq = [expected_heads, expected_tails]\n",
    "\n",
    "# Perform the chi-square test\n",
    "chi2_stat, p_value = stats.chisquare(f_obs=observed_freq, f_exp=expected_freq)\n",
    "\n",
    "# Determine the degrees of freedom\n",
    "df = len(observed_freq) - 1\n",
    "\n",
    "## find the critical value\n",
    "significane_value=0.05\n",
    "print(df)\n",
    "critical_value=stats.chi2.ppf(1-significane_value,df)\n",
    "\n",
    "# Define the significance level\n",
    "alpha = 0.05\n",
    "\n",
    "## find the critical value\n",
    "significane_value=0.05\n",
    "critical_value=stats.chi2.ppf(1-significane_value,df)\n",
    "print( f'critical_value', critical_value)\n",
    "# Print the results\n",
    "print(f\"Chi-square statistic: {chi2_stat:.4f}\")\n",
    "print(f\"P-value: {p_value:.4f}\")\n",
    "print(f\"Degrees of freedom: {df}\")\n",
    "if chi2_stat > critical_value:\n",
    "    print(\"The observed frequencies significantly differ from the expected frequencies, rejecting the hypothesis of a fair coin.\")\n",
    "else:\n",
    "    print(\"The observed frequencies do not significantly differ from the expected frequencies, failing to reject the hypothesis of a fair coin.\")\n"
   ]
  },
  {
   "cell_type": "markdown",
   "id": "cc25df5f",
   "metadata": {},
   "source": [
    "Q9. A study was conducted to determine if there is an association between smoking status (smoker or \n",
    "non-smoker) and lung cancer diagnosis (yes or no). The results are shown in the contingency table below. \n",
    "Conduct a chi-square test for independence to determine if there is a significant association between \n",
    "smoking status and lung cancer diagnosis.\n",
    "Use a significance level of 0.05."
   ]
  },
  {
   "attachments": {
    "image.png": {
     "image/png": "[encoded data removed]"
    }
   },
   "cell_type": "markdown",
   "id": "1b2d5295",
   "metadata": {},
   "source": [
    "![image.png](attachment:image.png)"
   ]
  },
  {
   "cell_type": "code",
   "execution_count": 35,
   "id": "f4fde7f9",
   "metadata": {},
   "outputs": [
    {
     "name": "stdout",
     "output_type": "stream",
     "text": [
      "1\n",
      "critical_value 3.841458820694124\n",
      "Chi-square statistic: 35.2941\n",
      "P-value: 0.0000\n",
      "Degrees of freedom: 1\n",
      "There is no association\n"
     ]
    }
   ],
   "source": [
    "import scipy.stats as stats\n",
    "import numpy as np\n",
    "\n",
    "observed = [60,140]  # You need to provide the observed frequencies for each color\n",
    "expected = [30,170]  # Expected proportions for each color\n",
    "\n",
    "\n",
    "# Perform the chi-square test\n",
    "chi2_stat, p_value = stats.chisquare(observed,expected)\n",
    "\n",
    "# Determine the degrees of freedom\n",
    "df = len(observed) - 1\n",
    "\n",
    "# Define the significance level\n",
    "alpha = 0.05\n",
    "## find the critical value\n",
    "significane_value=0.05\n",
    "dof=len(expected)-1\n",
    "print(dof)\n",
    "critical_value=stats.chi2.ppf(1-significane_value,dof)\n",
    "print(f'critical_value' , critical_value)\n",
    "# Print the results\n",
    "print(f\"Chi-square statistic: {chi2_stat:.4f}\")\n",
    "print(f\"P-value: {p_value:.4f}\")\n",
    "print(f\"Degrees of freedom: {df}\")\n",
    "if chi2_stat > critical_value:\n",
    "    print(\"There is no association\")\n",
    "else:\n",
    "    print(\"There is association\")\n"
   ]
  },
  {
   "cell_type": "markdown",
   "id": "86883b21",
   "metadata": {},
   "source": [
    "Q10. A study was conducted to determine if the proportion of people who prefer milk chocolate, dark \n",
    "chocolate, or white chocolate is different in the U.S. versus the U.K. A random sample of 500 people from \n",
    "the U.S. and a random sample of 500 people from the U.K. were surveyed. The results are shown in the \n",
    "contingency table below. Conduct a chi-square test for independence to determine if there is a significant \n",
    "association between chocolate preference and country of origin.\n",
    "Use a significance level of 0.01."
   ]
  },
  {
   "attachments": {
    "image.png": {
     "image/png": "[encoded data removed]"
    }
   },
   "cell_type": "markdown",
   "id": "5c6b01f8",
   "metadata": {},
   "source": [
    "![image.png](attachment:image.png)"
   ]
  },
  {
   "cell_type": "code",
   "execution_count": 36,
   "id": "8304c9ee",
   "metadata": {},
   "outputs": [
    {
     "name": "stdout",
     "output_type": "stream",
     "text": [
      "2\n",
      "critical_value 5.991464547107979\n",
      "Chi-square statistic: 31.3492\n",
      "P-value: 0.0000\n",
      "Degrees of freedom: 2\n",
      "There is no association\n"
     ]
    }
   ],
   "source": [
    "import scipy.stats as stats\n",
    "import numpy as np\n",
    "\n",
    "observed = [200,150,150] \n",
    "expected = [225,175,100]  \n",
    "\n",
    "\n",
    "# Perform the chi-square test\n",
    "chi2_stat, p_value = stats.chisquare(observed,expected)\n",
    "\n",
    "# Determine the degrees of freedom\n",
    "df = len(observed) - 1\n",
    "\n",
    "# Define the significance level\n",
    "alpha = 0.01\n",
    "## find the critical value\n",
    "significane_value=0.05\n",
    "dof=len(expected)-1\n",
    "print(dof)\n",
    "critical_value=stats.chi2.ppf(1-significane_value,dof)\n",
    "print(f'critical_value' , critical_value)\n",
    "\n",
    "# Print the results\n",
    "print(f\"Chi-square statistic: {chi2_stat:.4f}\")\n",
    "print(f\"P-value: {p_value:.4f}\")\n",
    "print(f\"Degrees of freedom: {df}\")\n",
    "if chi2_stat > critical_value:\n",
    "    print(\"There is no association\")\n",
    "else:\n",
    "    print(\"There is association\")\n"
   ]
  },
  {
   "cell_type": "markdown",
   "id": "95ffe152",
   "metadata": {},
   "source": [
    "Q11. A random sample of 30 people was selected from a population with an unknown mean and standard \n",
    "deviation. The sample mean was found to be 72 and the sample standard deviation was found to be 10. \n",
    "Conduct a hypothesis test to determine if the population mean is significantly different from 70. Use a \n",
    "significance level of 0.05."
   ]
  },
  {
   "cell_type": "code",
   "execution_count": 37,
   "id": "f4c84dea",
   "metadata": {},
   "outputs": [
    {
     "name": "stdout",
     "output_type": "stream",
     "text": [
      "T-statistic: 1.0954\n",
      "P-value: 0.2823\n",
      "Degrees of freedom: 29\n",
      "The population mean is not significantly different from 70, failing to reject the null hypothesis.\n"
     ]
    }
   ],
   "source": [
    "import scipy.stats as stats\n",
    "\n",
    "sample_mean = 72\n",
    "sample_std = 10\n",
    "sample_size = 30\n",
    "population_mean = 70\n",
    "\n",
    "# Calculate the t-statistic\n",
    "t_stat = (sample_mean - population_mean) / (sample_std / (sample_size ** 0.5))\n",
    "\n",
    "# Determine the degrees of freedom\n",
    "df = sample_size - 1\n",
    "\n",
    "# Calculate the p-value\n",
    "p_value = 2 * (1 - stats.t.cdf(abs(t_stat), df))\n",
    "\n",
    "# Define the significance level\n",
    "alpha = 0.05\n",
    "\n",
    "# Print the results\n",
    "print(f\"T-statistic: {t_stat:.4f}\")\n",
    "print(f\"P-value: {p_value:.4f}\")\n",
    "print(f\"Degrees of freedom: {df}\")\n",
    "if p_value < alpha:\n",
    "    print(\"The population mean is significantly different from 70, rejecting the null hypothesis.\")\n",
    "else:\n",
    "    print(\"The population mean is not significantly different from 70, failing to reject the null hypothesis.\")\n"
   ]
  },
  {
   "cell_type": "code",
   "execution_count": null,
   "id": "9d1996e7",
   "metadata": {},
   "outputs": [],
   "source": []
  }
 ],
 "metadata": {
  "kernelspec": {
   "display_name": "Python 3 (ipykernel)",
   "language": "python",
   "name": "python3"
  },
  "language_info": {
   "codemirror_mode": {
    "name": "ipython",
    "version": 3
   },
   "file_extension": ".py",
   "mimetype": "text/x-python",
   "name": "python",
   "nbconvert_exporter": "python",
   "pygments_lexer": "ipython3",
   "version": "3.9.13"
  }
 },
 "nbformat": 4,
 "nbformat_minor": 5
}

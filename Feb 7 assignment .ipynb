{
 "cells": [
  {
   "cell_type": "markdown",
   "id": "e632aa98",
   "metadata": {},
   "source": [
    "Q1. You are writing code for a company. The requirement of the company is that you create a python \n",
    "function that will check whether the password entered by the user is correct or not. The function should \n",
    "take the password as input and return the string “Valid Password” if the entered password follows the \n",
    "below-given password guidelines else it should return “Invalid Password”.\n",
    "\n",
    "\n",
    "Note: 1. The Password should contain at least two uppercase letters and at least two lowercase letters.\n",
    "\n",
    "2. The Password should contain at least a number and three special characters.\n",
    "\n",
    "3. The length of the password should be 10 characters long"
   ]
  },
  {
   "cell_type": "code",
   "execution_count": 11,
   "id": "d6d71c0d",
   "metadata": {},
   "outputs": [
    {
     "name": "stdout",
     "output_type": "stream",
     "text": [
      "Enter password:KUtt!@#123\n",
      "Valid password\n"
     ]
    }
   ],
   "source": [
    "import re\n",
    "def password_checker(password):\n",
    "    if len(password) != 10 :\n",
    "        return \"Invalid Password \"\n",
    "    uppercase_counter = sum (1 for char in password if char.isupper())\n",
    "    smallercase_counter = sum(1 for char in password if char.islower())\n",
    "    if uppercase_counter < 2 or smallercase_counter < 2 :\n",
    "        return \"Invalid password \"\n",
    "    if not re.search(r\"\\d\" , password) or len(re.findall(r\"[!@#$%^&*()]\" , password)) < 3:\n",
    "        return \"Invalid password\"\n",
    "    return \"Valid password\"\n",
    "\n",
    "password = input(\"Enter password:\")\n",
    "result = password_checker(password)\n",
    "print(result)\n",
    "    "
   ]
  },
  {
   "cell_type": "markdown",
   "id": "33e6308e",
   "metadata": {},
   "source": [
    "Q2. Solve the below-given questions using at least one of the following: \n",
    "\n",
    "1. Lambda function\n",
    "2. Filter function\n",
    "3. map function\n",
    "4. List Comprehension\n",
    "\n",
    " Check if the string starts with a particular letter\n",
    "\n",
    " Check if the string is numericY  \n",
    "\n",
    " Sort a list of tuples having fruit names and their quantity. [(\"mango\",99),(\"orange\",80), (\"grapes\", 1000)]\n",
    "\n",
    " Find the squares of numbers from 1 to 10.\n",
    "\n",
    " Find the cube root of numbers from 1 to 10.\n",
    "\n",
    " Check if a given number is even.\n",
    "\n",
    " Filter odd numbers from the given list.\n",
    "[1,2,3,4,5,6,7,8,9,10]\n",
    "\n",
    " Sort a list of integers into positive and negative integers lists.\n",
    "[1,2,3,4,5,6,-1,-2,-3,-4,-5,0]"
   ]
  },
  {
   "cell_type": "code",
   "execution_count": 5,
   "id": "59705942",
   "metadata": {},
   "outputs": [
    {
     "name": "stdout",
     "output_type": "stream",
     "text": [
      "['India']\n"
     ]
    }
   ],
   "source": [
    "string_list = [\"India\",\"Amerika\",\"Japan\",\"China\"]\n",
    "letter = \"I\"\n",
    "result = [string for string in string_list if string.startswith(letter)]\n",
    "print(result)"
   ]
  },
  {
   "cell_type": "code",
   "execution_count": 6,
   "id": "ea2d8426",
   "metadata": {},
   "outputs": [
    {
     "name": "stdout",
     "output_type": "stream",
     "text": [
      "['123', '789']\n"
     ]
    }
   ],
   "source": [
    "string_list = [\"123\", \"abc\", \"45.6\", \"789\"]\n",
    "\n",
    "result = [string for string in string_list if string.isnumeric()]\n",
    "print(result)\n"
   ]
  },
  {
   "cell_type": "code",
   "execution_count": 8,
   "id": "76697481",
   "metadata": {},
   "outputs": [
    {
     "name": "stdout",
     "output_type": "stream",
     "text": [
      "[('mango', 99), ('orange', 80), ('grapes', 1000)]\n"
     ]
    }
   ],
   "source": [
    "fruits =  [(\"mango\",99),(\"orange\",80), (\"grapes\", 1000)] \n",
    "Sorted_fruits = sorted(fruits, key = lambda x:[1])\n",
    "print(Sorted_fruits)"
   ]
  },
  {
   "cell_type": "code",
   "execution_count": 56,
   "id": "e7b4cafc",
   "metadata": {},
   "outputs": [
    {
     "data": {
      "text/plain": [
       "[0, 1, 4, 9, 16, 25, 36, 49, 64, 81, 100]"
      ]
     },
     "execution_count": 56,
     "metadata": {},
     "output_type": "execute_result"
    }
   ],
   "source": [
    "l = range(0,11)\n",
    "list(map(lambda x : x**2 ,l))\n"
   ]
  },
  {
   "cell_type": "code",
   "execution_count": 10,
   "id": "573d9e99",
   "metadata": {},
   "outputs": [
    {
     "data": {
      "text/plain": [
       "[0.0,\n",
       " 1.0,\n",
       " 1.2599210498948732,\n",
       " 1.4422495703074083,\n",
       " 1.5874010519681994,\n",
       " 1.7099759466766968,\n",
       " 1.8171205928321397,\n",
       " 1.912931182772389,\n",
       " 2.0,\n",
       " 2.080083823051904,\n",
       " 2.154434690031884]"
      ]
     },
     "execution_count": 10,
     "metadata": {},
     "output_type": "execute_result"
    }
   ],
   "source": [
    "l = range(0,11)\n",
    "list(map(lambda x : x**(1/3) ,l))"
   ]
  },
  {
   "cell_type": "code",
   "execution_count": 26,
   "id": "867cda35",
   "metadata": {},
   "outputs": [
    {
     "name": "stdout",
     "output_type": "stream",
     "text": [
      "[0.0, 1.0, 1.2599210498948732, 1.4422495703074083, 1.5874010519681994, 1.7099759466766968, 1.8171205928321397, 1.912931182772389, 2.0, 2.080083823051904, 2.154434690031884]\n"
     ]
    }
   ],
   "source": [
    "import math\n",
    "numbers = list(range(0,11))\n",
    "cube_roots = [math.pow(num,1/3) for num in numbers]\n",
    "print(cube_roots)"
   ]
  },
  {
   "cell_type": "code",
   "execution_count": 25,
   "id": "ea063d74",
   "metadata": {},
   "outputs": [
    {
     "data": {
      "text/plain": [
       "[1, 3, 5, 7, 9]"
      ]
     },
     "execution_count": 25,
     "metadata": {},
     "output_type": "execute_result"
    }
   ],
   "source": [
    "l1 =[1,2,3,4,5,6,7,8,9,10]\n",
    "list(filter(lambda x : x%2!=0 , l1))\n",
    "    "
   ]
  },
  {
   "cell_type": "code",
   "execution_count": 4,
   "id": "e040767e",
   "metadata": {},
   "outputs": [
    {
     "name": "stdout",
     "output_type": "stream",
     "text": [
      "Enter your number:21\n",
      "Odd number\n"
     ]
    }
   ],
   "source": [
    "n = int(input(\"Enter your number:\"))\n",
    "if n%2==0 :\n",
    "    print(\"Even Number\")\n",
    "else :\n",
    "    print (\"Odd number\")\n"
   ]
  },
  {
   "cell_type": "code",
   "execution_count": 58,
   "id": "5bfeba96",
   "metadata": {},
   "outputs": [
    {
     "data": {
      "text/plain": [
       "[-1, -2, -3, -4, -5]"
      ]
     },
     "execution_count": 58,
     "metadata": {},
     "output_type": "execute_result"
    }
   ],
   "source": [
    "l2 = [1,2,3,4,5,6,-1,-2,-3,-4,-5,0]\n",
    "list(filter(lambda x:x<0 , l2))\n"
   ]
  },
  {
   "cell_type": "code",
   "execution_count": 57,
   "id": "66e22361",
   "metadata": {},
   "outputs": [
    {
     "data": {
      "text/plain": [
       "[1, 2, 3, 4, 5, 6]"
      ]
     },
     "execution_count": 57,
     "metadata": {},
     "output_type": "execute_result"
    }
   ],
   "source": [
    "l2 = [1,2,3,4,5,6,-1,-2,-3,-4,-5,0]\n",
    "list(filter(lambda x : x > 0 , l2))"
   ]
  }
 ],
 "metadata": {
  "kernelspec": {
   "display_name": "Python 3 (ipykernel)",
   "language": "python",
   "name": "python3"
  },
  "language_info": {
   "codemirror_mode": {
    "name": "ipython",
    "version": 3
   },
   "file_extension": ".py",
   "mimetype": "text/x-python",
   "name": "python",
   "nbconvert_exporter": "python",
   "pygments_lexer": "ipython3",
   "version": "3.9.13"
  }
 },
 "nbformat": 4,
 "nbformat_minor": 5
}

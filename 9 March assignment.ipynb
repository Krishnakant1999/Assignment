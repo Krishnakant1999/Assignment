{
 "cells": [
  {
   "cell_type": "markdown",
   "id": "eefa6af3",
   "metadata": {},
   "source": [
    "Q1: What are the Probability Mass Function (PMF) and Probability Density Function (PDF)? Explain with \n",
    "an example."
   ]
  },
  {
   "cell_type": "markdown",
   "id": "c77853bb",
   "metadata": {},
   "source": [
    "Probability Mass Function (PMF):\n",
    "The PMF is used to describe the probability distribution of a discrete random variable. It assigns probabilities to each possible value that the random variable can take. The PMF gives the probability of obtaining a specific value or outcome.\n",
    "For example, let's consider a fair six-sided die. The random variable, in this case, represents the outcome of rolling the die. The PMF for this random variable would assign probabilities to each possible outcome (1, 2, 3, 4, 5, or 6). "
   ]
  },
  {
   "cell_type": "markdown",
   "id": "44d32ddd",
   "metadata": {},
   "source": [
    "The PDF is used to describe the probability distribution of a continuous random variable. Unlike the PMF, which deals with discrete variables, the PDF assigns probabilities to ranges or intervals of values rather than individual values. The PDF represents the relative likelihood of obtaining a value within a particular interval.\n",
    "For example, let's consider the height of adult males. The random variable, in this case, represents the height. The PDF would assign probabilities to different height intervals, such as the probability of a man having a height between 170 cm and 180 cm."
   ]
  },
  {
   "cell_type": "markdown",
   "id": "df24e43c",
   "metadata": {},
   "source": [
    "Q2: What is Cumulative Density Function (CDF)? Explain with an example. Why CDF is used?"
   ]
  },
  {
   "cell_type": "markdown",
   "id": "ae90b693",
   "metadata": {},
   "source": [
    "The Cumulative Density Function (CDF) is a mathematical function that describes the cumulative probability distribution of a random variable. It gives the probability that the random variable takes on a value less than or equal to a given value"
   ]
  },
  {
   "cell_type": "markdown",
   "id": "bbc9ae8e",
   "metadata": {},
   "source": [
    "Probability Calculation: The CDF allows us to calculate the probability of a random variable falling within a certain range. By taking the difference in probabilities between two CDF values, we can determine the probability of the random variable lying between two values.\n",
    "\n",
    "Quantile Calculation: The CDF helps in finding the quantiles or percentiles of a distribution. A quantile represents a value below which a certain percentage of the data falls. For example, the median is the 50th percentile, meaning 50% of the data is below that value. By inverting the CDF, we can find the value associated with a given percentile.\n",
    "\n",
    "Distribution Comparison: The CDF allows for comparing different probability distributions. By plotting the CDFs of different distributions on the same graph, we can visually analyze their characteristics, such as location, spread, and shape.\n",
    "\n",
    "Random Variable Transformation: The CDF is useful for transforming random variables. By applying the inverse of the CDF, we can convert a random variable from one distribution to another, such as transforming a uniformly distributed variable into a normally distributed variable (via the inverse of the standard normal CDF)."
   ]
  },
  {
   "cell_type": "markdown",
   "id": "ae329d86",
   "metadata": {},
   "source": [
    "Q3: What are some examples of situations where the normal distribution might be used as a model? \n",
    "Explain how the parameters of the normal distribution relate to the shape of the distribution."
   ]
  },
  {
   "cell_type": "markdown",
   "id": "23f7548e",
   "metadata": {},
   "source": [
    "The normal distribution, also known as the Gaussian distribution or bell curve, is commonly used as a model in various fields due to its versatility and applicability to many real-world situations. "
   ]
  },
  {
   "cell_type": "markdown",
   "id": "9c100daf",
   "metadata": {},
   "source": [
    "The shape of the normal distribution is determined by its two parameters: the mean (μ) and the standard deviation (σ). The mean represents the central tendency or average of the distribution. It determines the location of the peak or the center of the bell curve. Shifting the mean to the right or left changes the position of the peak accordingly.\n",
    "\n",
    "The standard deviation controls the spread or dispersion of the distribution. A larger standard deviation results in a wider and flatter bell curve, indicating more variability in the data. Conversely, a smaller standard deviation leads to a narrower and taller bell curve, indicating less variability."
   ]
  },
  {
   "cell_type": "markdown",
   "id": "669ecbba",
   "metadata": {},
   "source": [
    "Q4: Explain the importance of Normal Distribution. Give a few real-life examples of Normal \n",
    "Distribution. "
   ]
  },
  {
   "cell_type": "markdown",
   "id": "d19295b1",
   "metadata": {},
   "source": [
    "Height and Weight: The distribution of adult heights and weights often follows a roughly normal distribution. While there may be slight deviations from perfect normality, the normal distribution provides a reasonable approximation for studying these characteristics in a population.\n",
    "\n",
    "IQ Scores: Intelligence quotient (IQ) scores are often modeled using a normal distribution. IQ tests are designed to have a mean of 100 and a standard deviation of 15, resulting in a symmetrical and bell-shaped distribution.\n",
    "\n",
    "Measurement Errors: In many scientific experiments and observations, measurement errors tend to follow a normal distribution. This assumption allows researchers to model and analyze the errors accurately.\n",
    "\n",
    "Financial Data: In finance, stock returns and other financial variables are often assumed to follow a normal distribution. This assumption forms the basis of many mathematical models used in finance, such as the Black-Scholes option pricing model.\n",
    "\n",
    "Test Scores: Standardized tests, such as SAT or GRE, often assume a normal distribution for their scores. This assumption helps in interpreting and comparing scores across different test administrations."
   ]
  },
  {
   "cell_type": "markdown",
   "id": "331fd32a",
   "metadata": {},
   "source": [
    "Q5: What is Bernaulli Distribution? Give an Example. What is the difference between Bernoulli \n",
    "Distribution and Binomial Distribution?"
   ]
  },
  {
   "cell_type": "markdown",
   "id": "d3aa2e3a",
   "metadata": {},
   "source": [
    "Bernoulli Distribution:\n",
    "The Bernoulli distribution models a single trial or experiment with two possible outcomes (success or failure). It is a special case of the binomial distribution when the number of trials is 1. The Bernoulli distribution has a fixed probability parameter (p) that remains the same for each trial.\n",
    "\n",
    "Binomial Distribution:\n",
    "The binomial distribution is an extension of the Bernoulli distribution and models multiple independent Bernoulli trials. It represents the number of successes (X) in a fixed number of trials (n). The binomial distribution has two parameters: the probability of success (p) and the number of trials (n). The random variable X can take values from 0 to n."
   ]
  },
  {
   "cell_type": "markdown",
   "id": "574441d8",
   "metadata": {},
   "source": [
    "Q6. Consider a dataset with a mean of 50 and a standard deviation of 10. If we assume that the dataset \n",
    "is normally distributed, what is the probability that a randomly selected observation will be greater \n",
    "than 60? Use the appropriate formula and show your calculations."
   ]
  },
  {
   "cell_type": "markdown",
   "id": "8d5a1c90",
   "metadata": {},
   "source": [
    "The z-score measures the number of standard deviations an observation is from the mean. It is calculated as:\n",
    "\n",
    "z = (x - μ) / σ\n",
    "\n",
    "where x is the value we want to find the probability for (60 in this case), μ is the mean (50), and σ is the standard deviation (10).\n",
    "\n",
    "Let's calculate the z-score:\n",
    "\n",
    "z = (60 - 50) / 10\n",
    "z = 1\n",
    "\n",
    "Now, we need to find the probability corresponding to this z-score using the standard normal distribution table or a statistical calculator. The area under the standard normal curve to the right of the z-score of 1 represents the probability of a randomly selected observation being greater than 60.\n",
    "\n",
    "Using a standard normal distribution table, we find that the area to the right of a z-score of 1 is approximately 0.1587"
   ]
  },
  {
   "cell_type": "markdown",
   "id": "934153cb",
   "metadata": {},
   "source": [
    "Q7: Explain uniform Distribution with an example."
   ]
  },
  {
   "cell_type": "markdown",
   "id": "0202a52e",
   "metadata": {},
   "source": [
    "The uniform distribution is a continuous probability distribution that models random variables with a constant probability over a specified interval. In other words, it assumes that all values within the interval have an equal likelihood of occurring. "
   ]
  },
  {
   "cell_type": "markdown",
   "id": "57dae8ef",
   "metadata": {},
   "source": [
    "an example where a random variable represents the time it takes for a computer program to execute. Suppose we have a program that always takes between 1 second and 5 seconds to complete its execution, with any time within that range being equally likely.\n",
    "\n",
    "In this case, we can model the time it takes for the program to execute using a uniform distribution with the interval [1, 5]. The probability density function (PDF) for this distribution would be:"
   ]
  },
  {
   "cell_type": "markdown",
   "id": "bc2de251",
   "metadata": {},
   "source": [
    "Q8: What is the z score? State the importance of the z score"
   ]
  },
  {
   "cell_type": "markdown",
   "id": "8d8f8ee8",
   "metadata": {},
   "source": [
    "The z-score, also known as the standard score, is a statistical measure that quantifies the number of standard deviations an individual data point or observation is from the mean of a distribution"
   ]
  },
  {
   "cell_type": "markdown",
   "id": "52f6024e",
   "metadata": {},
   "source": [
    "The z-score provides a standardized measure that facilitates comparison, analysis, and inference in various statistical applications. It helps in understanding the relative position of data points within a distribution and enables meaningful statistical calculations and interpretations."
   ]
  },
  {
   "cell_type": "markdown",
   "id": "b1701d51",
   "metadata": {},
   "source": [
    "Q9: What is Central Limit Theorem? State the significance of the Central Limit Theorem."
   ]
  },
  {
   "cell_type": "markdown",
   "id": "5a228a71",
   "metadata": {},
   "source": [
    "The Central Limit Theorem (CLT) is a fundamental concept in statistics that states that the sum or average of a large number of independent and identically distributed (i.i.d.) random variables tends to follow a normal distribution, regardless of the shape of the original distribution."
   ]
  },
  {
   "cell_type": "markdown",
   "id": "0ec5ced4",
   "metadata": {},
   "source": [
    "the Central Limit Theorem plays a crucial role in statistical theory and practice, enabling us to work with large and complex datasets, make accurate statistical inferences, and apply parametric methods for analyzing data. It provides a bridge between the properties of individual random variables and the behavior of their sums or averages, making it an essential tool in statistical analysis."
   ]
  },
  {
   "cell_type": "markdown",
   "id": "7e83eacf",
   "metadata": {},
   "source": [
    "Q10: State the assumptions of the Central Limit Theorem."
   ]
  },
  {
   "cell_type": "markdown",
   "id": "d9012628",
   "metadata": {},
   "source": [
    "Independent and Identically Distributed (i.i.d.) Random Variables: The sequence of random variables being averaged or summed should be independent of each other and have the same probability distribution. This assumption ensures that the variables do not influence each other and that each observation provides independent information.\n",
    "\n",
    "Finite Variance: The random variables should have a finite variance (a measure of the spread or variability of the data). This assumption ensures that the individual variables are not extremely dispersed or have extremely heavy tails, which could violate the conditions required for the CLT.\n",
    "\n",
    "Finite Mean: The random variables should have a finite mean. This assumption ensures that the average or sum of the random variables remains bounded and does not diverge.\n",
    "\n",
    "Sample Size: The CLT assumes that the sample size is sufficiently large. There is no strict rule for determining the minimum sample size, but a common guideline is that the sample size should be greater than or equal to 30. However, the actual sample size requirement may vary depending on the underlying distribution and the desired level of accuracy."
   ]
  }
 ],
 "metadata": {
  "kernelspec": {
   "display_name": "Python 3 (ipykernel)",
   "language": "python",
   "name": "python3"
  },
  "language_info": {
   "codemirror_mode": {
    "name": "ipython",
    "version": 3
   },
   "file_extension": ".py",
   "mimetype": "text/x-python",
   "name": "python",
   "nbconvert_exporter": "python",
   "pygments_lexer": "ipython3",
   "version": "3.9.13"
  }
 },
 "nbformat": 4,
 "nbformat_minor": 5
}

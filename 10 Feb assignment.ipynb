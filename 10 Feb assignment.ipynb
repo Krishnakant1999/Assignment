{
 "cells": [
  {
   "cell_type": "markdown",
   "id": "825be612",
   "metadata": {},
   "source": [
    "Q1. Which function is used to open a file? What are the different modes of opening a file? Explain each mode \n",
    "of file opening."
   ]
  },
  {
   "cell_type": "markdown",
   "id": "a56bc01b",
   "metadata": {},
   "source": [
    "In Python, we use the open() method to open files.\n",
    "\n",
    "Different modes for opening a file:\n",
    "r   Open a file for reading. (default)\n",
    "w   Open a file for writing. Creates a new file if it does not exist or truncates the file if it exists.\n",
    "x   Open a file for exclusive creation. If the file already exists, the operation fails.\n",
    "a   Open a file for appending at the end of the file without truncating it. Creates a new file if it does not exist.\n",
    "t   Open in text mode. (default)\n",
    "b   Open in binary mode.\n",
    "+   Open a file for updating (reading and writing)"
   ]
  },
  {
   "cell_type": "markdown",
   "id": "0437442f",
   "metadata": {},
   "source": [
    "Q2. Why close() function is used? Why is it important to close a file?"
   ]
  },
  {
   "cell_type": "markdown",
   "id": "887fc53d",
   "metadata": {},
   "source": [
    "The close() function is used to close a file that has been opened in a computer program.\n",
    "Resource management: When a file is opened, system resources such as memory and file handles are allocated to the file. If a file is not closed properly, these resources may not be released, leading to resource leaks. Over time, this can cause issues like memory exhaustion or reaching the limit on the number of open file handles.\n",
    "\n",
    "Data integrity: When a file is closed, any pending writes to the file are typically flushed to disk. If a file is not closed properly, there is a risk that data may not be fully written to the file, leading to data loss or corruption.\n",
    "\n",
    "Other processes and applications: If a file is left open, it may prevent other processes or applications from accessing or modifying the file. This can result in conflicts and concurrency issues, especially in scenarios where multiple programs need to interact with the same file.\n",
    "\n",
    "File locking: In some cases, a file may be locked by the operating system or other applications while it is open. Closing the file releases the lock, allowing other processes to access or modify it."
   ]
  },
  {
   "cell_type": "markdown",
   "id": "c244071b",
   "metadata": {},
   "source": [
    "Q3. Write a python program to create a text file. Write ‘I want to become a Data Scientist’ in that file. Then \n",
    "close the file. Open this file and read the content of the file. "
   ]
  },
  {
   "cell_type": "code",
   "execution_count": 44,
   "id": "735d5619",
   "metadata": {},
   "outputs": [],
   "source": [
    "f = open(\"scientist.txt\", 'w')\n",
    "f.write(\"I want to become a Data Scientist\")\n",
    "f.close()"
   ]
  },
  {
   "cell_type": "code",
   "execution_count": 45,
   "id": "4c654b71",
   "metadata": {},
   "outputs": [
    {
     "data": {
      "text/plain": [
       "'I want to become a Data Scientist'"
      ]
     },
     "execution_count": 45,
     "metadata": {},
     "output_type": "execute_result"
    }
   ],
   "source": [
    "d = open(\"scientist.txt\" , 'r')\n",
    "d.read()\n"
   ]
  },
  {
   "cell_type": "markdown",
   "id": "9a7453e4",
   "metadata": {},
   "source": [
    "Q4. Explain the following with python code: read(), readline() and readlines()."
   ]
  },
  {
   "cell_type": "code",
   "execution_count": 46,
   "id": "be8a2e86",
   "metadata": {},
   "outputs": [
    {
     "data": {
      "text/plain": [
       "'Machine learning is an important component of the growing field of data science.Through the use of statistical methods, algorithms are trained to make classifications or predictions, and to uncover key insights in data mining projects. These insights subsequently drive decision making within applications and businesses, ideally impacting key growth metrics. As big data continues to expand and grow, the market demand for data scientists will increase. They will be required to help identify the most relevant business questions and the data to answer them.Machine learning algorithms are typically created using frameworks that accelerate solution development, such as TensorFlow and PyTorch.'"
      ]
     },
     "execution_count": 46,
     "metadata": {},
     "output_type": "execute_result"
    }
   ],
   "source": [
    "file =  open (\"Feb_10_Q4.txt\" , 'w')\n",
    "file.write(\"Machine learning is an important component of the growing field of data science.\"\n",
    "           \"Through the use of statistical methods, algorithms are trained to make classifications or predictions, and to uncover key insights in data mining projects. \"\n",
    "           \"These insights subsequently drive decision making within applications and businesses, ideally impacting key growth metrics. As big data continues to expand and grow, the market demand for data scientists will increase. They will be required to help identify the most relevant business questions and the data to answer them.Machine learning algorithms are typically created using frameworks that accelerate solution development, such as TensorFlow and PyTorch.\")\n",
    "file.close()\n",
    "r = open(\"Feb_10_Q4.txt\" , 'r')\n",
    "r.read()"
   ]
  },
  {
   "cell_type": "code",
   "execution_count": 47,
   "id": "c401b622",
   "metadata": {},
   "outputs": [
    {
     "data": {
      "text/plain": [
       "'Machine learning is an important component of the growing field of data science.Through the use of statistical methods, algorithms are trained to make classifications or predictions, and to uncover key insights in data mining projects. These insights subsequently drive decision making within applications and businesses, ideally impacting key growth metrics. As big data continues to expand and grow, the market demand for data scientists will increase. They will be required to help identify the most relevant business questions and the data to answer them.Machine learning algorithms are typically created using frameworks that accelerate solution development, such as TensorFlow and PyTorch.'"
      ]
     },
     "execution_count": 47,
     "metadata": {},
     "output_type": "execute_result"
    }
   ],
   "source": [
    "r = open(\"Feb_10_Q4.txt\" , 'r')\n",
    "r.readline()"
   ]
  },
  {
   "cell_type": "code",
   "execution_count": 48,
   "id": "743dd0b0",
   "metadata": {},
   "outputs": [
    {
     "data": {
      "text/plain": [
       "['Machine learning is an important component of the growing field of data science.Through the use of statistical methods, algorithms are trained to make classifications or predictions, and to uncover key insights in data mining projects. These insights subsequently drive decision making within applications and businesses, ideally impacting key growth metrics. As big data continues to expand and grow, the market demand for data scientists will increase. They will be required to help identify the most relevant business questions and the data to answer them.Machine learning algorithms are typically created using frameworks that accelerate solution development, such as TensorFlow and PyTorch.']"
      ]
     },
     "execution_count": 48,
     "metadata": {},
     "output_type": "execute_result"
    }
   ],
   "source": [
    "r = open(\"Feb_10_Q4.txt\" , 'r')\n",
    "r.readlines()"
   ]
  },
  {
   "cell_type": "markdown",
   "id": "2ed55328",
   "metadata": {},
   "source": [
    "The read method reads the entire contents of a file and returns it as a string.\n",
    "The readline method reads a single line from a file and returns it as a string. This means that if you use readline, you can read the contents of a file line by line, which can be useful for processing large files that do not fit in memory.\n",
    "The readline method reads a single line from a file and returns it as a string, while the readlines method reads the entire contents of a file and returns it as a list of strings, where each element of the list is a single line of the file."
   ]
  },
  {
   "cell_type": "markdown",
   "id": "f949a688",
   "metadata": {},
   "source": [
    "Q5. Explain why with statement is used with open(). What is the advantage of using with statement and \n",
    "open() together?"
   ]
  },
  {
   "cell_type": "markdown",
   "id": "da0edc4d",
   "metadata": {},
   "source": [
    "The with statement works with the open() function to open a file. Unlike open() where you have to close the file with the close() method, the with statement closes the file for you without you telling it to. This is because the with statement calls 2 built-in methods behind the scene – __enter()__ and __exit()__ ."
   ]
  },
  {
   "cell_type": "markdown",
   "id": "ac62f662",
   "metadata": {},
   "source": [
    "Q6. Explain the write() and writelines() functions. Give a suitable example."
   ]
  },
  {
   "cell_type": "markdown",
   "id": "af9e5249",
   "metadata": {},
   "source": [
    "The only difference between the write() and writelines() is that write() is used to write a string to an already opened file while writelines() method is used to write a list of strings in an opened file."
   ]
  },
  {
   "cell_type": "code",
   "execution_count": 49,
   "id": "7d484b71",
   "metadata": {},
   "outputs": [],
   "source": [
    "# with open (\"Q_6_10feb\" , 'w') as f:\n",
    "#     f.write(\"Data science combines math and statistics, specialized programming, advanced analytics, artificial intelligence (AI), and machine learning with specific subject matter expertise to uncover actionable insights hidden in an organization’s data. These insights can be used to guide decision making and strategic planning.\")"
   ]
  },
  {
   "cell_type": "code",
   "execution_count": 59,
   "id": "9560a89e",
   "metadata": {},
   "outputs": [],
   "source": [
    "f = open (\"Q_6_10feb_new\" , 'w')\n",
    "f.write(\"Data science combines math and statistics, specialized programming, advanced analytics, artificial intelligence (AI), and machine learning with specific subject matter expertise to uncover actionable insights hidden in an organization’s data. These insights can be used to guide decision making and strategic planning.\")\n",
    "f.writelines(\"Data science combines math and statistics, specialized programming, advanced analytics, artificial intelligence (AI), and machine learning with specific subject matter expertise to uncover actionable insights hidden in an organization’s data.These insights can be used to guide decision making and strategic planning.\")\n",
    "f.close()"
   ]
  }
 ],
 "metadata": {
  "kernelspec": {
   "display_name": "Python 3 (ipykernel)",
   "language": "python",
   "name": "python3"
  },
  "language_info": {
   "codemirror_mode": {
    "name": "ipython",
    "version": 3
   },
   "file_extension": ".py",
   "mimetype": "text/x-python",
   "name": "python",
   "nbconvert_exporter": "python",
   "pygments_lexer": "ipython3",
   "version": "3.9.13"
  }
 },
 "nbformat": 4,
 "nbformat_minor": 5
}

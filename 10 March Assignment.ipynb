{
 "cells": [
  {
   "cell_type": "markdown",
   "id": "d9106481",
   "metadata": {},
   "source": [
    "Q1: What is Estimation Statistics? Explain point estimate and interval estimate."
   ]
  },
  {
   "cell_type": "markdown",
   "id": "e282fd46",
   "metadata": {},
   "source": [
    "Estimation statistics is a branch of statistics that deals with estimating population parameters based on sample data. When it is not feasible or practical to collect data from an entire population, statisticians use estimation techniques to make inferences about the population based on a representative sample."
   ]
  },
  {
   "cell_type": "markdown",
   "id": "b1201d32",
   "metadata": {},
   "source": [
    "Point Estimate: A point estimate is a single value that is used to estimate an unknown population parameter. It is calculated from the sample data and provides an estimate of the parameter's value. For example, if we want to estimate the population mean, we can calculate the sample mean and use it as a point estimate of the population mean. Similarly, if we want to estimate the population proportion, we can calculate the sample proportion and use it as a point estimate."
   ]
  },
  {
   "cell_type": "markdown",
   "id": "3d8a9ad6",
   "metadata": {},
   "source": [
    "Interval Estimate: An interval estimate, also known as a confidence interval, provides a range of values within which the population parameter is likely to fall. Instead of providing a single point estimate, it gives a range of plausible values along with a level of confidence. For example, a 95% confidence interval for the population mean would be a range of values within which we can be 95% confident that the true population mean lies."
   ]
  },
  {
   "cell_type": "markdown",
   "id": "1e6fdf4a",
   "metadata": {},
   "source": [
    "Q2. Write a Python function to estimate the population mean using a sample mean and standard \n",
    "deviation."
   ]
  },
  {
   "cell_type": "code",
   "execution_count": 1,
   "id": "02642f93",
   "metadata": {},
   "outputs": [
    {
     "name": "stdout",
     "output_type": "stream",
     "text": [
      "Mean Estimate: 10.2\n",
      "Confidence Interval: (9.709999999999999, 10.69)\n"
     ]
    }
   ],
   "source": [
    "import math\n",
    "\n",
    "def estimate_population_mean(sample_mean, sample_std_deviation, sample_size):\n",
    "    # Calculate the standard error\n",
    "    standard_error = sample_std_deviation / math.sqrt(sample_size)\n",
    "    \n",
    "    # Calculate the margin of error (typically used for constructing confidence intervals)\n",
    "    # In this case, we assume a 95% confidence level (corresponding to a z-score of 1.96)\n",
    "    margin_of_error = 1.96 * standard_error\n",
    "    \n",
    "    # Calculate the lower and upper bounds of the estimate\n",
    "    lower_bound = sample_mean - margin_of_error\n",
    "    upper_bound = sample_mean + margin_of_error\n",
    "    \n",
    "    # Return the estimate and the confidence interval\n",
    "    return sample_mean, (lower_bound, upper_bound)\n",
    "\n",
    "\n",
    "sample_mean = 10.2\n",
    "sample_std_deviation = 2.5\n",
    "sample_size = 100\n",
    "\n",
    "mean_estimate, confidence_interval = estimate_population_mean(sample_mean, sample_std_deviation, sample_size)\n",
    "\n",
    "print(\"Mean Estimate:\", mean_estimate)\n",
    "print(\"Confidence Interval:\", confidence_interval)\n"
   ]
  },
  {
   "cell_type": "markdown",
   "id": "0c2b9dcd",
   "metadata": {},
   "source": [
    "Q3: What is Hypothesis testing? Why is it used? State the importance of Hypothesis testing."
   ]
  },
  {
   "cell_type": "markdown",
   "id": "838ef70a",
   "metadata": {},
   "source": [
    "Hypothesis testing is a statistical method used to make inferences about population parameters based on sample data. It involves formulating a hypothesis about the population, collecting and analyzing sample data, and then assessing the evidence against the hypothesis.\n",
    "\n",
    "The main purpose of hypothesis testing is to make objective decisions or draw conclusions about the population based on limited sample information. It allows researchers and analysts to evaluate the validity of assumptions, test research hypotheses, and make informed decisions. Hypothesis testing follows a structured approach and provides a framework for drawing statistically sound conclusions."
   ]
  },
  {
   "cell_type": "markdown",
   "id": "d7a244d2",
   "metadata": {},
   "source": [
    "Objective Decision-Making: Hypothesis testing provides a structured and objective approach to decision-making. It allows researchers to evaluate whether the evidence from the sample data supports or contradicts a specific hypothesis or claim.\n",
    "\n",
    "Statistical Inference: Hypothesis testing allows us to make inferences about population parameters based on sample data. By analyzing the sample, we can draw conclusions about the larger population, which may be impractical or impossible to directly measure.\n",
    "\n",
    "Scientific Research: In scientific research, hypothesis testing is crucial for testing research hypotheses and theories. It helps researchers determine whether the observed data supports or refutes their proposed explanations or predictions.\n",
    "\n",
    "Business and Policy Decisions: Hypothesis testing is widely used in business and policy analysis to guide decision-making. It enables organizations to assess the effectiveness of strategies, evaluate the impact of interventions, and make data-driven decisions.\n",
    "\n",
    "Quality Control: In manufacturing and quality control processes, hypothesis testing is used to ensure product quality and consistency. It helps identify potential issues, compare process parameters, and make improvements based on statistical evidence.\n",
    "\n",
    "Establishing Causality: Hypothesis testing plays a vital role in establishing causal relationships between variables. By formulating null and alternative hypotheses, researchers can assess whether one variable has a significant effect on another.\n",
    "\n",
    "Avoiding Biases: Hypothesis testing provides a rigorous framework for testing claims and avoiding biases. It encourages researchers to rely on statistical evidence rather than personal beliefs or anecdotal observations."
   ]
  },
  {
   "cell_type": "markdown",
   "id": "f8d269aa",
   "metadata": {},
   "source": [
    "Q4. Create a hypothesis that states whether the average weight of male college students is greater than \n",
    "the average weight of female college students"
   ]
  },
  {
   "cell_type": "markdown",
   "id": "d56c1def",
   "metadata": {},
   "source": [
    "\n",
    "Null Hypothesis (H0): The average weight of female college students is equal to or less than the average weight of male college students.\n",
    "Alternative Hypothesis (H1): The average weight of female college students is greater than the average weight of male college students.\n",
    "\n",
    "In symbolic notation:\n",
    "H0: μmale ≤ μfemale\n",
    "H1: μmale > μfemale\n",
    "\n",
    "Here, μmale represents the population mean weight of male college students, and μfemale represents the population mean weight of female college students.\n",
    "\n",
    "To test this hypothesis, we would collect a sample of male and female college students, measure their weights, and calculate the sample means for each group. Then, using appropriate statistical techniques (e.g., t-test or z-test), we would analyze the sample data to determine whether there is sufficient evidence to reject the null hypothesis in favor of the alternative hypothesis."
   ]
  },
  {
   "cell_type": "markdown",
   "id": "b7d69bd4",
   "metadata": {},
   "source": [
    "Q5. Write a Python script to conduct a hypothesis test on the difference between two population means, \n",
    "given a sample from each population."
   ]
  },
  {
   "cell_type": "code",
   "execution_count": 3,
   "id": "970bfa54",
   "metadata": {},
   "outputs": [
    {
     "name": "stdout",
     "output_type": "stream",
     "text": [
      "T-Statistic: 2.8736848324283977\n",
      "P-Value: 0.02071138748808119\n",
      "Result: Reject null hypothesis\n"
     ]
    }
   ],
   "source": [
    "import scipy.stats as stats\n",
    "\n",
    "def conduct_t_test(sample1, sample2, alpha):\n",
    "    # Perform independent samples t-test\n",
    "    t_statistic, p_value = stats.ttest_ind(sample1, sample2)\n",
    "\n",
    "    # Compare p-value with the significance level\n",
    "    if p_value < alpha:\n",
    "        result = \"Reject null hypothesis\"\n",
    "    else:\n",
    "        result = \"Fail to reject null hypothesis\"\n",
    "\n",
    "    # Return the t-statistic, p-value, and test result\n",
    "    return t_statistic, p_value, result\n",
    "\n",
    "# Example usage\n",
    "sample1 = [10, 12, 15, 11, 13]\n",
    "sample2 = [8, 9, 11, 7, 10]\n",
    "alpha = 0.05\n",
    "\n",
    "t_statistic, p_value, result = conduct_t_test(sample1, sample2, alpha)\n",
    "\n",
    "print(\"T-Statistic:\", t_statistic)\n",
    "print(\"P-Value:\", p_value)\n",
    "print(\"Result:\", result)\n"
   ]
  },
  {
   "cell_type": "markdown",
   "id": "baa5131a",
   "metadata": {},
   "source": [
    "Q6: What is a null and alternative hypothesis? Give some examples."
   ]
  },
  {
   "cell_type": "markdown",
   "id": "77e9178d",
   "metadata": {},
   "source": [
    "In hypothesis testing, the null hypothesis (H0) and alternative hypothesis (H1 or Ha) are two competing statements that are used to make conclusions about a population based on sample data. The null hypothesis represents the status quo or a default assumption, while the alternative hypothesis represents an alternative claim or the hypothesis the researcher wants to support."
   ]
  },
  {
   "cell_type": "markdown",
   "id": "d5cf4d72",
   "metadata": {},
   "source": [
    "Example for a One-Sample Mean Test:\n",
    "Null Hypothesis (H0): The average IQ score of a population is 100.\n",
    "Alternative Hypothesis (H1): The average IQ score of a population is not 100.\n",
    "\n",
    "In this example, the null hypothesis assumes that the population mean IQ score is 100, while the alternative hypothesis suggests that the population mean is different from 100.\n",
    "\n",
    "Example for a One-Sample Proportion Test:\n",
    "Null Hypothesis (H0): The proportion of customers satisfied with a product is 0.8.\n",
    "Alternative Hypothesis (H1): The proportion of customers satisfied with a product is less than 0.8."
   ]
  },
  {
   "cell_type": "markdown",
   "id": "eab7aba3",
   "metadata": {},
   "source": [
    "Q7: Write down the steps involved in hypothesis testing."
   ]
  },
  {
   "cell_type": "markdown",
   "id": "aa101d15",
   "metadata": {},
   "source": [
    "Hypothesis testing involves a series of steps to systematically assess the evidence from sample data and make statistical conclusions. \n",
    "\n",
    "State the Research Hypotheses: Clearly define the null hypothesis (H0) and the alternative hypothesis (H1 or Ha) based on the research question or the claim being investigated. The null hypothesis represents the default assumption or no effect, while the alternative hypothesis represents the claim the researcher wants to support.\n",
    "\n",
    "Set the Significance Level: Determine the desired level of significance (alpha) for the hypothesis test. The significance level indicates the maximum probability of making a Type I error (rejecting the null hypothesis when it is actually true). Commonly used significance levels are 0.05 (5%) and 0.01 (1%).\n",
    "\n",
    "Formulate the Test Statistic: Choose an appropriate test statistic that is suitable for the hypothesis test and the data at hand. The test statistic is a measure that summarizes the information in the sample and helps assess the evidence against the null hypothesis.\n",
    "\n",
    "Determine the Test Distribution: Identify the probability distribution that the test statistic follows under the null hypothesis. This depends on the specific test being conducted (e.g., t-distribution for t-tests, F-distribution for ANOVA) and any assumptions made about the data.\n",
    "\n",
    "Collect and Analyze the Sample Data: Collect a representative sample from the population of interest. Analyze the sample data and calculate the test statistic based on the chosen test procedure. This involves performing appropriate calculations specific to the test being conducted.\n",
    "\n",
    "Calculate the P-Value: Determine the p-value associated with the test statistic. The p-value represents the probability of obtaining a test statistic as extreme as (or more extreme than) the observed one, assuming the null hypothesis is true. It quantifies the strength of evidence against the null hypothesis.\n",
    "\n",
    "Make a Statistical Decision: Compare the p-value with the significance level (alpha) to make a statistical decision. If the p-value is less than alpha, reject the null hypothesis in favor of the alternative hypothesis. If the p-value is greater than or equal to alpha, fail to reject the null hypothesis.\n",
    "\n",
    "Interpret the Results: Provide a meaningful interpretation of the statistical decision in the context of the research question. Explain the implications of the findings and draw appropriate conclusions based on the statistical evidence.\n",
    "\n",
    "Discuss Limitations and Drawbacks: Acknowledge any limitations or potential drawbacks of the hypothesis test, such as assumptions made, sample size, or generalizability of the results. It is important to critically evaluate the validity and reliability of the conclusions drawn from the hypothesis testing process."
   ]
  },
  {
   "cell_type": "markdown",
   "id": "ff77b283",
   "metadata": {},
   "source": [
    "Q8. Define p-value and explain its significance in hypothesis testing."
   ]
  },
  {
   "cell_type": "markdown",
   "id": "48f825e9",
   "metadata": {},
   "source": [
    "The p-value is a statistical measure that quantifies the strength of evidence against the null hypothesis in hypothesis testing. It represents the probability of obtaining a test statistic as extreme as (or more extreme than) the observed one, assuming the null hypothesis is true. The p-value helps assess the level of statistical significance and guides the decision-making process in hypothesis testing.\n",
    "\n",
    "In hypothesis testing, the p-value is compared to a pre-determined significance level (alpha) to make a statistical decision. The significance level determines the threshold below which the null hypothesis is rejected. If the p-value is smaller than the significance level (p-value < alpha), it suggests that the observed data provides strong evidence against the null hypothesis, and we reject the null hypothesis in favor of the alternative hypothesis. On the other hand, if the p-value is larger than or equal to the significance level (p-value ≥ alpha), we fail to reject the null hypothesis due to insufficient evidence."
   ]
  },
  {
   "cell_type": "markdown",
   "id": "93362738",
   "metadata": {},
   "source": [
    "It's important to note that the p-value is not a direct measure of the probability of the null hypothesis being true or false, nor does it provide information about the truth or falsity of the alternative hypothesis. The p-value is a statistical tool that aids in decision-making and provides a quantitative assessment of the evidence against the null hypothesis based on the observed data."
   ]
  },
  {
   "cell_type": "markdown",
   "id": "910e7f3d",
   "metadata": {},
   "source": [
    "Q9. Generate a Student's t-distribution plot using Python's matplotlib library, with the degrees of freedom \n",
    "parameter set to 10"
   ]
  },
  {
   "cell_type": "code",
   "execution_count": 4,
   "id": "d91f07a4",
   "metadata": {},
   "outputs": [
    {
     "data": {
      "image/png": "[encoded data removed]",
      "text/plain": [
       "<Figure size 640x480 with 1 Axes>"
      ]
     },
     "metadata": {},
     "output_type": "display_data"
    }
   ],
   "source": [
    "import numpy as np\n",
    "import matplotlib.pyplot as plt\n",
    "import scipy.stats as stats\n",
    "\n",
    "# Set the degrees of freedom\n",
    "df = 10\n",
    "\n",
    "# Generate x-values for the plot\n",
    "x = np.linspace(-4, 4, 500)\n",
    "\n",
    "# Calculate the corresponding y-values using the t-distribution\n",
    "y = stats.t.pdf(x, df)\n",
    "\n",
    "# Plot the t-distribution\n",
    "plt.plot(x, y, label=f't-Distribution (df={df})')\n",
    "\n",
    "# Set plot labels and title\n",
    "plt.xlabel('x')\n",
    "plt.ylabel('Probability Density')\n",
    "plt.title(f'Student\\'s t-Distribution (df={df})')\n",
    "\n",
    "# Display the legend and show the plot\n",
    "plt.legend()\n",
    "plt.show()\n"
   ]
  },
  {
   "cell_type": "markdown",
   "id": "3547e943",
   "metadata": {},
   "source": [
    "Q10. Write a Python program to calculate the two-sample t-test for independent samples, given two \n",
    "random samples of equal size and a null hypothesis that the population means are equal."
   ]
  },
  {
   "cell_type": "code",
   "execution_count": 7,
   "id": "efde102c",
   "metadata": {},
   "outputs": [
    {
     "name": "stdout",
     "output_type": "stream",
     "text": [
      "T-Statistic: -5.0\n",
      "P-Value: 0.001052825793366539\n"
     ]
    }
   ],
   "source": [
    "import scipy.stats as stats\n",
    "\n",
    "def two_sample_t_test(sample1, sample2):\n",
    "    # Calculate the t-statistic and p-value\n",
    "    t_statistic, p_value = stats.ttest_ind(sample1, sample2)\n",
    "\n",
    "    # Return the t-statistic and p-value\n",
    "    return t_statistic, p_value\n",
    "\n",
    "# Example usage\n",
    "sample1 = [1, 2, 3, 4, 5]\n",
    "sample2 = [6, 7, 8, 9, 10]\n",
    "\n",
    "t_statistic, p_value = two_sample_t_test(sample1, sample2)\n",
    "\n",
    "print(\"T-Statistic:\", t_statistic)\n",
    "print(\"P-Value:\", p_value)\n"
   ]
  },
  {
   "cell_type": "markdown",
   "id": "a6d80a38",
   "metadata": {},
   "source": [
    "Q11: What is Student’s t distribution? When to use the t-Distribution."
   ]
  },
  {
   "cell_type": "markdown",
   "id": "68c77463",
   "metadata": {},
   "source": [
    "\n",
    "The Student's t-distribution, also known as the t-distribution, is a probability distribution that is used in statistical inference. It is similar to the standard normal distribution (Z-distribution) but has heavier tails, which makes it more suitable for smaller sample sizes or situations where the population standard deviation is unknown."
   ]
  },
  {
   "cell_type": "markdown",
   "id": "14f2fc88",
   "metadata": {},
   "source": [
    "Small Sample Sizes: When the sample size is small (typically less than 30) and the population standard deviation is unknown, the t-distribution is used to estimate population parameters, such as the mean, with greater accuracy than the standard normal distribution.\n",
    "\n",
    "Population Standard Deviation Unknown: When the population standard deviation is unknown, the t-distribution is used instead of the standard normal distribution to perform hypothesis tests or construct confidence intervals for the population mean.\n",
    "\n",
    "Outliers or Skewed Data: The t-distribution is more robust to outliers and deviations from normality compared to the standard normal distribution. Thus, it is often used when the data exhibits outliers or is not perfectly normally distributed.\n",
    "\n",
    "Comparing Means of Independent Samples: When comparing the means of two independent samples, the t-distribution is used in the two-sample t-test. This is commonly employed in experiments or observational studies to determine if there is a significant difference between two groups.\n",
    "\n",
    "Regression Analysis: In linear regression, the t-distribution is used to construct confidence intervals and perform hypothesis tests for the regression coefficients. This allows for inference about the significance of predictors and their impact on the response variable."
   ]
  },
  {
   "cell_type": "markdown",
   "id": "22483220",
   "metadata": {},
   "source": [
    "Q12: What is t-statistic? State the formula for t-statistic."
   ]
  },
  {
   "cell_type": "markdown",
   "id": "571cf08c",
   "metadata": {},
   "source": [
    "The t-statistic is a measure that quantifies the difference between sample means relative to the variability within the samples. It is used in hypothesis testing and calculating confidence intervals when the population standard deviation is unknown and must be estimated from the sample data.\n",
    "\n",
    "The formula for calculating the t-statistic depends on the specific context and the type of t-test being conducted. Here are the formulas for two common scenarios:\n",
    "\n",
    "One-sample t-test:\n",
    "The t-statistic formula for a one-sample t-test compares the sample mean to a hypothesized population mean. If x̄ is the sample mean, μ is the hypothesized population mean, s is the sample standard deviation, and n is the sample size, the formula is:\n",
    "t = (x̄ - μ) / (s / √n)"
   ]
  },
  {
   "cell_type": "markdown",
   "id": "f8cd414e",
   "metadata": {},
   "source": [
    "Q13. A coffee shop owner wants to estimate the average daily revenue for their shop. They take a random \n",
    "sample of 50 days and find the sample mean revenue to be $500 with a standard deviation of $50. \n",
    "Estimate the population mean revenue with a 95% confidence interval."
   ]
  },
  {
   "cell_type": "markdown",
   "id": "a56e0bd1",
   "metadata": {},
   "source": [
    "Confidence Interval = sample mean ± (critical value) * (standard deviation / sqrt(sample size))\n",
    "\n",
    "In this case, since the sample size is 50, the sample mean is $500, and the standard deviation is $50, we can calculate the confidence interval as follows:\n",
    "\n",
    "Standard Error = standard deviation / sqrt(sample size)\n",
    "Standard Error = $50 / sqrt(50) ≈ $7.07\n",
    "\n",
    "Critical Value for a 95% Confidence Interval (using a t-distribution with 49 degrees of freedom) ≈ 2.009\n",
    "\n",
    "Margin of Error = (critical value) * (standard error)\n",
    "Margin of Error = 2.009 * $7.07 ≈ $14.20\n",
    "\n",
    "Confidence Interval = sample mean ± margin of error\n",
    "Confidence Interval = $500 ± $14.20\n",
    "Confidence Interval ≈ [$485.80, $514.20]\n",
    "\n",
    "Therefore, with a 95% confidence level, we can estimate that the population mean revenue for the coffee shop falls within the range of approximately $485.80 to $514.20 per day."
   ]
  },
  {
   "cell_type": "markdown",
   "id": "4bbfe9a4",
   "metadata": {},
   "source": [
    "Q14. A researcher hypothesizes that a new drug will decrease blood pressure by 10 mmHg. They conduct a \n",
    "clinical trial with 100 patients and find that the sample mean decrease in blood pressure is 8 mmHg with a \n",
    "standard deviation of 3 mmHg. Test the hypothesis with a significance level of 0.05."
   ]
  },
  {
   "cell_type": "markdown",
   "id": "a1c96f85",
   "metadata": {},
   "source": [
    "To test the hypothesis regarding the decrease in blood pressure, we can conduct a one-sample t-test. The null hypothesis (H0) assumes that the mean decrease in blood pressure is not different from 10 mmHg, while the alternative hypothesis (H1 or Ha) suggests that the mean decrease is indeed different from 10 mmHg.\n",
    "\n",
    "Let's perform the t-test using the given information:\n",
    "\n",
    "Sample size (n) = 100\n",
    "Sample mean (x̄) = 8 mmHg\n",
    "Sample standard deviation (s) = 3 mmHg\n",
    "Hypothesized population mean (μ0) = 10 mmHg\n",
    "Significance level (α) = 0.05\n",
    "\n",
    "The formula for the t-statistic in a one-sample t-test is:\n",
    "\n",
    "t = (x̄ - μ0) / (s / √n)\n",
    "\n",
    "Substituting the values into the formula, we can calculate the t-statistic:\n",
    "\n",
    "t = (8 - 10) / (3 / √100)\n",
    "t = -2 / 0.3\n",
    "t ≈ -6.67\n",
    "\n",
    "Now, we need to determine the critical value from the t-distribution for a significance level of 0.05. Since the sample size is large (n = 100), we can approximate the t-distribution with the standard normal distribution.\n",
    "\n",
    "For a two-tailed test at α = 0.05, the critical z-value is approximately ±1.96.\n",
    "\n",
    "Since our t-statistic is outside the range of ±1.96, we have strong evidence to reject the null hypothesis in favor of the alternative hypothesis. This indicates that the new drug has a statistically significant effect on decreasing blood pressure, as the sample mean decrease of 8 mmHg is significantly different from the hypothesized value of 10 mmHg."
   ]
  },
  {
   "cell_type": "markdown",
   "id": "0ab2a222",
   "metadata": {},
   "source": [
    "Q15. An electronics company produces a certain type of product with a mean weight of 5 pounds and a \n",
    "standard deviation of 0.5 pounds. A random sample of 25 products is taken, and the sample mean weight \n",
    "is found to be 4.8 pounds. Test the hypothesis that the true mean weight of the products is less than 5 \n",
    "pounds with a significance level of 0.01."
   ]
  },
  {
   "cell_type": "markdown",
   "id": "c5859970",
   "metadata": {},
   "source": [
    " we can conduct a one-sample t-test. The null hypothesis (H0) assumes that the true mean weight is less than 5 pounds, while the alternative hypothesis (H1) suggests that the true mean weight is greater than or equal to 5 pounds.\n",
    "\n",
    "Let's perform the t-test using the given information:\n",
    "\n",
    "Sample size (n) = 25\n",
    "Sample mean (x̄) = 4.8 pounds\n",
    "Population standard deviation (σ) = 0.5 pounds\n",
    "Hypothesized population mean (μ0) = 5 pounds\n",
    "Significance level (α) = 0.01\n",
    "\n",
    "The formula for the t-statistic in a one-sample t-test is:\n",
    "\n",
    "t = (x̄ - μ0) / (σ / √n)\n",
    "\n",
    "Substituting the values into the formula, we can calculate the t-statistic:\n",
    "\n",
    "t = (4.8 - 5) / (0.5 / √25)\n",
    "t = -0.2 / (0.5 / 5)\n",
    "t = -0.2 / 0.1\n",
    "t = -2\n",
    "\n",
    "Next, we need to determine the critical value from the t-distribution for a one-tailed test at α = 0.01 with 24 degrees of freedom (n-1). Since the sample size is 25, the degrees of freedom is 24.\n",
    "\n",
    "For a one-tailed test at α = 0.01 and 24 degrees of freedom, the critical t-value is approximately -2.492.\n",
    "\n",
    "Since our t-statistic (-2) is smaller than the critical t-value (-2.492), we have sufficient evidence to reject the null hypothesis in favor of the alternative hypothesis. This suggests that the true mean weight of the products is indeed greater than or equal to 5 pounds."
   ]
  },
  {
   "cell_type": "markdown",
   "id": "021444f1",
   "metadata": {},
   "source": [
    "Q16. Two groups of students are given different study materials to prepare for a test. The first group (n1 = \n",
    "30) has a mean score of 80 with a standard deviation of 10, and the second group (n2 = 40) has a mean \n",
    "score of 75 with a standard deviation of 8. Test the hypothesis that the population means for the two \n",
    "groups are equal with a significance level of 0.01."
   ]
  },
  {
   "cell_type": "markdown",
   "id": "9f0112c9",
   "metadata": {},
   "source": [
    "The null hypothesis (H0) assumes that the population means are equal, while the alternative hypothesis (H1 or Ha) suggests that the population means are not equal.\n",
    "\n",
    "Let's perform the t-test using the given information:\n",
    "\n",
    "First Group:\n",
    "Sample size (n1) = 30\n",
    "Sample mean (x̄1) = 80\n",
    "Sample standard deviation (s1) = 10\n",
    "\n",
    "Second Group:\n",
    "Sample size (n2) = 40\n",
    "Sample mean (x̄2) = 75\n",
    "Sample standard deviation (s2) = 8\n",
    "\n",
    "Significance level (α) = 0.01\n",
    "\n",
    "The formula for the t-statistic in a two-sample t-test is:\n",
    "\n",
    "t = (x̄1 - x̄2) / √((s1^2 / n1) + (s2^2 / n2))\n",
    "\n",
    "Substituting the values into the formula, we can calculate the t-statistic:\n",
    "\n",
    "t = (80 - 75) / √((10^2 / 30) + (8^2 / 40))\n",
    "t = 5 / √(100/30 + 64/40)\n",
    "t = 5 / √(3.33 + 1.6)\n",
    "t = 5 / √4.93\n",
    "t ≈ 5 / 2.22\n",
    "t ≈ 2.25\n",
    "\n",
    "Next, we need to determine the critical value from the t-distribution for a two-tailed test at α = 0.01 with degrees of freedom given by (n1 - 1) + (n2 - 1).\n",
    "\n",
    "Degrees of freedom = (30 - 1) + (40 - 1) = 68\n",
    "\n",
    "For a two-tailed test at α = 0.01 and 68 degrees of freedom, the critical t-value is approximately ±2.618.\n",
    "\n",
    "Since our t-statistic (2.25) is smaller than the critical t-value (±2.618), we fail to reject the null hypothesis. This suggests that there is insufficient evidence to conclude that the population means for the two groups are different at the 0.01 significance level. It does not necessarily mean that the population means are equal, but rather that we do not have enough evidence to suggest they are different."
   ]
  },
  {
   "cell_type": "markdown",
   "id": "cb242dd8",
   "metadata": {},
   "source": [
    "Q17. A marketing company wants to estimate the average number of ads watched by viewers during a TV \n",
    "program. They take a random sample of 50 viewers and find that the sample mean is 4 with a standard \n",
    "deviation of 1.5. Estimate the population mean with a 99% confidence interval."
   ]
  },
  {
   "cell_type": "markdown",
   "id": "c465dbf2",
   "metadata": {},
   "source": [
    "The formula for calculating the confidence interval for a population mean is:\n",
    "\n",
    "Confidence Interval = sample mean ± (critical value) * (standard deviation / sqrt(sample size))\n",
    "\n",
    "In this case, since the sample size is 50, the sample mean is 4, and the standard deviation is 1.5, we can calculate the confidence interval as follows:\n",
    "\n",
    "Standard Error = standard deviation / sqrt(sample size)\n",
    "Standard Error = 1.5 / sqrt(50) ≈ 0.2121\n",
    "\n",
    "Critical Value for a 99% Confidence Interval (using a t-distribution with 49 degrees of freedom) ≈ 2.681\n",
    "\n",
    "Margin of Error = (critical value) * (standard error)\n",
    "Margin of Error = 2.681 * 0.2121 ≈ 0.569\n",
    "\n",
    "Confidence Interval = sample mean ± margin of error\n",
    "Confidence Interval = 4 ± 0.569\n",
    "Confidence Interval ≈ [3.431, 4.569]"
   ]
  }
 ],
 "metadata": {
  "kernelspec": {
   "display_name": "Python 3 (ipykernel)",
   "language": "python",
   "name": "python3"
  },
  "language_info": {
   "codemirror_mode": {
    "name": "ipython",
    "version": 3
   },
   "file_extension": ".py",
   "mimetype": "text/x-python",
   "name": "python",
   "nbconvert_exporter": "python",
   "pygments_lexer": "ipython3",
   "version": "3.9.13"
  }
 },
 "nbformat": 4,
 "nbformat_minor": 5
}

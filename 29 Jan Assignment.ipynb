{
 "cells": [
  {
   "cell_type": "markdown",
   "id": "7358a1b7",
   "metadata": {},
   "source": [
    "Q1.Who developed python programming language? "
   ]
  },
  {
   "cell_type": "code",
   "execution_count": null,
   "id": "1ed15684",
   "metadata": {},
   "outputs": [],
   "source": [
    "Guido van Rossum"
   ]
  },
  {
   "cell_type": "markdown",
   "id": "f5b0db1f",
   "metadata": {},
   "source": [
    "Q2.Which type of programming does python supports?"
   ]
  },
  {
   "cell_type": "code",
   "execution_count": null,
   "id": "3c8b2b8e",
   "metadata": {},
   "outputs": [],
   "source": [
    "Python is an interpreted, interactive, object-oriented programming language. "
   ]
  },
  {
   "cell_type": "markdown",
   "id": "4c4fd849",
   "metadata": {},
   "source": [
    "Q3.Is python case sensitive when dealing with identifiers?"
   ]
  },
  {
   "cell_type": "markdown",
   "id": "84bb5f73",
   "metadata": {},
   "source": [
    "Yes, Python is a case−sensitive programming language. This means that it considers uppercase and lowercase letters differently."
   ]
  },
  {
   "cell_type": "markdown",
   "id": "ad64ab6e",
   "metadata": {},
   "source": [
    "Q.4 What is the correct extension of python file?"
   ]
  },
  {
   "cell_type": "markdown",
   "id": "5e9684ce",
   "metadata": {},
   "source": [
    ".pyc"
   ]
  },
  {
   "cell_type": "markdown",
   "id": "4edb8460",
   "metadata": {},
   "source": [
    "Q.5 Is python code complied or interpreted?"
   ]
  },
  {
   "cell_type": "markdown",
   "id": "e34bb8ce",
   "metadata": {},
   "source": [
    "interpreted"
   ]
  },
  {
   "cell_type": "markdown",
   "id": "cfacda53",
   "metadata": {},
   "source": [
    "Q.6 Name a few blocks of code used to define in python code?"
   ]
  },
  {
   "cell_type": "markdown",
   "id": "d4642d8e",
   "metadata": {},
   "source": [
    "1.Functional defination block\n",
    "2.class defination block\n",
    "3.conditional block\n",
    "4.Loop block"
   ]
  },
  {
   "cell_type": "markdown",
   "id": "98589664",
   "metadata": {},
   "source": [
    "Q 7. State a character used to give single line comments in python?"
   ]
  },
  {
   "cell_type": "markdown",
   "id": "ba2ba614",
   "metadata": {},
   "source": [
    "#"
   ]
  },
  {
   "cell_type": "markdown",
   "id": "1000f7da",
   "metadata": {},
   "source": [
    "Q 8. Mention a function which can help us to find the version of python that we are currently working on ?"
   ]
  },
  {
   "cell_type": "markdown",
   "id": "4689664f",
   "metadata": {},
   "source": [
    "sys.version"
   ]
  },
  {
   "cell_type": "markdown",
   "id": "5a8f3ed5",
   "metadata": {},
   "source": [
    "Q 9. python suppprts the creation of anonymous function at runtime , using a construct called?"
   ]
  },
  {
   "cell_type": "markdown",
   "id": "37b753b1",
   "metadata": {},
   "source": [
    "lambda"
   ]
  },
  {
   "cell_type": "markdown",
   "id": "30d0e38e",
   "metadata": {},
   "source": [
    "Q 10. What doed pip stands for in python?"
   ]
  },
  {
   "cell_type": "markdown",
   "id": "67f4a9e6",
   "metadata": {},
   "source": [
    "\"pip\" stands for \"Pip Installs Packages\" or sometimes referred to as \"Pip Installs Python.\" Pip is a package management system used to install and manage software packages written in Python."
   ]
  },
  {
   "cell_type": "markdown",
   "id": "09d4dee2",
   "metadata": {},
   "source": [
    "Q 11.Mention a few built in functions in python?"
   ]
  },
  {
   "cell_type": "markdown",
   "id": "ef6811e7",
   "metadata": {},
   "source": [
    "print(),len(),sum(),input(),str(),float(),dict(),type(),range(),chr()"
   ]
  },
  {
   "cell_type": "markdown",
   "id": "4893c6db",
   "metadata": {},
   "source": [
    "Q.12 What is the maximum possible length of identifier in python?"
   ]
  },
  {
   "cell_type": "markdown",
   "id": "624f46be",
   "metadata": {},
   "source": [
    "79 character"
   ]
  },
  {
   "cell_type": "markdown",
   "id": "6000bf7f",
   "metadata": {},
   "source": [
    "Q 13. What are the benifits of using python?"
   ]
  },
  {
   "cell_type": "markdown",
   "id": "9f18cc90",
   "metadata": {},
   "source": [
    "Large developer community. \n",
    "Python is one of the most popular programming languages in the world. ...\n",
    "Extensive libraries. Python offers a wide range of libraries that can be used across various applications. ...\n",
    "Write less, do more. Python has very concise syntax. ...\n",
    "Portability. ...\n",
    "Wide range of use cases."
   ]
  },
  {
   "cell_type": "markdown",
   "id": "4a85c083",
   "metadata": {},
   "source": [
    "Q 14.How is the memory managed in python?"
   ]
  },
  {
   "cell_type": "markdown",
   "id": "4e994e7c",
   "metadata": {},
   "source": [
    "Memory management in Python is primarily handled by the Python Memory Manager, which is responsible for allocating and deallocating memory for objects in the Python runtime. Python uses a combination of techniques to manage memory effectively:\n",
    "\n",
    "Reference Counting: Python employs a technique called reference counting to keep track of the number of references to an object. Each object has a reference count, and when the count reaches zero, the object is deallocated. When an object is assigned to a new variable or passed as an argument, its reference count is incremented, and when a variable goes out of scope or is reassigned, the reference count is decremented.\n",
    "\n",
    "Garbage Collection: In addition to reference counting, Python also utilizes a garbage collector to detect and deallocate objects with circular references or objects that have reference counts that cannot be decremented to zero. The garbage collector identifies and collects objects that are no longer reachable through any chain of references.\n",
    "\n",
    "Automatic Memory Management: Python's memory management is automatic, meaning developers do not need to manually allocate or deallocate memory like in languages such as C or C++. Python automatically handles memory allocation and deallocation based on the lifetime of objects, making it easier to write memory-safe code.\n",
    "\n",
    "Memory Pools and Caching: To improve performance, Python uses memory pools and caching mechanisms. Small objects of certain sizes are allocated from fixed-size memory pools, reducing overhead and improving memory allocation speed. Python also caches small integers and string literals, allowing them to be reused instead of creating new objects for each occurrence.\n",
    "\n",
    "Memory Optimizations: Python implements various memory optimizations to reduce memory usage. These include techniques like object reuse, copy-on-write for mutable objects, and interning immutable objects (e.g., small integers), which reduces the memory footprint and improves performance."
   ]
  },
  {
   "cell_type": "markdown",
   "id": "abd3d902",
   "metadata": {},
   "source": [
    "Q 15. How to install python on windows and set path variables?"
   ]
  },
  {
   "cell_type": "markdown",
   "id": "cee9fe73",
   "metadata": {},
   "source": [
    "Right click on My Computer and click on properties.\n",
    "Click on Advanced System settings. ...\n",
    "Click on Environment Variable tab.\n",
    "Click on new tab of user variables. ...\n",
    "Write path in variable name.\n",
    "Copy the path of Python folder.\n",
    "Paste path of Python in variable value."
   ]
  },
  {
   "cell_type": "markdown",
   "id": "1991f5a3",
   "metadata": {},
   "source": [
    "Q 16. Is identation required in python?"
   ]
  },
  {
   "cell_type": "markdown",
   "id": "8ecd87e0",
   "metadata": {},
   "source": [
    "Indentation is important to Python, because it's how you determine scope. Scope is how Python knows what code belongs to what part of the program."
   ]
  }
 ],
 "metadata": {
  "kernelspec": {
   "display_name": "Python 3 (ipykernel)",
   "language": "python",
   "name": "python3"
  },
  "language_info": {
   "codemirror_mode": {
    "name": "ipython",
    "version": 3
   },
   "file_extension": ".py",
   "mimetype": "text/x-python",
   "name": "python",
   "nbconvert_exporter": "python",
   "pygments_lexer": "ipython3",
   "version": "3.9.13"
  }
 },
 "nbformat": 4,
 "nbformat_minor": 5
}

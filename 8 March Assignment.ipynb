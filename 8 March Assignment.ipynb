{
 "cells": [
  {
   "cell_type": "markdown",
   "id": "bc980dde",
   "metadata": {},
   "source": [
    "Q1. What is the Probability density function?"
   ]
  },
  {
   "cell_type": "markdown",
   "id": "de95c46d",
   "metadata": {},
   "source": [
    "The probability density function (PDF) is a fundamental concept in probability theory and statistics. It describes the likelihood of a continuous random variable taking on a specific value within a given range. In simpler terms, the PDF represents the probability distribution of a continuous random variable."
   ]
  },
  {
   "cell_type": "markdown",
   "id": "3b5554e7",
   "metadata": {},
   "source": [
    "Q2. What are the types of Probability distribution?"
   ]
  },
  {
   "cell_type": "markdown",
   "id": "61c4874e",
   "metadata": {},
   "source": [
    "Uniform Distribution: In this distribution, all outcomes within a given range have an equal probability. The probability density function is a constant within the range and zero outside that range.\n",
    "\n",
    "Normal Distribution (Gaussian Distribution): The normal distribution is symmetrical and bell-shaped. It is widely used in statistics due to its central limit theorem and is characterized by its mean (μ) and standard deviation (σ).\n",
    "\n",
    "Binomial Distribution: The binomial distribution models the number of successes in a fixed number of independent Bernoulli trials, where each trial has a constant probability of success (p).\n",
    "\n",
    "Poisson Distribution: The Poisson distribution is used to model the number of events occurring in a fixed interval of time or space. It is often employed for rare events with a known average rate of occurrence (λ).\n",
    "\n",
    "Exponential Distribution: The exponential distribution is commonly used to model the time between events in a Poisson process. It is characterized by a constant rate parameter (λ) and is often employed to analyze waiting times and lifetimes.\n",
    "\n",
    "Gamma Distribution: The gamma distribution is a generalization of the exponential distribution and is used to model the waiting time until a specified number of events occur. It includes two parameters, shape (α) and rate (β).\n",
    "\n",
    "Beta Distribution: The beta distribution is a continuous probability distribution defined on the interval [0, 1]. It is often used as a prior distribution in Bayesian analysis and is characterized by two shape parameters.\n",
    "\n",
    "Student's t-Distribution: The t-distribution is similar to the normal distribution but has fatter tails. It is commonly used for inference about the mean when the sample size is small or the population variance is unknown."
   ]
  },
  {
   "cell_type": "markdown",
   "id": "e12ffd6a",
   "metadata": {},
   "source": [
    "Q3. Write a Python function to calculate the probability density function of a normal distribution with \n",
    "given mean and standard deviation at a given point."
   ]
  },
  {
   "cell_type": "code",
   "execution_count": null,
   "id": "dd74f51c",
   "metadata": {},
   "outputs": [],
   "source": [
    "You can use the scipy.stats module in Python to calculate the probability density function (PDF) of a normal distribution.\n"
   ]
  },
  {
   "cell_type": "code",
   "execution_count": 3,
   "id": "5e577ab6",
   "metadata": {},
   "outputs": [
    {
     "name": "stdout",
     "output_type": "stream",
     "text": [
      "PDF at x = 1.5 is 0.12951759566589174\n"
     ]
    }
   ],
   "source": [
    "from scipy.stats import norm\n",
    "\n",
    "def calculate_normal_pdf(mean, std_dev, x):\n",
    "    return norm.pdf(x, mean, std_dev)\n",
    "\n",
    "mean = 0\n",
    "std_dev = 1\n",
    "x = 1.5\n",
    "\n",
    "pdf = calculate_normal_pdf(mean, std_dev, x)\n",
    "print(\"PDF at x =\", x, \"is\", pdf)\n"
   ]
  },
  {
   "cell_type": "code",
   "execution_count": 1,
   "id": "3e298bba",
   "metadata": {},
   "outputs": [
    {
     "name": "stdout",
     "output_type": "stream",
     "text": [
      "0.12951759566589174\n"
     ]
    }
   ],
   "source": [
    "from scipy.stats import norm\n",
    "mean = 0\n",
    "std_dev = 1\n",
    "x = 1.5\n",
    "n=norm.pdf(x, mean, std_dev)\n",
    "print()"
   ]
  },
  {
   "cell_type": "markdown",
   "id": "0743f10f",
   "metadata": {},
   "source": [
    "Q4. What are the properties of Binomial distribution? Give two examples of events where binomial \n",
    "distribution can be applied."
   ]
  },
  {
   "cell_type": "markdown",
   "id": "32d83c35",
   "metadata": {},
   "source": [
    "The Binomial distribution is a discrete probability distribution that describes the number of successes in a fixed number of independent Bernoulli trials, where each trial has the same probability of success. The properties of the Binomial distribution are as follows:\n",
    "\n",
    "Fixed number of trials: The distribution represents a fixed number of independent trials or experiments, denoted by 'n'. Each trial can have only two possible outcomes: success or failure.\n",
    "\n",
    "Independent trials: Each trial is independent of each other, meaning that the outcome of one trial does not affect the outcome of the other trials.\n",
    "\n",
    "Constant probability of success: The probability of success, denoted by 'p', remains the same for each trial. The probability of failure is given by (1 - p).\n",
    "\n",
    "Discrete outcomes: The number of successes, denoted by 'x', can only take discrete values from 0 to n, inclusive.\n",
    "\n",
    "Probability mass function: The probability mass function (PMF) of the Binomial distribution gives the probability of obtaining exactly 'x' successes in 'n' trials.\n",
    "\n",
    "Two examples where the Binomial distribution can be applied are:\n",
    "\n",
    "Coin Flips: Suppose you flip a fair coin 10 times and want to find the probability of getting exactly 7 heads. Each coin flip is independent, and there are two possible outcomes: heads (success) or tails (failure). The probability of getting heads is the same for each flip. This scenario can be modeled using the Binomial distribution.\n",
    "\n",
    "Quality Control: In a manufacturing process, a company checks a sample of 100 products for defects. The probability of any given product being defective is 0.05. We can use the Binomial distribution to find the probability of finding a specific number of defective products in the sample, such as exactly 3 defective products."
   ]
  },
  {
   "cell_type": "markdown",
   "id": "3763593d",
   "metadata": {},
   "source": [
    "Q5. Generate a random sample of size 1000 from a binomial distribution with probability of success 0.4 \n",
    "and plot a histogram of the results using matplotlib."
   ]
  },
  {
   "cell_type": "code",
   "execution_count": 13,
   "id": "cdd9a27b",
   "metadata": {},
   "outputs": [
    {
     "data": {
      "image/png": "[encoded data removed]",
      "text/plain": [
       "<Figure size 640x480 with 1 Axes>"
      ]
     },
     "metadata": {},
     "output_type": "display_data"
    }
   ],
   "source": [
    "\n",
    "\n",
    "import numpy as np\n",
    "import matplotlib.pyplot as plt\n",
    "\n",
    "\n",
    "sample_size = 1000\n",
    "probability_of_success = 0.4\n",
    "\n",
    "sample = np.random.binomial(1, probability_of_success, sample_size)\n",
    "\n",
    "plt.hist(sample, bins=3, color='red', edgecolor='black' )\n",
    "plt.xlabel('Success (1) or Failure (0)')\n",
    "plt.ylabel('Frequency')\n",
    "plt.title('Binomial Distribution - Random Sample')\n",
    "plt.xticks([0, 1])\n",
    "plt.yticks(np.arange(0, sample_size+100, 100))\n",
    "plt.grid(True, axis='y')\n",
    "plt.show()\n"
   ]
  },
  {
   "cell_type": "code",
   "execution_count": 14,
   "id": "a2b55147",
   "metadata": {},
   "outputs": [],
   "source": [
    "import math\n",
    "\n",
    "def poisson_cdf(mean, k):\n",
    "    cdf = 0.0\n",
    "    for i in range(k + 1):\n",
    "        cdf += math.exp(-mean) * (mean ** i) / math.factorial(i)\n",
    "    return cdf\n"
   ]
  },
  {
   "cell_type": "code",
   "execution_count": 20,
   "id": "f527dd65",
   "metadata": {},
   "outputs": [
    {
     "name": "stdout",
     "output_type": "stream",
     "text": [
      "cumulative probability less than or equal to 4 is 0.891\n"
     ]
    }
   ],
   "source": [
    "mean = 2.5\n",
    "k = 4\n",
    "\n",
    "cdf_value = poisson_cdf(mean, k)\n",
    "print(f\"cumulative probability less than or equal to {k} is {cdf_value:.3f}\")\n"
   ]
  },
  {
   "cell_type": "markdown",
   "id": "5b9b8c56",
   "metadata": {},
   "source": [
    "Q7. How Binomial distribution different from Poisson distribution?"
   ]
  },
  {
   "cell_type": "markdown",
   "id": "05ddf108",
   "metadata": {},
   "source": [
    "The Binomial distribution and the Poisson distribution are both probability distributions used to model the number of events or successes. However, they differ in several key aspects:\n",
    "\n",
    "Nature of Trials/Events:\n",
    "\n",
    "Binomial Distribution: The Binomial distribution is used when the trials or events are independent and have only two possible outcomes: success or failure. Each trial has the same probability of success.\n",
    "Poisson Distribution: The Poisson distribution is used when the events occur in a continuous or infinite interval, such as time or space. The events are assumed to occur independently, and the number of events in a given interval can vary.\n",
    "Number of Trials/Events:\n",
    "\n",
    "Binomial Distribution: The Binomial distribution describes the number of successes in a fixed number of trials or events, denoted by 'n'.\n",
    "Poisson Distribution: The Poisson distribution describes the number of events in a fixed interval of time or space. The number of events is not predetermined but can vary.\n",
    "Probability of Success/Event Rate:\n",
    "\n",
    "Binomial Distribution: In the Binomial distribution, the probability of success in each trial remains constant and is denoted by 'p'. The probability of failure is given by (1 - p).\n",
    "Poisson Distribution: In the Poisson distribution, the event rate or the average number of events in the given interval is denoted by 'λ' (lambda). It represents the expected number of events in the interval.\n",
    "Distribution Shape:\n",
    "\n",
    "Binomial Distribution: The Binomial distribution is discrete and symmetric, with a bell-shaped curve when the number of trials is large.\n",
    "Poisson Distribution: The Poisson distribution is also discrete but typically skewed to the right. As the average rate 'λ' increases, the distribution becomes more symmetric and bell-shaped.\n",
    "Assumptions and Limitations:\n",
    "\n",
    "Binomial Distribution: The Binomial distribution assumes a fixed number of independent trials with a constant probability of success. It is appropriate for situations where the trials are identical and the probability of success remains the same for each trial.\n",
    "Poisson Distribution: The Poisson distribution assumes events occur independently in a continuous or infinite interval. It is suitable when the average event rate is low, and the events are random and independent."
   ]
  },
  {
   "cell_type": "markdown",
   "id": "d668bee2",
   "metadata": {},
   "source": [
    "Q8. Generate a random sample of size 1000 from a Poisson distribution with mean 5 and calculate the \n",
    "sample mean and variance."
   ]
  },
  {
   "cell_type": "code",
   "execution_count": 22,
   "id": "95a529ed",
   "metadata": {},
   "outputs": [
    {
     "name": "stdout",
     "output_type": "stream",
     "text": [
      "Sample Mean: 4.97500\n",
      "Sample Variance: 4.98038\n"
     ]
    }
   ],
   "source": [
    "import numpy as np\n",
    "\n",
    "# Set the parameters\n",
    "sample_size = 1000\n",
    "mean = 5\n",
    "\n",
    "# Generate the random sample\n",
    "sample = np.random.poisson(mean, sample_size)\n",
    "\n",
    "# Calculate the sample mean and variance\n",
    "sample_mean = np.mean(sample)\n",
    "sample_variance = np.var(sample)\n",
    "\n",
    "# Print the results\n",
    "print(f\"Sample Mean: {sample_mean:.5f}\")\n",
    "print(f\"Sample Variance: {sample_variance:.5f}\")\n"
   ]
  },
  {
   "cell_type": "markdown",
   "id": "7edd1b8f",
   "metadata": {},
   "source": [
    "Q9. How mean and variance are related in Binomial distribution and Poisson distribution?"
   ]
  },
  {
   "cell_type": "markdown",
   "id": "47fe8bc5",
   "metadata": {},
   "source": [
    "The relationship between the mean and variance in the Binomial distribution is σ^2 = μ * (1 - p), where μ is the mean and p is the probability of success. This relationship indicates that as the probability of success approaches either extreme (0 or 1), the variance decreases, resulting in a narrower distribution."
   ]
  },
  {
   "cell_type": "markdown",
   "id": "b2e9a530",
   "metadata": {},
   "source": [
    "In the Poisson distribution, the mean and variance are the same, indicating that the distribution is well-characterized by its average rate of events. Unlike the Binomial distribution, there is no dependence on a probability of success or a fixed number of trials."
   ]
  },
  {
   "cell_type": "markdown",
   "id": "a765b507",
   "metadata": {},
   "source": [
    "Q10. In normal distribution with respect to mean position, where does the least frequent data appear?"
   ]
  },
  {
   "cell_type": "markdown",
   "id": "499c40ea",
   "metadata": {},
   "source": [
    "In a normal distribution, the least frequent data points appear in the tails of the distribution, farthest away from the mean.\n",
    "\n",
    "A normal distribution is symmetric, with the highest frequency of data points located around the mean. As you move away from the mean towards the tails of the distribution, the frequency of data points decreases. This is because the tails represent the extreme values or outliers, which occur less frequently in the data.\n",
    "\n",
    "In a standard normal distribution (with mean = 0 and standard deviation = 1), approximately 68% of the data points fall within one standard deviation of the mean, 95% fall within two standard deviations, and 99.7% fall within three standard deviations. Therefore, the data points beyond three standard deviations from the mean, in both the positive and negative tails, are the least frequent."
   ]
  }
 ],
 "metadata": {
  "kernelspec": {
   "display_name": "Python 3 (ipykernel)",
   "language": "python",
   "name": "python3"
  },
  "language_info": {
   "codemirror_mode": {
    "name": "ipython",
    "version": 3
   },
   "file_extension": ".py",
   "mimetype": "text/x-python",
   "name": "python",
   "nbconvert_exporter": "python",
   "pygments_lexer": "ipython3",
   "version": "3.9.13"
  }
 },
 "nbformat": 4,
 "nbformat_minor": 5
}

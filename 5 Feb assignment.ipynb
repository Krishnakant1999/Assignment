{
 "cells": [
  {
   "cell_type": "markdown",
   "id": "e0fb0073",
   "metadata": {},
   "source": [
    "Q1. Explain Class and Object with respect to Object-Oriented Programming. Give a suitable example."
   ]
  },
  {
   "cell_type": "markdown",
   "id": "dace0036",
   "metadata": {},
   "source": [
    "A class is considered as a blueprint of objects. We can think of the class as a prototype of a house. It contains all the details about the floors, doors, windows, etc. Based on these descriptions we build the house.And at the end we give name to class which is called as object. House is the object.\n",
    "\n",
    "Since many houses can be made from the same description, we can create many objects from a class.\n"
   ]
  },
  {
   "cell_type": "code",
   "execution_count": null,
   "id": "145a2ffe",
   "metadata": {},
   "outputs": [],
   "source": [
    "class Bike:\n",
    "    name = \"\"\n",
    "    gear = 0\n",
    "here Bike is class    "
   ]
  },
  {
   "cell_type": "markdown",
   "id": "6479c0d5",
   "metadata": {},
   "source": [
    "An object is called an instance of a class. example, suppose Bike is a class then we can create objects like bike1, bike2, etc from the class."
   ]
  },
  {
   "cell_type": "code",
   "execution_count": null,
   "id": "d645b5fa",
   "metadata": {},
   "outputs": [],
   "source": [
    "class Bike:\n",
    "    name = \"\"\n",
    "    gear = 0\n",
    "    \n",
    "bike1 = Bike()\n",
    "here bike1 is object"
   ]
  },
  {
   "cell_type": "markdown",
   "id": "cb72f83f",
   "metadata": {},
   "source": [
    "Q2. Name the four pillars of OOPs."
   ]
  },
  {
   "cell_type": "markdown",
   "id": "83984484",
   "metadata": {},
   "source": [
    "Abstraction.\n",
    "Encapsulation.\n",
    "Inheritance.\n",
    "Polymorphism."
   ]
  },
  {
   "cell_type": "markdown",
   "id": "1b7b0be3",
   "metadata": {},
   "source": [
    "Q3. Explain why the __init__() function is used. Give a suitable example."
   ]
  },
  {
   "cell_type": "markdown",
   "id": "5a5540f1",
   "metadata": {},
   "source": [
    "__init__ is a special python method that runs whenever a new object is created. These types of functions are used to initialize the attributes of that class, E.g., if the class is Person, then the attributes will be name, age, etc."
   ]
  },
  {
   "cell_type": "code",
   "execution_count": 2,
   "id": "fc0c8234",
   "metadata": {},
   "outputs": [
    {
     "name": "stdout",
     "output_type": "stream",
     "text": [
      "From: London\n",
      "To_city: India\n"
     ]
    }
   ],
   "source": [
    "class Trip:\n",
    "    def __init__(self, to_city, from_city):\n",
    "        self.to_city = to_city\n",
    "        self.from_city = from_city\n",
    " \n",
    "    def holiday(self):\n",
    "        return (\"From: \" + self.from_city + \"\\nTo_city: \" + self.to_city)\n",
    " \n",
    "T = Trip('India', 'London')\n",
    "print(T.holiday())\n"
   ]
  },
  {
   "cell_type": "markdown",
   "id": "52d62a0b",
   "metadata": {},
   "source": [
    "Q4. Why self is used in OOPs?"
   ]
  },
  {
   "cell_type": "markdown",
   "id": "7184d751",
   "metadata": {},
   "source": [
    "self represents the instance of the class. By using the “self”  we can access the attributes and methods of the class in python. It binds the attributes with the given arguments."
   ]
  },
  {
   "cell_type": "markdown",
   "id": "f73ad87d",
   "metadata": {},
   "source": [
    "Q5. What is inheritance? Give an example for each type of inheritance"
   ]
  },
  {
   "cell_type": "markdown",
   "id": "dba4663c",
   "metadata": {},
   "source": [
    "Inheritance is the concept in OOPs in which one class inherits the attributes and methods of another class. The class whose properties and methods are inherited is known as the Parent class. And the class that inherits the properties from the parent class is the Child class."
   ]
  },
  {
   "cell_type": "code",
   "execution_count": 1,
   "id": "ac67d5e3",
   "metadata": {},
   "outputs": [
    {
     "name": "stdout",
     "output_type": "stream",
     "text": [
      "Function of parent class.\n",
      "Function of child class.\n"
     ]
    }
   ],
   "source": [
    "#Single Inheritance\n",
    "class Parent:\n",
    "  def f1(self):\n",
    "    print(\"Function of parent class.\")\n",
    "\n",
    "class Child(Parent):\n",
    "  def f2(self):\n",
    "    print(\"Function of child class.\")\n",
    "\n",
    "object1 = Child()\n",
    "object1.f1()\n",
    "object1.f2()"
   ]
  },
  {
   "cell_type": "code",
   "execution_count": 2,
   "id": "cfaca57e",
   "metadata": {},
   "outputs": [
    {
     "name": "stdout",
     "output_type": "stream",
     "text": [
      "Function of parent_1 class.\n",
      "Function of parent_2 class.\n",
      "function of parent_3 class.\n",
      "Function of child class.\n"
     ]
    }
   ],
   "source": [
    "#Multiple Inheritance\n",
    "class Parent_1:\n",
    "  def f1(self):\n",
    "    print(\"Function of parent_1 class.\")\n",
    "\n",
    "class Parent_2:\n",
    "  def f2(self):\n",
    "    print(\"Function of parent_2 class.\")\n",
    "\n",
    "class Parent_3:\n",
    "  def f3(self):\n",
    "    print(\"function of parent_3 class.\")\n",
    "\n",
    "class Child(Parent_1, Parent_2, Parent_3):\n",
    "  def f4(self):\n",
    "    print(\"Function of child class.\")\n",
    "\n",
    "object_1 = Child()\n",
    "object_1.f1()\n",
    "object_1.f2()\n",
    "object_1.f3()\n",
    "object_1.f4()"
   ]
  },
  {
   "cell_type": "code",
   "execution_count": 3,
   "id": "eac0b61b",
   "metadata": {},
   "outputs": [
    {
     "name": "stdout",
     "output_type": "stream",
     "text": [
      "Function of parent class.\n",
      "Function of child_1 class.\n",
      "\n",
      "\n",
      "Function of parent class.\n",
      "Function of child_1 class.\n",
      "Function of child_2 class.\n"
     ]
    }
   ],
   "source": [
    "#Multi level Inheritance\n",
    "class Parent:\n",
    "  def f1(self):\n",
    "    print(\"Function of parent class.\")\n",
    "\n",
    "class Child_1(Parent):\n",
    "  def f2(self):\n",
    "    print(\"Function of child_1 class.\")\n",
    "\n",
    "class Child_2(Child_1):\n",
    "  def f3(self):\n",
    "    print(\"Function of child_2 class.\")\n",
    "\n",
    "obj_1 = Child_1()\n",
    "obj_2 = Child_2()\n",
    "\n",
    "obj_1.f1()\n",
    "obj_1.f2()\n",
    "\n",
    "print(\"\\n\")\n",
    "obj_2.f1()\n",
    "obj_2.f2()\n",
    "obj_2.f3()"
   ]
  },
  {
   "cell_type": "code",
   "execution_count": 9,
   "id": "f94f0a08",
   "metadata": {},
   "outputs": [
    {
     "name": "stdout",
     "output_type": "stream",
     "text": [
      "This function is in parent class.\n",
      "This function is in child 1.\n",
      "This function is in parent class.\n",
      "This function is in child 2.\n"
     ]
    }
   ],
   "source": [
    "#Hierarchical Inheritance\n",
    "class Parent:\n",
    "    def func1(self):\n",
    "        print(\"This function is in parent class.\")\n",
    " \n",
    "# Derived class1\n",
    " \n",
    " \n",
    "class Child1(Parent):\n",
    "    def func2(self):\n",
    "        print(\"This function is in child 1.\")\n",
    " \n",
    "# Derivied class2\n",
    " \n",
    " \n",
    "class Child2(Parent):\n",
    "    def func3(self):\n",
    "        print(\"This function is in child 2.\")\n",
    " \n",
    " \n",
    "# Driver's code\n",
    "object1 = Child1()\n",
    "object2 = Child2()\n",
    "object1.func1()\n",
    "object1.func2()\n",
    "object2.func1()\n",
    "object2.func3()"
   ]
  },
  {
   "cell_type": "code",
   "execution_count": 10,
   "id": "e79a59dc",
   "metadata": {},
   "outputs": [
    {
     "name": "stdout",
     "output_type": "stream",
     "text": [
      "Function of parent class.\n",
      "Function of child_1 class.\n",
      "Function of child_2 class.\n",
      "Function of child_3 class.\n"
     ]
    }
   ],
   "source": [
    "#Hybrid Inhiritance\n",
    "class Parent:\n",
    "  def f1(self):\n",
    "    print(\"Function of parent class.\")\n",
    "\n",
    "class Child_1(Parent):\n",
    "  def f2(self):\n",
    "    print(\"Function of child_1 class.\")\n",
    "\n",
    "class Child_2(Parent):\n",
    "  def f3(self):\n",
    "    print(\"Function of child_2 class.\")\n",
    "\n",
    "class Child_3(Child_1, Child_2):\n",
    "  def f4(self):\n",
    "    print(\"Function of child_3 class.\")\n",
    "\n",
    "obj = Child_3()\n",
    "obj.f1()\n",
    "obj.f2()\n",
    "obj.f3()\n",
    "obj.f4()"
   ]
  },
  {
   "cell_type": "code",
   "execution_count": null,
   "id": "0249180c",
   "metadata": {},
   "outputs": [],
   "source": []
  },
  {
   "cell_type": "code",
   "execution_count": null,
   "id": "d417ccfc",
   "metadata": {},
   "outputs": [],
   "source": []
  }
 ],
 "metadata": {
  "kernelspec": {
   "display_name": "Python 3 (ipykernel)",
   "language": "python",
   "name": "python3"
  },
  "language_info": {
   "codemirror_mode": {
    "name": "ipython",
    "version": 3
   },
   "file_extension": ".py",
   "mimetype": "text/x-python",
   "name": "python",
   "nbconvert_exporter": "python",
   "pygments_lexer": "ipython3",
   "version": "3.9.13"
  }
 },
 "nbformat": 4,
 "nbformat_minor": 5
}

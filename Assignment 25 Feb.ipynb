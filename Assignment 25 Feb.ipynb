{
 "cells": [
  {
   "cell_type": "code",
   "execution_count": 40,
   "id": "dfb35f0a",
   "metadata": {},
   "outputs": [],
   "source": [
    "import pandas as pd\n",
    "course_name = ['Data Science', 'Machine Learning', 'Big Data', 'Data Engineer']\n",
    "duration =  [2,3,6,4]\n",
    "df = pd.DataFrame(data = {'Course_name' : course_name, 'Duration': duration})"
   ]
  },
  {
   "cell_type": "code",
   "execution_count": 8,
   "id": "69fa387f",
   "metadata": {},
   "outputs": [
    {
     "data": {
      "text/html": [
       "<div>\n",
       "<style scoped>\n",
       "    .dataframe tbody tr th:only-of-type {\n",
       "        vertical-align: middle;\n",
       "    }\n",
       "\n",
       "    .dataframe tbody tr th {\n",
       "        vertical-align: top;\n",
       "    }\n",
       "\n",
       "    .dataframe thead th {\n",
       "        text-align: right;\n",
       "    }\n",
       "</style>\n",
       "<table border=\"1\" class=\"dataframe\">\n",
       "  <thead>\n",
       "    <tr style=\"text-align: right;\">\n",
       "      <th></th>\n",
       "      <th>Course_name</th>\n",
       "      <th>Duration</th>\n",
       "    </tr>\n",
       "  </thead>\n",
       "  <tbody>\n",
       "    <tr>\n",
       "      <th>0</th>\n",
       "      <td>Data Science</td>\n",
       "      <td>2</td>\n",
       "    </tr>\n",
       "    <tr>\n",
       "      <th>1</th>\n",
       "      <td>Machine Learning</td>\n",
       "      <td>3</td>\n",
       "    </tr>\n",
       "    <tr>\n",
       "      <th>2</th>\n",
       "      <td>Big Data</td>\n",
       "      <td>6</td>\n",
       "    </tr>\n",
       "    <tr>\n",
       "      <th>3</th>\n",
       "      <td>Data Engineer</td>\n",
       "      <td>4</td>\n",
       "    </tr>\n",
       "  </tbody>\n",
       "</table>\n",
       "</div>"
      ],
      "text/plain": [
       "        Course_name  Duration\n",
       "0      Data Science         2\n",
       "1  Machine Learning         3\n",
       "2          Big Data         6\n",
       "3     Data Engineer         4"
      ]
     },
     "execution_count": 8,
     "metadata": {},
     "output_type": "execute_result"
    }
   ],
   "source": [
    "df"
   ]
  },
  {
   "cell_type": "code",
   "execution_count": 30,
   "id": "786a1d93",
   "metadata": {},
   "outputs": [
    {
     "data": {
      "text/plain": [
       "Course_name    Machine Learning\n",
       "Duration                      3\n",
       "Name: 1, dtype: object"
      ]
     },
     "execution_count": 30,
     "metadata": {},
     "output_type": "execute_result"
    }
   ],
   "source": [
    "df[['Course_name','Duration']].T[1]"
   ]
  },
  {
   "cell_type": "markdown",
   "id": "d5865742",
   "metadata": {},
   "source": [
    "Q1. Write a code to print the data present in the second row of the dataframe, df."
   ]
  },
  {
   "cell_type": "code",
   "execution_count": 31,
   "id": "44f732c5",
   "metadata": {},
   "outputs": [
    {
     "data": {
      "text/plain": [
       "Course_name    Machine Learning\n",
       "Duration                      3\n",
       "Name: 1, dtype: object"
      ]
     },
     "execution_count": 31,
     "metadata": {},
     "output_type": "execute_result"
    }
   ],
   "source": [
    "df.T[1]"
   ]
  },
  {
   "cell_type": "code",
   "execution_count": 35,
   "id": "7b9ba137",
   "metadata": {},
   "outputs": [
    {
     "data": {
      "text/plain": [
       "Course_name    Machine Learning\n",
       "Duration                      3\n",
       "Name: 1, dtype: object"
      ]
     },
     "execution_count": 35,
     "metadata": {},
     "output_type": "execute_result"
    }
   ],
   "source": [
    "df.loc[1]"
   ]
  },
  {
   "cell_type": "markdown",
   "id": "81799ad6",
   "metadata": {},
   "source": [
    "Q2. What is the difference between the functions loc and iloc in pandas.DataFrame?"
   ]
  },
  {
   "cell_type": "markdown",
   "id": "2eba9fd7",
   "metadata": {},
   "source": [
    "loc is used to access specific values or slices based on labels, while iloc is used to access values or slices based on integer positions."
   ]
  },
  {
   "cell_type": "code",
   "execution_count": 36,
   "id": "798c02c5",
   "metadata": {},
   "outputs": [
    {
     "name": "stdout",
     "output_type": "stream",
     "text": [
      "1\n",
      "x    4\n",
      "y    5\n",
      "Name: B, dtype: int64\n",
      "4\n",
      "x    4\n",
      "y    5\n",
      "Name: B, dtype: int64\n"
     ]
    }
   ],
   "source": [
    "import pandas as pd\n",
    "\n",
    "# Create a sample DataFrame\n",
    "df = pd.DataFrame({'A': [1, 2, 3], 'B': [4, 5, 6], 'C': [7, 8, 9]}, index=['x', 'y', 'z'])\n",
    "\n",
    "# Accessing data using loc\n",
    "print(df.loc['x', 'A'])        \n",
    "print(df.loc[['x', 'y'], 'B'])\n",
    "\n",
    "# Accessing data using iloc\n",
    "print(df.iloc[0, 1])        \n",
    "print(df.iloc[0:2, 1])     \n"
   ]
  },
  {
   "cell_type": "markdown",
   "id": "e4efc18a",
   "metadata": {},
   "source": [
    "Q3. Reindex the given dataframe using a variable, reindex = [3,0,1,2] and store it in the variable, new_df \n",
    "then find the output for both new_df.loc[2] and new_df.iloc[2]."
   ]
  },
  {
   "cell_type": "code",
   "execution_count": 47,
   "id": "3186ae93",
   "metadata": {},
   "outputs": [],
   "source": [
    "new_df=df.reindex(labels=[3,0,1,2])"
   ]
  },
  {
   "cell_type": "code",
   "execution_count": 48,
   "id": "34da30bf",
   "metadata": {},
   "outputs": [
    {
     "data": {
      "text/html": [
       "<div>\n",
       "<style scoped>\n",
       "    .dataframe tbody tr th:only-of-type {\n",
       "        vertical-align: middle;\n",
       "    }\n",
       "\n",
       "    .dataframe tbody tr th {\n",
       "        vertical-align: top;\n",
       "    }\n",
       "\n",
       "    .dataframe thead th {\n",
       "        text-align: right;\n",
       "    }\n",
       "</style>\n",
       "<table border=\"1\" class=\"dataframe\">\n",
       "  <thead>\n",
       "    <tr style=\"text-align: right;\">\n",
       "      <th></th>\n",
       "      <th>Course_name</th>\n",
       "      <th>Duration</th>\n",
       "    </tr>\n",
       "  </thead>\n",
       "  <tbody>\n",
       "    <tr>\n",
       "      <th>3</th>\n",
       "      <td>Data Engineer</td>\n",
       "      <td>4</td>\n",
       "    </tr>\n",
       "    <tr>\n",
       "      <th>0</th>\n",
       "      <td>Data Science</td>\n",
       "      <td>2</td>\n",
       "    </tr>\n",
       "    <tr>\n",
       "      <th>1</th>\n",
       "      <td>Machine Learning</td>\n",
       "      <td>3</td>\n",
       "    </tr>\n",
       "    <tr>\n",
       "      <th>2</th>\n",
       "      <td>Big Data</td>\n",
       "      <td>6</td>\n",
       "    </tr>\n",
       "  </tbody>\n",
       "</table>\n",
       "</div>"
      ],
      "text/plain": [
       "        Course_name  Duration\n",
       "3     Data Engineer         4\n",
       "0      Data Science         2\n",
       "1  Machine Learning         3\n",
       "2          Big Data         6"
      ]
     },
     "execution_count": 48,
     "metadata": {},
     "output_type": "execute_result"
    }
   ],
   "source": [
    "new_df"
   ]
  },
  {
   "cell_type": "code",
   "execution_count": 49,
   "id": "01a5766e",
   "metadata": {},
   "outputs": [
    {
     "data": {
      "text/plain": [
       "Course_name    Big Data\n",
       "Duration              6\n",
       "Name: 2, dtype: object"
      ]
     },
     "execution_count": 49,
     "metadata": {},
     "output_type": "execute_result"
    }
   ],
   "source": [
    "new_df.loc[2]"
   ]
  },
  {
   "cell_type": "code",
   "execution_count": 51,
   "id": "672fb26c",
   "metadata": {},
   "outputs": [
    {
     "data": {
      "text/plain": [
       "Course_name    Machine Learning\n",
       "Duration                      3\n",
       "Name: 1, dtype: object"
      ]
     },
     "execution_count": 51,
     "metadata": {},
     "output_type": "execute_result"
    }
   ],
   "source": [
    "new_df.iloc[2]"
   ]
  },
  {
   "cell_type": "markdown",
   "id": "54f07e51",
   "metadata": {},
   "source": [
    "This difference is occured since loc has taken lable and iloc has taken integer."
   ]
  },
  {
   "cell_type": "code",
   "execution_count": 85,
   "id": "18fdb27e",
   "metadata": {},
   "outputs": [],
   "source": [
    "import pandas as pd\n",
    "import numpy as np\n",
    "columns = ['column_1', 'column_2', 'column_3', 'column_4', 'column_5', 'column_6']\n",
    "indices = [1,2,3,4,5,6]\n",
    "#Creating a dataframe:\n",
    "df1 = pd.DataFrame(np.random.rand(6,6), columns = columns, index = indices)"
   ]
  },
  {
   "cell_type": "code",
   "execution_count": 86,
   "id": "13229c30",
   "metadata": {},
   "outputs": [
    {
     "data": {
      "text/html": [
       "<div>\n",
       "<style scoped>\n",
       "    .dataframe tbody tr th:only-of-type {\n",
       "        vertical-align: middle;\n",
       "    }\n",
       "\n",
       "    .dataframe tbody tr th {\n",
       "        vertical-align: top;\n",
       "    }\n",
       "\n",
       "    .dataframe thead th {\n",
       "        text-align: right;\n",
       "    }\n",
       "</style>\n",
       "<table border=\"1\" class=\"dataframe\">\n",
       "  <thead>\n",
       "    <tr style=\"text-align: right;\">\n",
       "      <th></th>\n",
       "      <th>column_1</th>\n",
       "      <th>column_2</th>\n",
       "      <th>column_3</th>\n",
       "      <th>column_4</th>\n",
       "      <th>column_5</th>\n",
       "      <th>column_6</th>\n",
       "    </tr>\n",
       "  </thead>\n",
       "  <tbody>\n",
       "    <tr>\n",
       "      <th>1</th>\n",
       "      <td>0.612310</td>\n",
       "      <td>0.962972</td>\n",
       "      <td>0.367436</td>\n",
       "      <td>0.766213</td>\n",
       "      <td>0.430334</td>\n",
       "      <td>0.513966</td>\n",
       "    </tr>\n",
       "    <tr>\n",
       "      <th>2</th>\n",
       "      <td>0.591368</td>\n",
       "      <td>0.146635</td>\n",
       "      <td>0.547350</td>\n",
       "      <td>0.472614</td>\n",
       "      <td>0.847605</td>\n",
       "      <td>0.618686</td>\n",
       "    </tr>\n",
       "    <tr>\n",
       "      <th>3</th>\n",
       "      <td>0.771696</td>\n",
       "      <td>0.795413</td>\n",
       "      <td>0.966465</td>\n",
       "      <td>0.563336</td>\n",
       "      <td>0.819115</td>\n",
       "      <td>0.906311</td>\n",
       "    </tr>\n",
       "    <tr>\n",
       "      <th>4</th>\n",
       "      <td>0.414090</td>\n",
       "      <td>0.271504</td>\n",
       "      <td>0.918908</td>\n",
       "      <td>0.777687</td>\n",
       "      <td>0.185082</td>\n",
       "      <td>0.748988</td>\n",
       "    </tr>\n",
       "    <tr>\n",
       "      <th>5</th>\n",
       "      <td>0.861168</td>\n",
       "      <td>0.659166</td>\n",
       "      <td>0.188091</td>\n",
       "      <td>0.374747</td>\n",
       "      <td>0.646746</td>\n",
       "      <td>0.047571</td>\n",
       "    </tr>\n",
       "    <tr>\n",
       "      <th>6</th>\n",
       "      <td>0.982446</td>\n",
       "      <td>0.996576</td>\n",
       "      <td>0.902945</td>\n",
       "      <td>0.984013</td>\n",
       "      <td>0.988739</td>\n",
       "      <td>0.473855</td>\n",
       "    </tr>\n",
       "  </tbody>\n",
       "</table>\n",
       "</div>"
      ],
      "text/plain": [
       "   column_1  column_2  column_3  column_4  column_5  column_6\n",
       "1  0.612310  0.962972  0.367436  0.766213  0.430334  0.513966\n",
       "2  0.591368  0.146635  0.547350  0.472614  0.847605  0.618686\n",
       "3  0.771696  0.795413  0.966465  0.563336  0.819115  0.906311\n",
       "4  0.414090  0.271504  0.918908  0.777687  0.185082  0.748988\n",
       "5  0.861168  0.659166  0.188091  0.374747  0.646746  0.047571\n",
       "6  0.982446  0.996576  0.902945  0.984013  0.988739  0.473855"
      ]
     },
     "execution_count": 86,
     "metadata": {},
     "output_type": "execute_result"
    }
   ],
   "source": [
    "df1"
   ]
  },
  {
   "cell_type": "markdown",
   "id": "dff6c0f6",
   "metadata": {},
   "source": [
    "Q4. Write a code to find the following statistical measurements for the above dataframe df1:\n",
    " (i) mean of each and every column present in the dataframe.\n",
    " (ii) standard deviation of column, ‘column_2’"
   ]
  },
  {
   "cell_type": "code",
   "execution_count": 87,
   "id": "bdb530c6",
   "metadata": {},
   "outputs": [
    {
     "data": {
      "text/html": [
       "<div>\n",
       "<style scoped>\n",
       "    .dataframe tbody tr th:only-of-type {\n",
       "        vertical-align: middle;\n",
       "    }\n",
       "\n",
       "    .dataframe tbody tr th {\n",
       "        vertical-align: top;\n",
       "    }\n",
       "\n",
       "    .dataframe thead th {\n",
       "        text-align: right;\n",
       "    }\n",
       "</style>\n",
       "<table border=\"1\" class=\"dataframe\">\n",
       "  <thead>\n",
       "    <tr style=\"text-align: right;\">\n",
       "      <th></th>\n",
       "      <th>0</th>\n",
       "    </tr>\n",
       "  </thead>\n",
       "  <tbody>\n",
       "    <tr>\n",
       "      <th>column_1</th>\n",
       "      <td>0.705513</td>\n",
       "    </tr>\n",
       "    <tr>\n",
       "      <th>column_2</th>\n",
       "      <td>0.638711</td>\n",
       "    </tr>\n",
       "    <tr>\n",
       "      <th>column_3</th>\n",
       "      <td>0.648533</td>\n",
       "    </tr>\n",
       "    <tr>\n",
       "      <th>column_4</th>\n",
       "      <td>0.656435</td>\n",
       "    </tr>\n",
       "    <tr>\n",
       "      <th>column_5</th>\n",
       "      <td>0.652937</td>\n",
       "    </tr>\n",
       "    <tr>\n",
       "      <th>column_6</th>\n",
       "      <td>0.551563</td>\n",
       "    </tr>\n",
       "  </tbody>\n",
       "</table>\n",
       "</div>"
      ],
      "text/plain": [
       "                 0\n",
       "column_1  0.705513\n",
       "column_2  0.638711\n",
       "column_3  0.648533\n",
       "column_4  0.656435\n",
       "column_5  0.652937\n",
       "column_6  0.551563"
      ]
     },
     "execution_count": 87,
     "metadata": {},
     "output_type": "execute_result"
    }
   ],
   "source": [
    "pd.DataFrame(df1.mean())"
   ]
  },
  {
   "cell_type": "code",
   "execution_count": 88,
   "id": "9d55307c",
   "metadata": {},
   "outputs": [
    {
     "data": {
      "text/plain": [
       "0.35641712162072536"
      ]
     },
     "execution_count": 88,
     "metadata": {},
     "output_type": "execute_result"
    }
   ],
   "source": [
    "df1['column_2'].std()"
   ]
  },
  {
   "cell_type": "code",
   "execution_count": null,
   "id": "fcbd93d5",
   "metadata": {},
   "outputs": [],
   "source": [
    "Q5. Replace the data present in the second row of column, ‘column_2’ by a string variable then find the \n",
    "mean of column, column_2.\n",
    " If you are getting errors in executing it then explain why.\n",
    " [Hint: To replace the data use df1.loc[] and equate this to string data of your choice.]"
   ]
  },
  {
   "cell_type": "code",
   "execution_count": 89,
   "id": "fe1e6cc5",
   "metadata": {},
   "outputs": [
    {
     "data": {
      "text/html": [
       "<div>\n",
       "<style scoped>\n",
       "    .dataframe tbody tr th:only-of-type {\n",
       "        vertical-align: middle;\n",
       "    }\n",
       "\n",
       "    .dataframe tbody tr th {\n",
       "        vertical-align: top;\n",
       "    }\n",
       "\n",
       "    .dataframe thead th {\n",
       "        text-align: right;\n",
       "    }\n",
       "</style>\n",
       "<table border=\"1\" class=\"dataframe\">\n",
       "  <thead>\n",
       "    <tr style=\"text-align: right;\">\n",
       "      <th></th>\n",
       "      <th>column_1</th>\n",
       "      <th>column_2</th>\n",
       "      <th>column_3</th>\n",
       "      <th>column_4</th>\n",
       "      <th>column_5</th>\n",
       "      <th>column_6</th>\n",
       "    </tr>\n",
       "  </thead>\n",
       "  <tbody>\n",
       "    <tr>\n",
       "      <th>1</th>\n",
       "      <td>0.612310</td>\n",
       "      <td>0.962972</td>\n",
       "      <td>0.367436</td>\n",
       "      <td>0.766213</td>\n",
       "      <td>0.430334</td>\n",
       "      <td>0.513966</td>\n",
       "    </tr>\n",
       "    <tr>\n",
       "      <th>2</th>\n",
       "      <td>0.591368</td>\n",
       "      <td>0.146635</td>\n",
       "      <td>0.547350</td>\n",
       "      <td>0.472614</td>\n",
       "      <td>0.847605</td>\n",
       "      <td>0.618686</td>\n",
       "    </tr>\n",
       "    <tr>\n",
       "      <th>3</th>\n",
       "      <td>0.771696</td>\n",
       "      <td>0.795413</td>\n",
       "      <td>0.966465</td>\n",
       "      <td>0.563336</td>\n",
       "      <td>0.819115</td>\n",
       "      <td>0.906311</td>\n",
       "    </tr>\n",
       "    <tr>\n",
       "      <th>4</th>\n",
       "      <td>0.414090</td>\n",
       "      <td>0.271504</td>\n",
       "      <td>0.918908</td>\n",
       "      <td>0.777687</td>\n",
       "      <td>0.185082</td>\n",
       "      <td>0.748988</td>\n",
       "    </tr>\n",
       "    <tr>\n",
       "      <th>5</th>\n",
       "      <td>0.861168</td>\n",
       "      <td>0.659166</td>\n",
       "      <td>0.188091</td>\n",
       "      <td>0.374747</td>\n",
       "      <td>0.646746</td>\n",
       "      <td>0.047571</td>\n",
       "    </tr>\n",
       "    <tr>\n",
       "      <th>6</th>\n",
       "      <td>0.982446</td>\n",
       "      <td>0.996576</td>\n",
       "      <td>0.902945</td>\n",
       "      <td>0.984013</td>\n",
       "      <td>0.988739</td>\n",
       "      <td>0.473855</td>\n",
       "    </tr>\n",
       "  </tbody>\n",
       "</table>\n",
       "</div>"
      ],
      "text/plain": [
       "   column_1  column_2  column_3  column_4  column_5  column_6\n",
       "1  0.612310  0.962972  0.367436  0.766213  0.430334  0.513966\n",
       "2  0.591368  0.146635  0.547350  0.472614  0.847605  0.618686\n",
       "3  0.771696  0.795413  0.966465  0.563336  0.819115  0.906311\n",
       "4  0.414090  0.271504  0.918908  0.777687  0.185082  0.748988\n",
       "5  0.861168  0.659166  0.188091  0.374747  0.646746  0.047571\n",
       "6  0.982446  0.996576  0.902945  0.984013  0.988739  0.473855"
      ]
     },
     "execution_count": 89,
     "metadata": {},
     "output_type": "execute_result"
    }
   ],
   "source": [
    "df1"
   ]
  },
  {
   "cell_type": "code",
   "execution_count": 90,
   "id": "f8742776",
   "metadata": {},
   "outputs": [],
   "source": [
    "df1.iloc[1]=['a','b','c','d','e','f']"
   ]
  },
  {
   "cell_type": "code",
   "execution_count": 91,
   "id": "4093f1b8",
   "metadata": {},
   "outputs": [
    {
     "data": {
      "text/html": [
       "<div>\n",
       "<style scoped>\n",
       "    .dataframe tbody tr th:only-of-type {\n",
       "        vertical-align: middle;\n",
       "    }\n",
       "\n",
       "    .dataframe tbody tr th {\n",
       "        vertical-align: top;\n",
       "    }\n",
       "\n",
       "    .dataframe thead th {\n",
       "        text-align: right;\n",
       "    }\n",
       "</style>\n",
       "<table border=\"1\" class=\"dataframe\">\n",
       "  <thead>\n",
       "    <tr style=\"text-align: right;\">\n",
       "      <th></th>\n",
       "      <th>column_1</th>\n",
       "      <th>column_2</th>\n",
       "      <th>column_3</th>\n",
       "      <th>column_4</th>\n",
       "      <th>column_5</th>\n",
       "      <th>column_6</th>\n",
       "    </tr>\n",
       "  </thead>\n",
       "  <tbody>\n",
       "    <tr>\n",
       "      <th>1</th>\n",
       "      <td>0.61231</td>\n",
       "      <td>0.962972</td>\n",
       "      <td>0.367436</td>\n",
       "      <td>0.766213</td>\n",
       "      <td>0.430334</td>\n",
       "      <td>0.513966</td>\n",
       "    </tr>\n",
       "    <tr>\n",
       "      <th>2</th>\n",
       "      <td>a</td>\n",
       "      <td>b</td>\n",
       "      <td>c</td>\n",
       "      <td>d</td>\n",
       "      <td>e</td>\n",
       "      <td>f</td>\n",
       "    </tr>\n",
       "    <tr>\n",
       "      <th>3</th>\n",
       "      <td>0.771696</td>\n",
       "      <td>0.795413</td>\n",
       "      <td>0.966465</td>\n",
       "      <td>0.563336</td>\n",
       "      <td>0.819115</td>\n",
       "      <td>0.906311</td>\n",
       "    </tr>\n",
       "    <tr>\n",
       "      <th>4</th>\n",
       "      <td>0.41409</td>\n",
       "      <td>0.271504</td>\n",
       "      <td>0.918908</td>\n",
       "      <td>0.777687</td>\n",
       "      <td>0.185082</td>\n",
       "      <td>0.748988</td>\n",
       "    </tr>\n",
       "    <tr>\n",
       "      <th>5</th>\n",
       "      <td>0.861168</td>\n",
       "      <td>0.659166</td>\n",
       "      <td>0.188091</td>\n",
       "      <td>0.374747</td>\n",
       "      <td>0.646746</td>\n",
       "      <td>0.047571</td>\n",
       "    </tr>\n",
       "    <tr>\n",
       "      <th>6</th>\n",
       "      <td>0.982446</td>\n",
       "      <td>0.996576</td>\n",
       "      <td>0.902945</td>\n",
       "      <td>0.984013</td>\n",
       "      <td>0.988739</td>\n",
       "      <td>0.473855</td>\n",
       "    </tr>\n",
       "  </tbody>\n",
       "</table>\n",
       "</div>"
      ],
      "text/plain": [
       "   column_1  column_2  column_3  column_4  column_5  column_6\n",
       "1   0.61231  0.962972  0.367436  0.766213  0.430334  0.513966\n",
       "2         a         b         c         d         e         f\n",
       "3  0.771696  0.795413  0.966465  0.563336  0.819115  0.906311\n",
       "4   0.41409  0.271504  0.918908  0.777687  0.185082  0.748988\n",
       "5  0.861168  0.659166  0.188091  0.374747  0.646746  0.047571\n",
       "6  0.982446  0.996576  0.902945  0.984013  0.988739  0.473855"
      ]
     },
     "execution_count": 91,
     "metadata": {},
     "output_type": "execute_result"
    }
   ],
   "source": [
    "df1"
   ]
  },
  {
   "cell_type": "code",
   "execution_count": 92,
   "id": "71da98db",
   "metadata": {},
   "outputs": [
    {
     "name": "stderr",
     "output_type": "stream",
     "text": [
      "C:\\Users\\Lenovo\\AppData\\Local\\Temp\\ipykernel_11660\\2053335143.py:1: FutureWarning: Dropping of nuisance columns in DataFrame reductions (with 'numeric_only=None') is deprecated; in a future version this will raise TypeError.  Select only valid columns before calling the reduction.\n",
      "  df1.mean()\n"
     ]
    },
    {
     "data": {
      "text/plain": [
       "Series([], dtype: float64)"
      ]
     },
     "execution_count": 92,
     "metadata": {},
     "output_type": "execute_result"
    }
   ],
   "source": [
    "df1.mean()"
   ]
  },
  {
   "cell_type": "code",
   "execution_count": 94,
   "id": "5200deef",
   "metadata": {},
   "outputs": [
    {
     "data": {
      "text/plain": [
       "column_1    object\n",
       "column_2    object\n",
       "column_3    object\n",
       "column_4    object\n",
       "column_5    object\n",
       "column_6    object\n",
       "dtype: object"
      ]
     },
     "execution_count": 94,
     "metadata": {},
     "output_type": "execute_result"
    }
   ],
   "source": [
    "df1.dtypes"
   ]
  },
  {
   "cell_type": "code",
   "execution_count": 95,
   "id": "dbd5e81a",
   "metadata": {},
   "outputs": [
    {
     "data": {
      "text/plain": [
       "column_1    6\n",
       "column_2    6\n",
       "column_3    6\n",
       "column_4    6\n",
       "column_5    6\n",
       "column_6    6\n",
       "dtype: int64"
      ]
     },
     "execution_count": 95,
     "metadata": {},
     "output_type": "execute_result"
    }
   ],
   "source": [
    "df1.count()"
   ]
  },
  {
   "cell_type": "markdown",
   "id": "c5d939d4",
   "metadata": {},
   "source": [
    "Since columns contains string also so it is not able to find out the mean of the columns."
   ]
  },
  {
   "cell_type": "code",
   "execution_count": null,
   "id": "c9ac36a6",
   "metadata": {},
   "outputs": [],
   "source": [
    "Q6. What do you understand about the windows function in pandas and list the types of windows \n",
    "functions?"
   ]
  },
  {
   "cell_type": "markdown",
   "id": "a20fa73a",
   "metadata": {},
   "source": [
    "In pandas, the window functions are used for performing calculations on a specified window of data in a DataFrame or a Series."
   ]
  },
  {
   "cell_type": "markdown",
   "id": "33095914",
   "metadata": {},
   "source": [
    "The window functions in pandas can be categorized into the following types:\n",
    "    Aggregation Functions:\n",
    "    Transformation Functions:\n",
    "    Rolling and Expanding Functions:\n",
    "    Window Filtering Functions:\n",
    "    Window Value Counts:\n",
    "    Window Aggregations with Custom Functions:"
   ]
  },
  {
   "cell_type": "code",
   "execution_count": 100,
   "id": "3ae62d0d",
   "metadata": {},
   "outputs": [
    {
     "name": "stdout",
     "output_type": "stream",
     "text": [
      "   A   B  rolling_sum  rolling_mean  expanding_sum  expanding_mean\n",
      "0  1   6          NaN           NaN            1.0             6.0\n",
      "1  2   7          NaN           6.5            3.0             6.5\n",
      "2  3   8          6.0           7.5            6.0             7.0\n",
      "3  4   9          9.0           8.5           10.0             7.5\n",
      "4  5  10         12.0           9.5           15.0             8.0\n"
     ]
    }
   ],
   "source": [
    "import pandas as pd\n",
    "\n",
    "# Create a sample DataFrame\n",
    "df = pd.DataFrame({'A': [1, 2, 3, 4, 5], 'B': [6, 7, 8, 9, 10]})\n",
    "\n",
    "# Rolling window functions\n",
    "df['rolling_sum'] = df['A'].rolling(window=3).sum()\n",
    "df['rolling_mean'] = df['B'].rolling(window=2).mean()\n",
    "\n",
    "# Expanding window functions\n",
    "df['expanding_sum'] = df['A'].expanding().sum()\n",
    "df['expanding_mean'] = df['B'].expanding().mean()\n",
    "\n",
    "print(df)\n"
   ]
  },
  {
   "cell_type": "markdown",
   "id": "3e064cd3",
   "metadata": {},
   "source": [
    "Q7. Write a code to print only the current month and year at the time of answering this question."
   ]
  },
  {
   "cell_type": "code",
   "execution_count": 111,
   "id": "2f6f5af3",
   "metadata": {},
   "outputs": [],
   "source": [
    "df2=pd.DataFrame({'Date': ['2023-06-27']})"
   ]
  },
  {
   "cell_type": "code",
   "execution_count": 112,
   "id": "29a8c730",
   "metadata": {},
   "outputs": [
    {
     "data": {
      "text/html": [
       "<div>\n",
       "<style scoped>\n",
       "    .dataframe tbody tr th:only-of-type {\n",
       "        vertical-align: middle;\n",
       "    }\n",
       "\n",
       "    .dataframe tbody tr th {\n",
       "        vertical-align: top;\n",
       "    }\n",
       "\n",
       "    .dataframe thead th {\n",
       "        text-align: right;\n",
       "    }\n",
       "</style>\n",
       "<table border=\"1\" class=\"dataframe\">\n",
       "  <thead>\n",
       "    <tr style=\"text-align: right;\">\n",
       "      <th></th>\n",
       "      <th>Date</th>\n",
       "    </tr>\n",
       "  </thead>\n",
       "  <tbody>\n",
       "    <tr>\n",
       "      <th>0</th>\n",
       "      <td>2023-06-27</td>\n",
       "    </tr>\n",
       "  </tbody>\n",
       "</table>\n",
       "</div>"
      ],
      "text/plain": [
       "         Date\n",
       "0  2023-06-27"
      ]
     },
     "execution_count": 112,
     "metadata": {},
     "output_type": "execute_result"
    }
   ],
   "source": [
    "df2"
   ]
  },
  {
   "cell_type": "code",
   "execution_count": 113,
   "id": "26ca60e3",
   "metadata": {},
   "outputs": [],
   "source": [
    "df2['Updated_date']=pd.to_datetime(df2['Date'])"
   ]
  },
  {
   "cell_type": "code",
   "execution_count": 114,
   "id": "0ce010ca",
   "metadata": {},
   "outputs": [
    {
     "data": {
      "text/html": [
       "<div>\n",
       "<style scoped>\n",
       "    .dataframe tbody tr th:only-of-type {\n",
       "        vertical-align: middle;\n",
       "    }\n",
       "\n",
       "    .dataframe tbody tr th {\n",
       "        vertical-align: top;\n",
       "    }\n",
       "\n",
       "    .dataframe thead th {\n",
       "        text-align: right;\n",
       "    }\n",
       "</style>\n",
       "<table border=\"1\" class=\"dataframe\">\n",
       "  <thead>\n",
       "    <tr style=\"text-align: right;\">\n",
       "      <th></th>\n",
       "      <th>Date</th>\n",
       "      <th>Updated_date</th>\n",
       "    </tr>\n",
       "  </thead>\n",
       "  <tbody>\n",
       "    <tr>\n",
       "      <th>0</th>\n",
       "      <td>2023-06-27</td>\n",
       "      <td>2023-06-27</td>\n",
       "    </tr>\n",
       "  </tbody>\n",
       "</table>\n",
       "</div>"
      ],
      "text/plain": [
       "         Date Updated_date\n",
       "0  2023-06-27   2023-06-27"
      ]
     },
     "execution_count": 114,
     "metadata": {},
     "output_type": "execute_result"
    }
   ],
   "source": [
    "df2"
   ]
  },
  {
   "cell_type": "code",
   "execution_count": 115,
   "id": "731350e9",
   "metadata": {},
   "outputs": [
    {
     "data": {
      "text/plain": [
       "Date                    object\n",
       "Updated_date    datetime64[ns]\n",
       "dtype: object"
      ]
     },
     "execution_count": 115,
     "metadata": {},
     "output_type": "execute_result"
    }
   ],
   "source": [
    "df2.dtypes"
   ]
  },
  {
   "cell_type": "code",
   "execution_count": 117,
   "id": "add373ed",
   "metadata": {},
   "outputs": [],
   "source": [
    "df2['year'] = df2['Updated_date'].dt.year"
   ]
  },
  {
   "cell_type": "code",
   "execution_count": 119,
   "id": "f6593a96",
   "metadata": {},
   "outputs": [],
   "source": [
    "df2['month'] = df2['Updated_date'].dt.month"
   ]
  },
  {
   "cell_type": "code",
   "execution_count": 120,
   "id": "f359b12a",
   "metadata": {},
   "outputs": [
    {
     "data": {
      "text/html": [
       "<div>\n",
       "<style scoped>\n",
       "    .dataframe tbody tr th:only-of-type {\n",
       "        vertical-align: middle;\n",
       "    }\n",
       "\n",
       "    .dataframe tbody tr th {\n",
       "        vertical-align: top;\n",
       "    }\n",
       "\n",
       "    .dataframe thead th {\n",
       "        text-align: right;\n",
       "    }\n",
       "</style>\n",
       "<table border=\"1\" class=\"dataframe\">\n",
       "  <thead>\n",
       "    <tr style=\"text-align: right;\">\n",
       "      <th></th>\n",
       "      <th>Date</th>\n",
       "      <th>Updated_date</th>\n",
       "      <th>year</th>\n",
       "      <th>month</th>\n",
       "    </tr>\n",
       "  </thead>\n",
       "  <tbody>\n",
       "    <tr>\n",
       "      <th>0</th>\n",
       "      <td>2023-06-27</td>\n",
       "      <td>2023-06-27</td>\n",
       "      <td>2023</td>\n",
       "      <td>6</td>\n",
       "    </tr>\n",
       "  </tbody>\n",
       "</table>\n",
       "</div>"
      ],
      "text/plain": [
       "         Date Updated_date  year  month\n",
       "0  2023-06-27   2023-06-27  2023      6"
      ]
     },
     "execution_count": 120,
     "metadata": {},
     "output_type": "execute_result"
    }
   ],
   "source": [
    "df2"
   ]
  },
  {
   "cell_type": "markdown",
   "id": "116d8097",
   "metadata": {},
   "source": [
    "Q8. Write a Python program that takes in two dates as input (in the format YYYY-MM-DD) and \n",
    "calculates the difference between them in days, hours, and minutes using Pandas time delta. The \n",
    "program should prompt the user to enter the dates and display the result."
   ]
  },
  {
   "cell_type": "code",
   "execution_count": 3,
   "id": "b9748af6",
   "metadata": {},
   "outputs": [
    {
     "name": "stdout",
     "output_type": "stream",
     "text": [
      "Enter first date in which you want to find the difference the days: 2022-06-12\n",
      "Enter second date in which you want to find the difference the days: 2024-03-10\n",
      "Time difference: 637 days, 0 hours, 0 minutes.\n"
     ]
    }
   ],
   "source": [
    "first_date = input(\"Enter first date in which you want to find the difference the days: \")\n",
    "second_date = input(\"Enter second date in which you want to find the difference the days: \")\n",
    "import pandas as pd\n",
    "\n",
    "# Convert the input dates to pandas datetime objects\n",
    "first_date = pd.to_datetime(first_date)\n",
    "second_date = pd.to_datetime(second_date)\n",
    "\n",
    "# Calculate the time difference\n",
    "time_diff = second_date - first_date\n",
    "\n",
    "# Extract days, hours, and minutes from the time difference\n",
    "days = time_diff.days\n",
    "hours = time_diff.seconds // 3600\n",
    "minutes = (time_diff.seconds % 3600) // 60\n",
    "\n",
    "# Display the result\n",
    "print(\"Time difference: {} days, {} hours, {} minutes.\".format(days, hours, minutes))\n"
   ]
  },
  {
   "cell_type": "markdown",
   "id": "d23c65c2",
   "metadata": {},
   "source": [
    "Q9. Write a Python program that reads a CSV file containing categorical data and converts a specified \n",
    "column to a categorical data type. The program should prompt the user to enter the file path, column \n",
    "name, and category order, and then display the sorted data."
   ]
  },
  {
   "cell_type": "code",
   "execution_count": null,
   "id": "d1caa0bc",
   "metadata": {},
   "outputs": [],
   "source": [
    "import pandas as pd\n",
    "\n",
    "# Prompt the user to enter the file path\n",
    "file_path = input(\"Enter the file path (CSV): \")\n",
    "\n",
    "# Prompt the user to enter the column name\n",
    "column_name = input(\"Enter the column name: \")\n",
    "\n",
    "# Read the CSV file\n",
    "data = pd.read_csv(file_path)\n",
    "\n",
    "# Convert the specified column to categorical data type\n",
    "data[column_name] = pd.Categorical(data[column_name])\n",
    "\n",
    "# Prompt the user to enter the category order\n",
    "category_order = input(\"Enter the category order (comma-separated values): \")\n",
    "category_order = [cat.strip() for cat in category_order.split(',')]\n",
    "\n",
    "# Set the category order for the column\n",
    "data[column_name] = data[column_name].cat.set_categories(category_order)\n",
    "\n",
    "# Sort the data based on the categorical column\n",
    "sorted_data = data.sort_values(column_name)\n",
    "\n",
    "# Display the sorted data\n",
    "print(sorted_data)\n"
   ]
  },
  {
   "cell_type": "markdown",
   "id": "1c6cef92",
   "metadata": {},
   "source": [
    "Q10. Write a Python program that reads a CSV file containing sales data for different products and \n",
    "visualizes the data using a stacked bar chart to show the sales of each product category over time. The \n",
    "program should prompt the user to enter the file path and display the chart."
   ]
  },
  {
   "cell_type": "code",
   "execution_count": null,
   "id": "a017d4a9",
   "metadata": {},
   "outputs": [],
   "source": [
    "import pandas as pd\n",
    "import matplotlib.pyplot as plt\n",
    "\n",
    "# Prompt the user to enter the file path\n",
    "file_path = input(\"Enter the file path (CSV): \")\n",
    "\n",
    "# Read the CSV file\n",
    "data = pd.read_csv(file_path)\n",
    "\n",
    "# Convert the 'Date' column to datetime data type\n",
    "data['Date'] = pd.to_datetime(data['Date'])\n",
    "\n",
    "# Group the data by 'Date' and 'Category' and calculate the sum of 'Sales'\n",
    "grouped_data = data.groupby(['Date', 'Category'])['Sales'].sum().unstack()\n",
    "\n",
    "# Plot the stacked bar chart\n",
    "fig, ax = plt.subplots()\n",
    "grouped_data.plot(kind='bar', stacked=True, ax=ax)\n",
    "\n",
    "# Set the chart title and axis labels\n",
    "plt.title('Sales by Product Category over Time')\n",
    "plt.xlabel('Date')\n",
    "plt.ylabel('Sales')\n",
    "\n",
    "# Show the chart\n",
    "plt.show()\n"
   ]
  },
  {
   "cell_type": "markdown",
   "id": "1526c50f",
   "metadata": {},
   "source": [
    "Q11. You are given a CSV file containing student data that includes the student ID and their test score. Write \n",
    "a Python program that reads the CSV file, calculates the mean, median, and mode of the test scores, and \n",
    "displays the results in a table.\n",
    " The program should do the following\n",
    " Prompt the user to enter the file path of the CSV file containing the student data\n",
    " Read the CSV file into a Pandas DataFrame\n",
    " Calculate the mean, median, and mode of the test scores using Pandas tools\n",
    " Display the mean, median, and mode in a table"
   ]
  },
  {
   "cell_type": "code",
   "execution_count": null,
   "id": "e2cc09d3",
   "metadata": {},
   "outputs": [],
   "source": [
    "import pandas as pd\n",
    "\n",
    "# Prompt the user to enter the file path\n",
    "file_path = input(\"Enter the file path (CSV): \")\n",
    "\n",
    "# Read the CSV file into a DataFrame\n",
    "data = pd.read_csv(file_path)\n",
    "\n",
    "# Calculate the mean, median, and mode of the test scores\n",
    "mean_score = data['Test Score'].mean()\n",
    "median_score = data['Test Score'].median()\n",
    "mode_score = data['Test Score'].mode().values[0]\n",
    "\n",
    "# Create a table to display the results\n",
    "result_table = pd.DataFrame({'Statistic': ['Mean', 'Median', 'Mode'],\n",
    "                             'Test Score': [mean_score, median_score, mode_score]})\n",
    "\n",
    "# Display the table\n",
    "print(result_table)\n"
   ]
  }
 ],
 "metadata": {
  "kernelspec": {
   "display_name": "Python 3 (ipykernel)",
   "language": "python",
   "name": "python3"
  },
  "language_info": {
   "codemirror_mode": {
    "name": "ipython",
    "version": 3
   },
   "file_extension": ".py",
   "mimetype": "text/x-python",
   "name": "python",
   "nbconvert_exporter": "python",
   "pygments_lexer": "ipython3",
   "version": "3.9.13"
  }
 },
 "nbformat": 4,
 "nbformat_minor": 5
}

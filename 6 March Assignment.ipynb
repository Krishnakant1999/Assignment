{
 "cells": [
  {
   "cell_type": "markdown",
   "id": "17eec0e1",
   "metadata": {},
   "source": [
    "Q1. What is Statistics?"
   ]
  },
  {
   "cell_type": "markdown",
   "id": "1110079f",
   "metadata": {},
   "source": [
    "Stastics is science of collecting,organizing,analyzing data.Where data is piece of facts or information."
   ]
  },
  {
   "cell_type": "markdown",
   "id": "ee94de09",
   "metadata": {},
   "source": [
    "Q2. Define the different types of statistics and give an example of when each type might be used."
   ]
  },
  {
   "cell_type": "markdown",
   "id": "7524b6ca",
   "metadata": {},
   "source": [
    "There are two types of stastics \n",
    "1.Descriptive stastics:\n",
    "    This is type of stastics which constist of organizing and summaring the data.\n",
    "    It is used when:\n",
    "        1.Measurement of central tendancy[Mean,Median,Mode]\n",
    "        2.Measure of Dispersion\n",
    "        3.Differnet type of distribution of data[Histogram,pdf,pmf]\n",
    "\n",
    "2.Inferential stastics:\n",
    "    It consist of using data you have to form conclusion.In this stasitiscs we try to predict the charactristics of whole data depend on the sample data we have.\n",
    "    It is used when we have to find out p value, H vlaue,Hypothethis value.\n",
    "    "
   ]
  },
  {
   "cell_type": "markdown",
   "id": "d1e31dfd",
   "metadata": {},
   "source": [
    "Q3.  What are the different types of data and how do they differ from each other? Provide an example of \n",
    "each type of data."
   ]
  },
  {
   "cell_type": "markdown",
   "id": "4558d449",
   "metadata": {},
   "source": [
    "Nominal Data: Nominal data represents categories or labels without any inherent order or numerical value. It is the simplest form of data and can only be categorized or classified. Examples include:\n",
    "Gender (e.g., male or female)\n",
    "Marital status (e.g., married, single, divorced)\n",
    "Types of animals (e.g., dog, cat, bird)\n",
    "\n",
    "Ordinal Data: Ordinal data, like nominal data, represents categories, but it also has a natural ordering or ranking among the categories. However, the differences between the categories are not necessarily equal or measurable. Examples include:\n",
    "Education level (e.g., elementary, high school, bachelor's, master's)\n",
    "Satisfaction rating (e.g., very dissatisfied, somewhat satisfied, very satisfied)\n",
    "Economic status (e.g., low income, middle income, high income)\n",
    "\n",
    "Interval Data: Interval data represents numerical values where the differences between the values are meaningful and consistent. However, interval data does not have a true zero point or an absolute starting point. Examples include:\n",
    "Temperature measured in Celsius or Fahrenheit\n",
    "Years (e.g., 1990, 2000, 2010)\n",
    "Likert scale ratings (e.g., 1 to 5 rating of agreement)\n",
    "\n",
    "Ratio Data: Ratio data is similar to interval data, but it also has a true zero point that represents the absence of the measured quantity. Ratio data allows for meaningful ratios and proportions between values. Examples include:\n",
    "Height in centimeters or inches\n",
    "Weight in kilograms or pounds\n",
    "Income in dollars"
   ]
  },
  {
   "cell_type": "markdown",
   "id": "9ed8989f",
   "metadata": {},
   "source": [
    "Q4. Categorise the following datasets with respect to quantitative and qualitative data types:\n",
    " (i) Grading in exam: A+, A, B+, B, C+, C, D, E\n",
    " (ii) Colour of mangoes: yellow, green, orange, red\n",
    " (iii) Height data of a class: [178.9, 179, 179.5, 176, 177.2, 178.3, 175.8,...]\n",
    " (iv) Number of mangoes exported by a farm: [500, 600, 478, 672, …]"
   ]
  },
  {
   "cell_type": "markdown",
   "id": "00edd6e8",
   "metadata": {},
   "source": [
    "Answers:\n",
    "    1.Qualitative\n",
    "    2.Qualitative\n",
    "    3.Quantative [Continuous]\n",
    "    4.Quantative[Discrete]"
   ]
  },
  {
   "cell_type": "markdown",
   "id": "c2bcd1a3",
   "metadata": {},
   "source": [
    "Q5. Explain the concept of levels of measurement and give an example of a variable for each level."
   ]
  },
  {
   "cell_type": "markdown",
   "id": "cba9401b",
   "metadata": {},
   "source": [
    "Nominal Level: At the nominal level, variables are categorized or classified into distinct groups or categories. Nominal variables have no inherent order or numerical value. Examples include:\n",
    "Gender (Male, Female)\n",
    "\n",
    "Ordinal Level: At the ordinal level, variables have categories with a natural order or ranking, but the differences between the categories may not be equal or precisely measurable. Examples include:\n",
    "Educational attainment (Elementary, High School, Bachelor's, Master's)\n",
    "\n",
    "interval Level: At the interval level, variables have numerical values, and the differences between values are consistent and meaningful. However, the data do not have a true zero point or an absolute starting point. Examples include:\n",
    "Temperature in Celsius or Fahrenheit\n",
    "\n",
    "Ratio Level: At the ratio level, variables have numerical values with a true zero point that represents the absence of the measured quantity. Ratio variables allow for meaningful ratios and proportions between values. Examples include:\n",
    "Height in centimeters"
   ]
  },
  {
   "cell_type": "code",
   "execution_count": null,
   "id": "ba27394f",
   "metadata": {},
   "outputs": [],
   "source": [
    "Q6. Why is it important to understand the level of measurement when analyzing data? Provide an \n",
    "example to illustrate your answer."
   ]
  },
  {
   "cell_type": "markdown",
   "id": "d810e37d",
   "metadata": {},
   "source": [
    "Understanding the level of measurement is crucial when analyzing data because it determines the appropriate statistical techniques and operations that can be applied to the data. Failing to consider the level of measurement can lead to inaccurate or misleading conclusions. Here's an example to illustrate the importance of understanding the level of measurement:\n",
    "\n",
    "Suppose we have a dataset that includes information about the education levels of individuals, categorized as \"Elementary,\" \"High School,\" \"Bachelor's,\" and \"Master's.\" We want to calculate the average education level in the dataset.\n",
    "\n",
    "If we treat the education levels as numerical values and take their mean, we would assign arbitrary numerical values to the categories (e.g., Elementary = 1, High School = 2, Bachelor's = 3, Master's = 4) and calculate the average. However, this approach would be inappropriate because education levels are ordinal data, not numerical data with equal intervals"
   ]
  },
  {
   "cell_type": "markdown",
   "id": "59de27d9",
   "metadata": {},
   "source": [
    "Q7. How nominal data type is different from ordinal data type."
   ]
  },
  {
   "cell_type": "markdown",
   "id": "12d6377d",
   "metadata": {},
   "source": [
    "Nature of Data:\n",
    "Nominal Data: Nominal data consists of categories or labels without any inherent order or ranking. Each category represents a distinct group, and there is no numerical value associated with the categories. Examples include gender (male, female), eye color (blue, brown, green), or types of animals (dog, cat, bird).\n",
    "Ordinal Data: Ordinal data, on the other hand, represents categories with a natural order or ranking. The categories have a relative position or preference, but the differences between the categories may not be precisely measurable. Examples include educational attainment (elementary, high school, bachelor's, master's), satisfaction ratings (very dissatisfied, somewhat satisfied, very satisfied), or economic status (low income, middle income, high income)."
   ]
  },
  {
   "cell_type": "markdown",
   "id": "2342c8c4",
   "metadata": {},
   "source": [
    "Q8. Which type of plot can be used to display data in terms of range?"
   ]
  },
  {
   "cell_type": "markdown",
   "id": "3da07103",
   "metadata": {},
   "source": [
    "A common type of plot used to display data in terms of range is a box plot, also known as a box-and-whisker plot. A box plot provides a visual representation of the distribution of a dataset and displays the minimum, first quartile (Q1), median, third quartile (Q3), and maximum values.\n",
    "\n",
    "Here's how a box plot displays data in terms of range:\n",
    "\n",
    "The box in the plot represents the interquartile range (IQR), which is the range between the first quartile (Q1) and the third quartile (Q3). The width of the box represents the spread of the middle 50% of the data.\n",
    "Inside the box, there is a horizontal line that represents the median value (Q2), which is the middle value of the dataset when it is arranged in ascending order.\n",
    "Whiskers extend vertically from the box, and they represent the minimum and maximum values within a specified range. The whiskers can be calculated in different ways, such as extending to the minimum and maximum data points within 1.5 times the IQR or extending to the full range of the data.\n",
    "Sometimes, outliers or extreme values that fall outside the whiskers are represented as individual points or small circles.\n",
    "By using a box plot, you can quickly visualize the range of the dataset, the spread of the data, and the presence of outliers. It provides a concise summary of the minimum, maximum, quartiles, and median values, allowing for easy comparisons between different groups or categories of data.\n",
    "\n",
    "Box plots are commonly used in various fields, including statistics, data analysis, and research, to display the range and distribution of numerical data, identify potential outliers, and compare data across different groups or variables."
   ]
  },
  {
   "cell_type": "markdown",
   "id": "290e35a7",
   "metadata": {},
   "source": [
    "Q9. Describe the difference between descriptive and inferential statistics. Give an example of each \n",
    "type of statistics and explain how they are used."
   ]
  },
  {
   "cell_type": "markdown",
   "id": "959b766b",
   "metadata": {},
   "source": [
    "Descriptive Statistics:\n",
    "Descriptive statistics involves summarizing and describing the main features of a dataset. It focuses on organizing, analyzing, and presenting data to provide meaningful insights and understand the characteristics of the data. Descriptive statistics aim to describe what has happened or what is observed in the data without making inferences beyond the analyzed dataset. Examples of descriptive statistics include:\n",
    "Calculating the mean, median, and mode of a dataset to understand the central tendency.\n",
    "Computing measures of dispersion such as the range, variance, and standard deviation to assess the spread of the data.\n",
    "Constructing frequency distributions and histograms to visualize the distribution of data.\n",
    "\n",
    "Inferential Statistics:\n",
    "Inferential statistics involves drawing conclusions and making predictions about a population based on a sample. It goes beyond the observed data and aims to make inferences or generalizations about a larger group or population. Inferential statistics allow researchers to make statements about the likelihood of observed findings being applicable to the entire population. Examples of inferential statistics include:\n",
    "Conducting hypothesis tests to determine if there is a significant difference between two groups. For example, testing whether a new drug has a different effect compared to a placebo.\n",
    "Estimating population parameters using sample statistics. For instance, estimating the average income of a city based on a sample of households.\n",
    "Constructing confidence intervals to determine the range within which a population parameter is likely to fall."
   ]
  },
  {
   "cell_type": "markdown",
   "id": "8abf59e6",
   "metadata": {},
   "source": [
    "Q10. What are some common measures of central tendency and variability used in statistics? Explain \n",
    "how each measure can be used to describe a dataset."
   ]
  },
  {
   "cell_type": "markdown",
   "id": "65cbb32e",
   "metadata": {},
   "source": [
    "Measures of Central Tendency:\n",
    "\n",
    "Mean: The mean is the average value of a dataset and is calculated by summing all the values and dividing by the total number of observations. The mean represents the typical or central value of the dataset. It is commonly used when the data is normally distributed and has no extreme outliers.\n",
    "\n",
    "Median: The median is the middle value of a dataset when it is arranged in ascending or descending order. It divides the dataset into two equal halves. The median is useful when the data contains outliers or is skewed, as it is not affected by extreme values. It represents the middle or central position in the data.\n",
    "\n",
    "Mode: The mode is the value or values that occur most frequently in a dataset. It represents the most common or dominant value(s) in the data. The mode is useful for categorical or discrete data, and it can also be used for continuous data. Unlike the mean and median, the mode does not depend on numerical calculations and can be determined by simple counting.\n",
    "\n",
    "Measures of Variability:\n",
    "\n",
    "Range: The range is the difference between the maximum and minimum values in a dataset. It provides a simple measure of the spread or dispersion of the data. However, it is sensitive to extreme values and may not provide a robust representation of variability when there are outliers.\n",
    "\n",
    "Variance: Variance measures the average squared deviation from the mean in a dataset. It quantifies the spread or dispersion of the data points around the mean. Variance takes into account all values in the dataset and provides a more comprehensive measure of variability.\n",
    "\n",
    "Standard Deviation: The standard deviation is the square root of the variance. It measures the average distance between each data point and the mean. Standard deviation is widely used to describe the spread or variability of a dataset. It provides a measure of dispersion that is in the same units as the original data.\n",
    "\n",
    "By using measures of central tendency (mean, median, mode), we can describe the typical or central value of the data. Measures of variability (range, variance, standard deviation) help us understand the spread or dispersion of the data points around the central value. Together, these measures provide valuable information about the distribution, characteristics, and variability of the dataset, aiding in data analysis, interpretation, and comparison."
   ]
  }
 ],
 "metadata": {
  "kernelspec": {
   "display_name": "Python 3 (ipykernel)",
   "language": "python",
   "name": "python3"
  },
  "language_info": {
   "codemirror_mode": {
    "name": "ipython",
    "version": 3
   },
   "file_extension": ".py",
   "mimetype": "text/x-python",
   "name": "python",
   "nbconvert_exporter": "python",
   "pygments_lexer": "ipython3",
   "version": "3.9.13"
  }
 },
 "nbformat": 4,
 "nbformat_minor": 5
}

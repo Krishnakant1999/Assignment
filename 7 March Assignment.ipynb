{
 "cells": [
  {
   "cell_type": "markdown",
   "id": "533c8adf",
   "metadata": {},
   "source": [
    "Q1. What are the three measures of central tendency?"
   ]
  },
  {
   "cell_type": "markdown",
   "id": "86f7ea1e",
   "metadata": {},
   "source": [
    "Mean: The mean is calculated by summing up all the values in a dataset and then dividing the sum by the total number of values. It represents the average or typical value of the dataset.\n",
    "\n",
    "Median: The median is the middle value in a dataset when the values are arranged in ascending or descending order. If the dataset has an odd number of values, the median is the middle value. If the dataset has an even number of values, the median is the average of the two middle values.\n",
    "\n",
    "Mode: The mode is the value that appears most frequently in a dataset. It represents the most common value or values in the dataset. A dataset can have one mode (unimodal), two modes (bimodal), or more than two modes (multimodal). It is possible for a dataset to have no mode if all the values occur with equal frequency."
   ]
  },
  {
   "cell_type": "markdown",
   "id": "4e7a9ff4",
   "metadata": {},
   "source": [
    "Q2. What is the difference between the mean, median, and mode? How are they used to measure the \n",
    "central tendency of a dataset?"
   ]
  },
  {
   "cell_type": "markdown",
   "id": "e772a373",
   "metadata": {},
   "source": [
    "The mean, median, and mode are all measures of central tendency used to describe the typical or central value of a dataset. While they serve a similar purpose, they differ in how they are calculated and the type of data they are best suited for.\n",
    "\n",
    "These measures of central tendency provide different perspectives on the typical value of a dataset and are chosen based on the nature of the data and the desired analysis. The mean is useful for understanding the overall average, the median is helpful when dealing with skewed data or outliers, and the mode highlights the most common value(s). By using these measures together, analysts can gain a more comprehensive understanding of the central tendency of a dataset."
   ]
  },
  {
   "cell_type": "markdown",
   "id": "8080e152",
   "metadata": {},
   "source": [
    "Q3. Measure the three measures of central tendency for the given height data:\n",
    " [178,177,176,177,178.2,178,175,179,180,175,178.9,176.2,177,172.5,178,176.5]"
   ]
  },
  {
   "cell_type": "code",
   "execution_count": 1,
   "id": "5b3105c3",
   "metadata": {},
   "outputs": [],
   "source": [
    "l= [178,177,176,177,178.2,178,175,179,180,175,178.9,176.2,177,172.5,178,176.5]"
   ]
  },
  {
   "cell_type": "code",
   "execution_count": 6,
   "id": "3b2c7879",
   "metadata": {},
   "outputs": [],
   "source": [
    "import numpy as np"
   ]
  },
  {
   "cell_type": "code",
   "execution_count": 7,
   "id": "bd33ebe2",
   "metadata": {},
   "outputs": [
    {
     "data": {
      "text/plain": [
       "177.01875"
      ]
     },
     "execution_count": 7,
     "metadata": {},
     "output_type": "execute_result"
    }
   ],
   "source": [
    "np.mean(l)"
   ]
  },
  {
   "cell_type": "code",
   "execution_count": 8,
   "id": "4bbe89df",
   "metadata": {},
   "outputs": [
    {
     "data": {
      "text/plain": [
       "177.0"
      ]
     },
     "execution_count": 8,
     "metadata": {},
     "output_type": "execute_result"
    }
   ],
   "source": [
    "np.median(l)"
   ]
  },
  {
   "cell_type": "code",
   "execution_count": 10,
   "id": "f2554fcb",
   "metadata": {},
   "outputs": [],
   "source": [
    "from scipy import stats"
   ]
  },
  {
   "cell_type": "code",
   "execution_count": 11,
   "id": "8a630a74",
   "metadata": {},
   "outputs": [
    {
     "name": "stderr",
     "output_type": "stream",
     "text": [
      "C:\\Users\\Lenovo\\AppData\\Local\\Temp\\ipykernel_12088\\2919890712.py:1: FutureWarning: Unlike other reduction functions (e.g. `skew`, `kurtosis`), the default behavior of `mode` typically preserves the axis it acts along. In SciPy 1.11.0, this behavior will change: the default value of `keepdims` will become False, the `axis` over which the statistic is taken will be eliminated, and the value None will no longer be accepted. Set `keepdims` to True or False to avoid this warning.\n",
      "  stats.mode(l)\n"
     ]
    },
    {
     "data": {
      "text/plain": [
       "ModeResult(mode=array([177.]), count=array([3]))"
      ]
     },
     "execution_count": 11,
     "metadata": {},
     "output_type": "execute_result"
    }
   ],
   "source": [
    "stats.mode(l)"
   ]
  },
  {
   "cell_type": "markdown",
   "id": "7b735e0b",
   "metadata": {},
   "source": [
    "Q4. Find the standard deviation for the given data:\n",
    " [178,177,176,177,178.2,178,175,179,180,175,178.9,176.2,177,172.5,178,176.5]"
   ]
  },
  {
   "cell_type": "code",
   "execution_count": 12,
   "id": "6ea38bca",
   "metadata": {},
   "outputs": [
    {
     "data": {
      "text/plain": [
       "1.7885814036548633"
      ]
     },
     "execution_count": 12,
     "metadata": {},
     "output_type": "execute_result"
    }
   ],
   "source": [
    "l1=  [178,177,176,177,178.2,178,175,179,180,175,178.9,176.2,177,172.5,178,176.5]\n",
    "import numpy as np\n",
    "np.std(l1)"
   ]
  },
  {
   "cell_type": "code",
   "execution_count": null,
   "id": "0679117d",
   "metadata": {},
   "outputs": [],
   "source": [
    "Q5. How are measures of dispersion such as range, variance, and standard deviation used to describe \n",
    "the spread of a dataset? Provide an example."
   ]
  },
  {
   "cell_type": "markdown",
   "id": "a173d0c5",
   "metadata": {},
   "source": [
    "Range: The range is the simplest measure of dispersion and represents the difference between the maximum and minimum values in a dataset. It gives an idea of the total spread of the data. However, it only considers two values and does not take into account the distribution of values in between.\n",
    "Example: Consider a dataset of exam scores for a class of students: 65, 70, 75, 80, 85. The range would be 85 - 65 = 20, indicating that the scores span a range of 20 points.\n",
    "\n",
    "Variance: Variance measures the average squared deviation of each value from the mean. It considers all the values in the dataset and provides a more comprehensive understanding of the spread. However, the variance is in squared units, which can be difficult to interpret.\n",
    "Example: Suppose you have a dataset of monthly sales figures for a store: 1000, 1200, 800, 900, 1100. To calculate the variance, you first find the mean (mean = (1000 + 1200 + 800 + 900 + 1100) / 5 = 1000). Then, you calculate the squared difference of each value from the mean: (1000 - 1000)^2, (1200 - 1000)^2, (800 - 1000)^2, (900 - 1000)^2, (1100 - 1000)^2. Summing up these squared differences and dividing by the number of values (5) gives you the variance.\n",
    "\n",
    "Standard Deviation: The standard deviation is the square root of the variance. It provides a measure of dispersion in the same units as the original data, making it easier to interpret. It represents the average deviation from the mean.\n",
    "Example: Using the previous example of monthly sales figures, after calculating the variance, you can find the standard deviation by taking the square root of the variance. This gives you the standard deviation of the dataset, which can be interpreted as the typical amount by which each sales figure deviates from the mean."
   ]
  },
  {
   "cell_type": "markdown",
   "id": "6f36262a",
   "metadata": {},
   "source": [
    "Q6. What is a Venn diagram?"
   ]
  },
  {
   "cell_type": "markdown",
   "id": "e044f31f",
   "metadata": {},
   "source": [
    "A Venn diagram is a graphical representation used to illustrate relationships between different sets or groups. It consists of overlapping circles or other shapes that visually depict the common and distinct elements among the sets. Venn diagrams were introduced by John Venn, a British mathematician, in the late 19th century."
   ]
  },
  {
   "cell_type": "markdown",
   "id": "c80f19c4",
   "metadata": {},
   "source": [
    "Q7. For the two given sets A = (2,3,4,5,6,7) & B = (0,2,6,8,10). Find:\n",
    " (i) A   interesection  B\n",
    " (ii) A ⋃ B"
   ]
  },
  {
   "cell_type": "code",
   "execution_count": 14,
   "id": "f70b5e4a",
   "metadata": {},
   "outputs": [
    {
     "name": "stdout",
     "output_type": "stream",
     "text": [
      "Intersection : {2, 6}\n",
      "Union: {0, 2, 3, 4, 5, 6, 7, 8, 10}\n"
     ]
    }
   ],
   "source": [
    "A = {2, 3, 4, 5, 6, 7}\n",
    "B = {0, 2, 6, 8, 10}\n",
    "\n",
    "# Intersection of A and B\n",
    "intersection = A.intersection(B)\n",
    "print(\"Intersection :\", intersection)\n",
    "\n",
    "# Union of A and B\n",
    "union = A.union(B)\n",
    "print(\"Union:\", union)\n"
   ]
  },
  {
   "cell_type": "markdown",
   "id": "1250bb51",
   "metadata": {},
   "source": [
    "Q8. What do you understand about skewness in data?"
   ]
  },
  {
   "cell_type": "markdown",
   "id": "5fe12fae",
   "metadata": {},
   "source": [
    "Positive Skewness (Right-skewed): In a positively skewed distribution, the tail of the distribution extends towards the right side, indicating that the majority of the data points are concentrated on the left side. The mean is typically greater than the median, as the larger values in the right tail pull the mean towards higher values.\n",
    "\n",
    "Negative Skewness (Left-skewed): In a negatively skewed distribution, the tail of the distribution extends towards the left side, indicating that the majority of the data points are concentrated on the right side. The mean is typically less than the median, as the smaller values in the left tail pull the mean towards lower values.\n",
    "\n",
    "Zero Skewness: A distribution is considered to have zero skewness when it is perfectly symmetrical, with equal frequencies of values on both sides of the mean. In this case, the mean, median, and mode coincide.\n",
    "\n",
    "\n",
    "Skewness is a crucial statistical measure as it helps in understanding the shape and characteristics of a dataset. It provides insights into the distribution's tail behavior, which can be important for data analysis and decision-making. Skewness, along with other statistical measures, aids in describing and interpreting the overall pattern and tendencies of the data."
   ]
  },
  {
   "cell_type": "markdown",
   "id": "ac6493c1",
   "metadata": {},
   "source": [
    "Q9. If a data is right skewed then what will be the position of median with respect to mean?"
   ]
  },
  {
   "cell_type": "markdown",
   "id": "20c533c6",
   "metadata": {},
   "source": [
    "In a right-skewed distribution, the tail of the distribution extends towards the right side, indicating that the majority of the data points are concentrated on the left side. In this case, the mean is typically greater than the median."
   ]
  },
  {
   "cell_type": "markdown",
   "id": "72724c1a",
   "metadata": {},
   "source": [
    "Q10. Explain the difference between covariance and correlation. How are these measures used in \n",
    "statistical analysis?"
   ]
  },
  {
   "cell_type": "markdown",
   "id": "5b8beb5d",
   "metadata": {},
   "source": [
    "Covariance :\n",
    "Covariance measures how two variables change together. It quantifies the degree to which the variables move in relation to each other.\n",
    "Covariance can take any value, positive or negative, depending on the direction of the relationship between the variables. A positive covariance indicates that the variables tend to move in the same direction, while a negative covariance indicates they tend to move in opposite directions.\n",
    "\n",
    "Correlation :\n",
    "Correlation measures the strength and direction of the linear relationship between two variables. It provides a standardized measure of the relationship that is not influenced by the scales of the variables.\n",
    "Correlation values range between -1 and 1. A correlation of 1 indicates a perfect positive linear relationship, -1 indicates a perfect negative linear relationship, and 0 indicates no linear relationship.\n",
    "Correlation is calculated by dividing the covariance by the product of the standard deviations of the variables\n",
    "\n",
    "Covariance and correlation are used to assess the relationship between variables and to determine if changes in one variable are associated with changes in another.\n",
    "Covariance is often used as a preliminary measure to determine if a relationship exists, while correlation provides a more precise measure of the strength and direction of the relationship.\n",
    "Correlation is widely used in regression analysis to assess the association between independent and dependent variables.\n",
    "Correlation is also employed in hypothesis testing and making inferences about population relationships based on sample data.\n",
    "Both covariance and correlation are essential for portfolio analysis, risk assessment, and optimization.\n",
    "Overall, correlation is a more widely used and interpretable measure than covariance, as it provides a standardized indication of the strength and direction of the linear relationship between variables."
   ]
  },
  {
   "cell_type": "markdown",
   "id": "981b0af9",
   "metadata": {},
   "source": [
    "Q11. What is the formula for calculating the sample mean? Provide an example calculation for a \n",
    "dataset"
   ]
  },
  {
   "cell_type": "markdown",
   "id": "1eab5f69",
   "metadata": {},
   "source": [
    "Sample Mean (X̄) = (Sum of all values in the dataset) / (Number of values in the dataset)\n",
    "\n",
    "To calculate the sample mean, you add up all the values in the dataset and then divide the sum by the total number of values.\n",
    "\n",
    "Here's an example calculation of the sample mean for a dataset:\n",
    "\n",
    "Dataset: 12, 15, 18, 21, 24\n",
    "\n",
    "Step 1: Add up all the values: 12 + 15 + 18 + 21 + 24 = 90\n",
    "\n",
    "Step 2: Determine the number of values in the dataset, which is 5.\n",
    "\n",
    "Step 3: Calculate the sample mean by dividing the sum of values (90) by the number of values (5):\n",
    "\n",
    "Sample Mean (X̄) = 90 / 5 = 18\n",
    "\n",
    "So, the sample mean for the given dataset is 18."
   ]
  },
  {
   "cell_type": "markdown",
   "id": "f50fe595",
   "metadata": {},
   "source": [
    "Q12. For a normal distribution data what is the relationship between its measure of central tendency?"
   ]
  },
  {
   "cell_type": "markdown",
   "id": "2397c714",
   "metadata": {},
   "source": [
    "For a normal distribution:\n",
    "\n",
    "Mean = Median = Mode\n",
    "All three measures of central tendency coincide at the center of the distribution.\n",
    "The distribution is perfectly symmetrical and bell-shaped, with an equal number of values on both sides of the central point.\n",
    "The normal distribution is often characterized by its symmetry, and the central tendency measures reflect this characteristic by being equal to each other."
   ]
  },
  {
   "cell_type": "markdown",
   "id": "70cce47a",
   "metadata": {},
   "source": [
    "Q13. How is covariance different from correlation?"
   ]
  },
  {
   "cell_type": "markdown",
   "id": "c9c1c445",
   "metadata": {},
   "source": [
    "Covariance and correlation are used to assess the relationship between variables and to determine if changes in one variable are associated with changes in another.\n",
    "Covariance is often used as a preliminary measure to determine if a relationship exists, while correlation provides a more precise measure of the strength and direction of the relationship.\n",
    "Correlation is widely used in regression analysis to assess the association between independent and dependent variables.\n",
    "Correlation is also employed in hypothesis testing and making inferences about population relationships based on sample data."
   ]
  },
  {
   "cell_type": "markdown",
   "id": "c0f03db0",
   "metadata": {},
   "source": [
    "Q14. How do outliers affect measures of central tendency and dispersion? Provide an example."
   ]
  },
  {
   "cell_type": "markdown",
   "id": "d36630b0",
   "metadata": {},
   "source": [
    "Measures of Central Tendency:\n",
    "\n",
    "Mean: Outliers can heavily influence the mean because it takes into account the values of all observations. A single extreme value can pull the mean towards it, leading to an inaccurate representation of the typical value.\n",
    "Median: The median is less affected by outliers because it is based on the middle value in the ordered dataset. Outliers do not have a direct impact on the position of the median unless they are extreme enough to change the ordering of the values.\n",
    "Mode: Outliers typically do not affect the mode directly since it represents the most frequently occurring value(s). However, if there are outliers that occur with high frequency, they can create additional modes or change the mode(s) in the dataset.\n",
    "Measures of Dispersion:\n",
    "\n",
    "Range: Outliers can significantly affect the range since it is based on the difference between the maximum and minimum values. Outliers with extreme values can increase the range and distort the representation of the spread of the data.\n",
    "Variance and Standard Deviation: Outliers have a notable impact on both the variance and standard deviation since they contribute to the squared differences from the mean. Outliers with extreme values can increase the variance and, consequently, the standard deviation, resulting in an overestimation of the spread of the data."
   ]
  },
  {
   "cell_type": "markdown",
   "id": "c2ca2dbc",
   "metadata": {},
   "source": [
    "Mean: Without the outlier, the mean would be (85+90+92+88+89+95+87+94+96)/9 = 90. But including the outlier, the mean becomes (85+90+92+88+89+95+87+94+96+20)/10 = 89.6. The outlier pulls down the mean significantly.\n",
    "Median: The median remains unaffected by the outlier because it is the middle value. In this case, the median is 89.\n",
    "Mode: The mode is unaffected as well since there are no changes in the most frequently occurring value(s) in the dataset, which is 89.\n",
    "Range: The range is heavily affected by the outlier. Without the outlier, the range would be 96 - 85 = 11, but including the outlier, the range becomes 96 - 20 = 76, which overestimates the spread of the data."
   ]
  }
 ],
 "metadata": {
  "kernelspec": {
   "display_name": "Python 3 (ipykernel)",
   "language": "python",
   "name": "python3"
  },
  "language_info": {
   "codemirror_mode": {
    "name": "ipython",
    "version": 3
   },
   "file_extension": ".py",
   "mimetype": "text/x-python",
   "name": "python",
   "nbconvert_exporter": "python",
   "pygments_lexer": "ipython3",
   "version": "3.9.13"
  }
 },
 "nbformat": 4,
 "nbformat_minor": 5
}

{
 "cells": [
  {
   "cell_type": "markdown",
   "id": "54650ecf",
   "metadata": {},
   "source": [
    "Q.1. What is multithreading in python? why is it used? Name the module used to handle threads in python."
   ]
  },
  {
   "cell_type": "markdown",
   "id": "ee8a0263",
   "metadata": {},
   "source": [
    "Multithreading in Python refers to the ability of a program to execute multiple threads (smaller units of a program) concurrently within a single process. Each thread represents an independent flow of execution, allowing different parts of a program to run simultaneously."
   ]
  },
  {
   "cell_type": "markdown",
   "id": "0de23aee",
   "metadata": {},
   "source": [
    "Multithreading is used to achieve concurrent execution, where multiple tasks can be performed concurrently and independently. By utilizing multiple threads, a program can improve its efficiency and responsiveness, particularly in situations where there are blocking or time-consuming operations. For example, multithreading can be beneficial in tasks such as network programming, I/O operations, or handling parallel computations."
   ]
  },
  {
   "cell_type": "markdown",
   "id": "4e514705",
   "metadata": {},
   "source": [
    "the threading module is used to handle threads. It provides a high-level interface for creating and managing threads in a Python program. "
   ]
  },
  {
   "cell_type": "markdown",
   "id": "4bdf5600",
   "metadata": {},
   "source": [
    "Q.2.why threading module used? write the use of the following functions \n",
    " 1.activeCount()"
   ]
  },
  {
   "cell_type": "markdown",
   "id": "9a2a6682",
   "metadata": {},
   "source": [
    "The threading module in Python is used for creating, managing, and synchronizing threads in a program. It provides a high-level interface and several functions to work with threads effectively. "
   ]
  },
  {
   "cell_type": "markdown",
   "id": "06cd2644",
   "metadata": {},
   "source": [
    "The activeCount() function is a method of the threading module that returns the number of Thread objects currently alive. "
   ]
  },
  {
   "cell_type": "code",
   "execution_count": 4,
   "id": "619f6bb0",
   "metadata": {},
   "outputs": [
    {
     "name": "stdout",
     "output_type": "stream",
     "text": [
      "Number of active threads: 6\n"
     ]
    }
   ],
   "source": [
    "import threading\n",
    "\n",
    "def my_thread_func():\n",
    "    # Code for the thread's functionality\n",
    "\n",
    "# Create and start multiple threads\n",
    "    thread1 = threading.Thread(target=my_thread_func)\n",
    "    thread2 = threading.Thread(target=my_thread_func)\n",
    "    thread1.start()\n",
    "    thread2.start()\n",
    "\n",
    "# Get the number of active threads\n",
    "active_threads = threading.activeCount()\n",
    "print(\"Number of active threads:\", active_threads)\n"
   ]
  },
  {
   "cell_type": "markdown",
   "id": "6067fe0d",
   "metadata": {},
   "source": [
    "2.currentThread()"
   ]
  },
  {
   "cell_type": "code",
   "execution_count": 5,
   "id": "19f98a64",
   "metadata": {},
   "outputs": [
    {
     "name": "stdout",
     "output_type": "stream",
     "text": [
      "Current thread: <Thread(Thread-5, started 9516)>\n"
     ]
    }
   ],
   "source": [
    "import threading\n",
    "\n",
    "def my_thread_func():\n",
    "    current_thread = threading.currentThread()\n",
    "    print(\"Current thread:\", current_thread)\n",
    "\n",
    "# Create and start a thread\n",
    "thread = threading.Thread(target=my_thread_func)\n",
    "thread.start()\n"
   ]
  },
  {
   "cell_type": "markdown",
   "id": "643e9e1b",
   "metadata": {},
   "source": [
    "The currentThread() function is often used to access and manipulate properties of the current thread, such as obtaining its name, ID, or modifying its attributes. It allows for dynamic behavior and thread-specific operations within a multithreaded program."
   ]
  },
  {
   "cell_type": "markdown",
   "id": "5745d98e",
   "metadata": {},
   "source": [
    "3.enumerate()"
   ]
  },
  {
   "cell_type": "markdown",
   "id": "e86a6b50",
   "metadata": {},
   "source": [
    "The enumerate() function is a built-in function in Python that is not specific to the threading module. However, it can be used in conjunction with the threading module to iterate over a sequence of threads and obtain both the index and the thread object."
   ]
  },
  {
   "cell_type": "code",
   "execution_count": 16,
   "id": "fbdaa638",
   "metadata": {},
   "outputs": [],
   "source": [
    "import threading\n",
    "\n",
    "def my_thread_func():\n",
    "    # Code for the thread's functionality\n",
    "\n",
    "# Create a list of threads\n",
    "    threads = [threading.Thread(target=my_thread_func) for _ in range(5)]\n",
    "\n",
    "# Start the threads\n",
    "    for thread in threads:\n",
    "        thread.start()\n",
    "\n",
    "# Enumerate over the threads\n",
    "    for index, thread in enumerate(threads):\n",
    "        print(\"Thread\", index, \":\", thread)\n"
   ]
  },
  {
   "cell_type": "markdown",
   "id": "1edbd715",
   "metadata": {},
   "source": [
    "Q.3. Explain the following functions"
   ]
  },
  {
   "cell_type": "markdown",
   "id": "a5edbfbc",
   "metadata": {},
   "source": [
    "1.run():"
   ]
  },
  {
   "cell_type": "markdown",
   "id": "5383da44",
   "metadata": {},
   "source": [
    "The run() method represents the entry point for the functionality of a thread. It is called internally when a thread's start() method is invoked. To define the behavior of a thread, you can subclass the Thread class and override the run() method. Any code written within the run() method will be executed in a separate thread when start() is called."
   ]
  },
  {
   "cell_type": "markdown",
   "id": "b33c04c7",
   "metadata": {},
   "source": [
    "2.start()"
   ]
  },
  {
   "cell_type": "markdown",
   "id": "cbb4be75",
   "metadata": {},
   "source": [
    "The start() method is used to start the execution of a thread. It initiates the separate thread of execution and calls the run() method internally. When start() is invoked, the run() method is executed concurrently in a separate thread."
   ]
  },
  {
   "cell_type": "markdown",
   "id": "2e2fa373",
   "metadata": {},
   "source": [
    "3.join()"
   ]
  },
  {
   "cell_type": "markdown",
   "id": "8c4f44c7",
   "metadata": {},
   "source": [
    "The join() method is used to wait for a thread to complete its execution. When a thread calls join(), it waits until the specified thread has finished executing before proceeding with further operations in the main thread. This is useful when you want to ensure that the main thread waits for the completion of a particular thread before continuing."
   ]
  },
  {
   "cell_type": "markdown",
   "id": "a6da1c99",
   "metadata": {},
   "source": [
    "4.isAlive():"
   ]
  },
  {
   "cell_type": "markdown",
   "id": "fd9326b9",
   "metadata": {},
   "source": [
    "The isAlive() method is used to check whether a thread is currently running or has completed its execution. It returns True if the thread is still alive and running, and False otherwise. This method is useful when you need to check the status of a thread to determine if it has completed its task."
   ]
  },
  {
   "cell_type": "markdown",
   "id": "b44d2423",
   "metadata": {},
   "source": [
    "Q.4.  Write a python program to create two threads. Thread one must print the list of squares and thread \n",
    "two must print the list of cubes\u0019"
   ]
  },
  {
   "cell_type": "code",
   "execution_count": 39,
   "id": "23d9b8d5",
   "metadata": {},
   "outputs": [
    {
     "name": "stderr",
     "output_type": "stream",
     "text": [
      "Exception in thread Thread-22:\n",
      "Traceback (most recent call last):\n",
      "  File \"C:\\Users\\Lenovo\\anaconda3\\lib\\threading.py\", line 980, in _bootstrap_inner\n",
      "Exception in thread Thread-23:\n",
      "Traceback (most recent call last):\n",
      "  File \"C:\\Users\\Lenovo\\anaconda3\\lib\\threading.py\", line 980, in _bootstrap_inner\n",
      "    self.run()\n",
      "  File \"C:\\Users\\Lenovo\\anaconda3\\lib\\threading.py\", line 917, in run\n",
      "    self._target(*self._args, **self._kwargs)\n",
      "  File \"C:\\Users\\Lenovo\\AppData\\Local\\Temp\\ipykernel_6880\\689911646.py\", line 6, in square\n",
      "    self.run()\n",
      "  File \"C:\\Users\\Lenovo\\anaconda3\\lib\\threading.py\", line 917, in run\n",
      "    self._target(*self._args, **self._kwargs)\n",
      "  File \"C:\\Users\\Lenovo\\AppData\\Local\\Temp\\ipykernel_6880\\689911646.py\", line 11, in cube\n",
      "ValueError: unsupported format character 'n' (0x6e) at index 15\n",
      "ValueError: unsupported format character 'n' (0x6e) at index 15\n"
     ]
    }
   ],
   "source": [
    "import threading\n",
    "\n",
    "def square():\n",
    "    for num in range(10):\n",
    "        square = num**2\n",
    "        print(\"the square of %num is %d\" %(num ,square))\n",
    "\n",
    "def cube():\n",
    "    for num in range(10):\n",
    "        cube = num**3\n",
    "        print(\"the square of %num is %d\" %(num ,cube))\n",
    "thread1 = threading.Thread(target=square)\n",
    "thread2 = threading.Thread(target=cube)\n",
    "thread1.start()\n",
    "thread2.start()"
   ]
  },
  {
   "cell_type": "code",
   "execution_count": 41,
   "id": "6a6e74dd",
   "metadata": {},
   "outputs": [
    {
     "name": "stdout",
     "output_type": "stream",
     "text": [
      "Square of 1: 1\n",
      "Square of 2: 4\n",
      "Square of 3: 9\n",
      "Square of 4: 16\n",
      "Square of 5: 25\n",
      "Cube of 1: 1\n",
      "Cube of 2: 8\n",
      "Cube of 3: 27\n",
      "Cube of 4: 64\n",
      "Cube of 5: 125\n"
     ]
    }
   ],
   "source": [
    "import threading\n",
    "\n",
    "def print_squares():\n",
    "    for num in range(1, 6):\n",
    "        square = num ** 2\n",
    "        print(f\"Square of {num}: {square}\")\n",
    "\n",
    "def print_cubes():\n",
    "    for num in range(1, 6):\n",
    "        cube = num ** 3\n",
    "        print(f\"Cube of {num}: {cube}\")\n",
    "\n",
    "# Create thread one for printing squares\n",
    "thread1 = threading.Thread(target=print_squares)\n",
    "\n",
    "# Create thread two for printing cubes\n",
    "thread2 = threading.Thread(target=print_cubes)\n",
    "\n",
    "# Start both threads\n",
    "thread1.start()\n",
    "thread2.start()\n"
   ]
  },
  {
   "cell_type": "code",
   "execution_count": 40,
   "id": "35079567",
   "metadata": {},
   "outputs": [
    {
     "name": "stderr",
     "output_type": "stream",
     "text": [
      "Exception in thread Thread-24:\n",
      "Traceback (most recent call last):\n",
      "  File \"C:\\Users\\Lenovo\\anaconda3\\lib\\threading.py\", line 980, in _bootstrap_inner\n",
      "Exception in thread Thread-25:\n",
      "Traceback (most recent call last):\n",
      "  File \"C:\\Users\\Lenovo\\anaconda3\\lib\\threading.py\", line 980, in _bootstrap_inner\n",
      "    self.run()\n",
      "  File \"C:\\Users\\Lenovo\\anaconda3\\lib\\threading.py\", line 917, in run\n",
      "    self.run()\n",
      "  File \"C:\\Users\\Lenovo\\anaconda3\\lib\\threading.py\", line 917, in run\n",
      "    self._target(*self._args, **self._kwargs)\n",
      "  File \"C:\\Users\\Lenovo\\AppData\\Local\\Temp\\ipykernel_6880\\689911646.py\", line 6, in square\n",
      "    self._target(*self._args, **self._kwargs)\n",
      "  File \"C:\\Users\\Lenovo\\AppData\\Local\\Temp\\ipykernel_6880\\689911646.py\", line 11, in cube\n",
      "ValueError: unsupported format character 'n' (0x6e) at index 15\n",
      "ValueError: unsupported format character 'n' (0x6e) at index 15\n"
     ]
    }
   ],
   "source": [
    "import threading\n",
    "\n",
    "def square():\n",
    "    for num in range(10):\n",
    "        square = num**2\n",
    "        print(\"the square of %num is %d\" %(num ,square))\n",
    "\n",
    "def cube():\n",
    "    for num in range(10):\n",
    "        cube = num**3\n",
    "        print(\"the square of %num is %d\" %(num ,cube))\n",
    "thread1 = threading.Thread(target=square)\n",
    "thread2 = threading.Thread(target=cube)\n",
    "thread1.start()\n",
    "thread2.start()"
   ]
  },
  {
   "cell_type": "code",
   "execution_count": null,
   "id": "e6767f28",
   "metadata": {},
   "outputs": [],
   "source": [
    " Q.5.State advantages and disadvantages of multithreading."
   ]
  },
  {
   "cell_type": "markdown",
   "id": "a2a8191a",
   "metadata": {},
   "source": [
    "Advantages:\n",
    "1.Improved Performance: Multithreading allows for concurrent execution of multiple tasks, which can lead to improved performance and increased efficiency.\n",
    "2.Responsiveness: Multithreading enables the creation of responsive applications by allowing tasks to be executed in the background while the main thread remains responsive. This is particularly beneficial in user interfaces, where responsiveness is crucial for a smooth user experience.\n",
    "3.Resource Sharing: Threads within a process can share the same memory space, allowing for efficient communication and sharing of data between threads. "
   ]
  },
  {
   "cell_type": "markdown",
   "id": "58744207",
   "metadata": {},
   "source": [
    "Disadvantages:\n",
    "1.Complexity: Multithreaded programming introduces complexity due to the need for synchronization and coordination between threads.\n",
    "    2.Difficult Debugging: Debugging multithreaded applications can be more complex than debugging single-threaded applications.\n",
    "        3.Increased Memory Usage: Each thread requires its own stack and resources, which can result in increased memory usage compared to a single-threaded application. If not managed properly, excessive thread creation can consume significant system resources."
   ]
  },
  {
   "cell_type": "markdown",
   "id": "9fccb3c2",
   "metadata": {},
   "source": [
    "Q.6. Explain deadlocks and race conditions."
   ]
  },
  {
   "cell_type": "markdown",
   "id": "081647fb",
   "metadata": {},
   "source": [
    "Deadlock:\n",
    "A deadlock refers to a situation where two or more threads or processes are unable to proceed because each is waiting for a resource that another thread holds. This can result in a circular waiting scenario, leading to a standstill and preventing further progress."
   ]
  },
  {
   "cell_type": "markdown",
   "id": "938fbd72",
   "metadata": {},
   "source": [
    "Race Condition:\n",
    "A race condition occurs when multiple threads access shared data concurrently, and the final result depends on the execution order of the threads. It leads to unpredictable and unintended behavior as threads may overwrite each other's changes, read inconsistent data, or cause data corruption."
   ]
  },
  {
   "cell_type": "code",
   "execution_count": null,
   "id": "2689ae44",
   "metadata": {},
   "outputs": [],
   "source": []
  }
 ],
 "metadata": {
  "kernelspec": {
   "display_name": "Python 3 (ipykernel)",
   "language": "python",
   "name": "python3"
  },
  "language_info": {
   "codemirror_mode": {
    "name": "ipython",
    "version": 3
   },
   "file_extension": ".py",
   "mimetype": "text/x-python",
   "name": "python",
   "nbconvert_exporter": "python",
   "pygments_lexer": "ipython3",
   "version": "3.9.13"
  }
 },
 "nbformat": 4,
 "nbformat_minor": 5
}

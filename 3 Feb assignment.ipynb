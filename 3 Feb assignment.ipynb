{
 "cells": [
  {
   "cell_type": "markdown",
   "id": "f1834f31-fab4-49e2-8861-cd7ddad99645",
   "metadata": {},
   "source": [
    "Q1. Which keyword is used to create a function? Create a function to return a list of odd numbers in the \n",
    "range of 1 to 25"
   ]
  },
  {
   "cell_type": "markdown",
   "id": "8bce0887-fda7-47d4-8e60-c0ad0db03f28",
   "metadata": {},
   "source": [
    "\"def\" is a keyword which we use to create function."
   ]
  },
  {
   "cell_type": "code",
   "execution_count": 1,
   "id": "c2df9708-c748-4d2a-bf58-91833b23b6de",
   "metadata": {},
   "outputs": [
    {
     "name": "stdout",
     "output_type": "stream",
     "text": [
      "[1, 3, 5, 7, 9, 11, 13, 15, 17, 19, 21, 23, 25]\n"
     ]
    }
   ],
   "source": [
    "def odd_numbers_are():\n",
    "    odd_numbers = []\n",
    "    for i in range(1, 26):\n",
    "        if i % 2 != 0:\n",
    "            odd_numbers.append(i)\n",
    "    return odd_numbers\n",
    "print(odd_numbers_are())\n"
   ]
  },
  {
   "cell_type": "code",
   "execution_count": 2,
   "id": "59b8874f-a051-4adb-91c5-adddc057c2fb",
   "metadata": {},
   "outputs": [
    {
     "data": {
      "text/plain": [
       "[1, 3, 5, 7, 9, 11, 13, 15, 17, 19, 21, 23, 25]"
      ]
     },
     "execution_count": 2,
     "metadata": {},
     "output_type": "execute_result"
    }
   ],
   "source": [
    "odd_numbers_are()\n"
   ]
  },
  {
   "cell_type": "markdown",
   "id": "6984af31-d94d-4e70-96a8-ee67f44e5c7f",
   "metadata": {},
   "source": [
    "Q2. Why *args and **kwargs is used in some functions? Create a function each for *args and **kwargs \n",
    "to demonstrate their use."
   ]
  },
  {
   "cell_type": "markdown",
   "id": "ce4323f5-252e-488a-a682-67ea79525245",
   "metadata": {},
   "source": [
    "The *args are the syntax that allows a function to accept any number of arguments and they are collected in the form of tuples.This are non key values."
   ]
  },
  {
   "cell_type": "code",
   "execution_count": 3,
   "id": "9ff642a1-7c09-48d1-bce9-39a02dbd3b4c",
   "metadata": {},
   "outputs": [
    {
     "name": "stdout",
     "output_type": "stream",
     "text": [
      "10\n"
     ]
    }
   ],
   "source": [
    "def sum_all(*args):\n",
    "    total = 0\n",
    "    for i in args:\n",
    "        total += i\n",
    "    return total\n",
    "\n",
    "print(sum_all(1, 2, 3,4))  \n"
   ]
  },
  {
   "cell_type": "markdown",
   "id": "b1946c2d-f495-4f36-9a92-2b9fcb67a41e",
   "metadata": {},
   "source": [
    "The **kwargs are the syntax that allows a function to accept any number of arguments and they are collected in the form of dictionary.This are key values."
   ]
  },
  {
   "cell_type": "code",
   "execution_count": 4,
   "id": "ac32c1f4-a63c-4586-86e8-6f4b12187c84",
   "metadata": {},
   "outputs": [
    {
     "name": "stdout",
     "output_type": "stream",
     "text": [
      "name : Krish\n",
      "age : 23\n",
      "DOB : 27/08/1999\n"
     ]
    }
   ],
   "source": [
    "def print_kwargs(**kwargs):\n",
    "    for key, value in kwargs.items():\n",
    "        print(key, \":\", value)\n",
    "\n",
    "print_kwargs(name=\"Krish\", age=23,DOB=\"27/08/1999\")  \n",
    "\n"
   ]
  },
  {
   "cell_type": "markdown",
   "id": "973772d0-a741-4ef1-a372-7ec8b8702561",
   "metadata": {},
   "source": [
    "Q3. What is an iterator in python? Name the method used to initialise the iterator object and the method\n",
    "used for iteration. Use these methods to print the first five elements of the given list [2, 4, 6, 8, 10, 12, 14,16, 18, 20]."
   ]
  },
  {
   "cell_type": "markdown",
   "id": "61c3f58f-0ac3-4826-9003-50943dc6ef71",
   "metadata": {},
   "source": [
    "Itetator is a object in python which can be iterated.It is used to get next value which is present in the sequence.\n",
    "Two method used for iterator in python are\n",
    "1.iter- This method is used to initialize the iterator object\n",
    "2.next- This method is used for iteration. It returns the next item in the sequence.\n"
   ]
  },
  {
   "cell_type": "code",
   "execution_count": 5,
   "id": "b0b94a0a-62a4-4470-a4f4-cb638e7a8554",
   "metadata": {},
   "outputs": [
    {
     "name": "stdout",
     "output_type": "stream",
     "text": [
      "2\n",
      "4\n",
      "6\n",
      "8\n",
      "10\n"
     ]
    }
   ],
   "source": [
    "lst = [2, 4, 6, 8, 10, 12, 14, 16, 18, 20]\n",
    "\n",
    "it = iter(lst)\n",
    "\n",
    "for i in range(5):\n",
    "    print(next(it))\n"
   ]
  },
  {
   "cell_type": "markdown",
   "id": "1392c083-63fe-4a48-9bb7-8e3117598cd9",
   "metadata": {},
   "source": [
    "Q4. What is a generator function in python? Why yield keyword is used? Give an example of a generator function."
   ]
  },
  {
   "cell_type": "markdown",
   "id": "da847774-47e2-4d29-a013-3cc2331c83b6",
   "metadata": {},
   "source": [
    "Generator is a special type of function in python which returns an iterator.Normal function work and gives you value but in case of generator it allowas you to give sequence of value over time.\n",
    "Yield keyword is used in generator function to return the value one by one and one at a time after that it pause the function till the point it gets next value."
   ]
  },
  {
   "cell_type": "code",
   "execution_count": 6,
   "id": "4128519d-e811-455a-948c-6a890e4c7ba2",
   "metadata": {},
   "outputs": [
    {
     "name": "stdout",
     "output_type": "stream",
     "text": [
      "1\n",
      "3\n",
      "5\n",
      "7\n",
      "9\n",
      "11\n",
      "13\n",
      "15\n",
      "17\n",
      "19\n"
     ]
    }
   ],
   "source": [
    "def generate_odd_numbers(n):\n",
    "    odd_numbers = []\n",
    "    for i in range(n):\n",
    "        if i % 2 != 0:\n",
    "            yield i\n",
    "\n",
    "for i in generate_odd_numbers(20):\n",
    "    print(i)"
   ]
  },
  {
   "cell_type": "markdown",
   "id": "9a816405-28ee-4e26-b8c2-21958c745924",
   "metadata": {},
   "source": [
    "Q5.Create a generator function for prime numbers less than 1000. Use the next() method to print the \n",
    "first 20 prime numbers."
   ]
  },
  {
   "cell_type": "code",
   "execution_count": 13,
   "id": "92283dbb-ea0c-453a-a0df-f6e32ff61471",
   "metadata": {},
   "outputs": [
    {
     "name": "stdout",
     "output_type": "stream",
     "text": [
      "2\n",
      "3\n",
      "5\n",
      "7\n",
      "11\n",
      "13\n",
      "17\n",
      "19\n",
      "23\n",
      "29\n",
      "31\n",
      "37\n",
      "41\n",
      "43\n",
      "47\n",
      "53\n",
      "59\n",
      "61\n",
      "67\n",
      "71\n"
     ]
    }
   ],
   "source": [
    "def primes():\n",
    "    num = 2\n",
    "    while num < 1000:\n",
    "        for i in range(2, num):\n",
    "            if num % i == 0:\n",
    "                break\n",
    "        else:\n",
    "            yield num\n",
    "        num += 1\n",
    "primes_generator = primes()\n",
    "for i in range(20):\n",
    "    print(next(primes_generator))"
   ]
  },
  {
   "cell_type": "markdown",
   "id": "e81f59bd-a8be-4373-a9aa-458ee176ed11",
   "metadata": {},
   "source": [
    "Q6. Write a python program to print the first 10 Fibonacci numbers using a while loop."
   ]
  },
  {
   "cell_type": "code",
   "execution_count": 11,
   "id": "0c8045a2-c3bc-4d1b-bd2d-a6739386f6e8",
   "metadata": {},
   "outputs": [
    {
     "name": "stdin",
     "output_type": "stream",
     "text": [
      "Enter your number 10\n"
     ]
    },
    {
     "name": "stdout",
     "output_type": "stream",
     "text": [
      "0\n",
      "1\n",
      "1\n",
      "2\n",
      "3\n",
      "5\n",
      "8\n",
      "13\n",
      "21\n",
      "34\n"
     ]
    }
   ],
   "source": [
    "num = int(input(\"Enter your number\"))\n",
    "a,b = 0,1\n",
    "counter =0\n",
    "while counter < num:\n",
    "    print(a)\n",
    "    c = a+ b\n",
    "    a = b\n",
    "    b=c\n",
    "    counter = counter+1"
   ]
  },
  {
   "cell_type": "markdown",
   "id": "255bcf3c-64d1-49cb-af21-a02f18fd9d53",
   "metadata": {},
   "source": [
    "Q7. Write a List Comprehension to iterate through the given string: ‘pwskills’.\n",
    "\n",
    "Expected output: ['p', 'w', 's', 'k', 'i', 'l', 'l', 's'] "
   ]
  },
  {
   "cell_type": "code",
   "execution_count": 10,
   "id": "88ba0caf-ab82-4ffd-9f58-e2e3d3c96426",
   "metadata": {},
   "outputs": [
    {
     "name": "stdout",
     "output_type": "stream",
     "text": [
      "['p', 'w', 's', 'k', 'i', 'l', 'l', 's']\n"
     ]
    }
   ],
   "source": [
    "s = list(\"pwskills\")\n",
    "l = [i for i in s]\n",
    "print(l)"
   ]
  },
  {
   "cell_type": "markdown",
   "id": "b4a679bd-8249-49c9-82b9-4561b07faa88",
   "metadata": {},
   "source": [
    "Q8. Write a python program to check whether a given number is Palindrome or not using a while loop."
   ]
  },
  {
   "cell_type": "code",
   "execution_count": 9,
   "id": "b9697f4b-303d-498d-8150-9ba41a729480",
   "metadata": {},
   "outputs": [
    {
     "name": "stdin",
     "output_type": "stream",
     "text": [
      "Enter number: 343\n"
     ]
    },
    {
     "name": "stdout",
     "output_type": "stream",
     "text": [
      "This is palindrome number\n"
     ]
    }
   ],
   "source": [
    "i = int(input(\"Enter number:\"))\n",
    "rev = 0\n",
    "x = i\n",
    "while (i>0):\n",
    "    rev = (rev*10)+ (i % 10)\n",
    "    i = i // 10\n",
    "if (x == rev):\n",
    "    print(\"This is palindrome number\")\n",
    "else :\n",
    "    print (\"This is not palindrome number\")"
   ]
  },
  {
   "cell_type": "markdown",
   "id": "033a325a-22e2-4e39-baac-01a7e2aaf7ba",
   "metadata": {},
   "source": [
    "Q9. Write a code to print odd numbers from 1 to 100 using list comprehension."
   ]
  },
  {
   "cell_type": "code",
   "execution_count": 12,
   "id": "34f8515b-b3c9-4d80-969d-bf9fda1360ab",
   "metadata": {},
   "outputs": [
    {
     "name": "stdout",
     "output_type": "stream",
     "text": [
      "[1, 3, 5, 7, 9, 11, 13, 15, 17, 19, 21, 23, 25, 27, 29, 31, 33, 35, 37, 39, 41, 43, 45, 47, 49, 51, 53, 55, 57, 59, 61, 63, 65, 67, 69, 71, 73, 75, 77, 79, 81, 83, 85, 87, 89, 91, 93, 95, 97, 99]\n"
     ]
    }
   ],
   "source": [
    "odd_numbers = [i for i in range(1, 101) if i % 2 != 0]\n",
    "print(odd_numbers)"
   ]
  }
 ],
 "metadata": {
  "kernelspec": {
   "display_name": "Python 3 (ipykernel)",
   "language": "python",
   "name": "python3"
  },
  "language_info": {
   "codemirror_mode": {
    "name": "ipython",
    "version": 3
   },
   "file_extension": ".py",
   "mimetype": "text/x-python",
   "name": "python",
   "nbconvert_exporter": "python",
   "pygments_lexer": "ipython3",
   "version": "3.10.8"
  }
 },
 "nbformat": 4,
 "nbformat_minor": 5
}

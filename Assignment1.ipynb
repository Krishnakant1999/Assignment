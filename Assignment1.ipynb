{
 "cells": [
  {
   "cell_type": "markdown",
   "id": "55985a4c-a376-4f75-9fdf-17bce4b25ffc",
   "metadata": {},
   "source": [
    "Q1.  Explain with an example each when to use a for loop and a while loop."
   ]
  },
  {
   "cell_type": "markdown",
   "id": "d98c7eae-92d4-4b27-9895-132f824e93be",
   "metadata": {},
   "source": [
    "We have to use for loop when we know that we have to execute loop multiple times.With the help of for loop we can make sure that code has run multiple times.For loop is used when number of iteration is known."
   ]
  },
  {
   "cell_type": "code",
   "execution_count": 1,
   "id": "d80651c6-d0cd-4275-8b6c-f8b510134c23",
   "metadata": {},
   "outputs": [],
   "source": [
    "l = [2,3,4,5,6,7.34,86]"
   ]
  },
  {
   "cell_type": "code",
   "execution_count": 3,
   "id": "1afef74e-856e-4688-889e-76714581a29b",
   "metadata": {},
   "outputs": [
    {
     "name": "stdout",
     "output_type": "stream",
     "text": [
      "3\n",
      "4\n",
      "5\n",
      "6\n",
      "7\n",
      "8.34\n",
      "87\n"
     ]
    }
   ],
   "source": [
    "for i in l:\n",
    "    print(i+1)"
   ]
  },
  {
   "cell_type": "markdown",
   "id": "c4276ea4-aa82-4f2a-b6c9-5dd62aacd76e",
   "metadata": {},
   "source": [
    "We have to use while loop until statement in programm is proved wrong.\n",
    "we can use while loop when we want to ask for user input.We use while loop when we want to put limit before executing the code."
   ]
  },
  {
   "cell_type": "code",
   "execution_count": 5,
   "id": "ea7e9bda-c2d8-4ff1-9502-eb4219c57810",
   "metadata": {},
   "outputs": [
    {
     "name": "stdout",
     "output_type": "stream",
     "text": [
      "1\n",
      "2\n",
      "3\n",
      "4\n",
      "5\n",
      "6\n"
     ]
    }
   ],
   "source": [
    "i = 1\n",
    "while i < 7:\n",
    "  print(i)\n",
    "  i += 1"
   ]
  },
  {
   "cell_type": "markdown",
   "id": "179c5460-d59c-4f6c-b856-fdd3011b8e2d",
   "metadata": {},
   "source": [
    "Q2.  Write a python program to print the sum and product of the first 10 natural numbers using for \n",
    "and while loop."
   ]
  },
  {
   "cell_type": "code",
   "execution_count": 48,
   "id": "3e425ea3-60af-4d37-a5ec-f4d9f524b316",
   "metadata": {},
   "outputs": [
    {
     "name": "stdout",
     "output_type": "stream",
     "text": [
      "The sum is 55\n"
     ]
    }
   ],
   "source": [
    "number= list(range(0,11))\n",
    "sum = 0\n",
    "for i in number:\n",
    "    sum  = sum+ i\n",
    "print(\"The sum is\",sum)    \n"
   ]
  },
  {
   "cell_type": "code",
   "execution_count": 50,
   "id": "7fe036b9-c627-46a4-b926-b675f4d2e7f0",
   "metadata": {},
   "outputs": [
    {
     "name": "stdin",
     "output_type": "stream",
     "text": [
      "Enter your limit 10\n"
     ]
    },
    {
     "name": "stdout",
     "output_type": "stream",
     "text": [
      "The sum is 55\n"
     ]
    }
   ],
   "source": [
    "n = int(input(\"Enter your limit\"))\n",
    "sum = 0\n",
    "counter = 1\n",
    "while counter <= n:\n",
    "        sum = sum + counter\n",
    "        counter = counter + 1\n",
    "print(\"The sum is\",sum) "
   ]
  },
  {
   "cell_type": "markdown",
   "id": "c28ab67e-128a-4a8b-9bd1-a60176c831da",
   "metadata": {},
   "source": [
    "Q3. Create a python program to compute the electricity bill for a household.\n",
    "The per-unit charges in rupees are as follows: For the first 100 units, the user will be charged Rs. 4.5 per \n",
    "unit, for the next 100 units, the user will be charged Rs. 6 per unit, and for the next 100 units, the user will \n",
    "be charged Rs. 10 per unit, After 300 units and above the user will be charged Rs. 20 per unit.\n",
    "\n",
    "\n",
    "You are required to take the units of electricity consumed in a month from the user as input.\n",
    "\n",
    "\n",
    "Your program must pass this test case: when the unit of electricity consumed by the user in a month is \n",
    "310, the total electricity bill should be 2250"
   ]
  },
  {
   "cell_type": "code",
   "execution_count": 1,
   "id": "14042e63-3997-40fe-a809-35f43630e11d",
   "metadata": {},
   "outputs": [
    {
     "name": "stdin",
     "output_type": "stream",
     "text": [
      "Enter units of electricity consumed:  310\n"
     ]
    },
    {
     "name": "stdout",
     "output_type": "stream",
     "text": [
      "Total Electricity Bill 2250.0\n"
     ]
    }
   ],
   "source": [
    "units_consumed = int(input(\"Enter units of electricity consumed: \"))\n",
    "\n",
    "if units_consumed <= 100:\n",
    "    total_bill = units_consumed * 4.5\n",
    "elif units_consumed <= 200:\n",
    "    total_bill = 100 * 4.5 + (units_consumed - 100) * 6\n",
    "elif units_consumed <= 300:\n",
    "    total_bill = 100 * 4.5 + 100 * 6 + (units_consumed - 200) * 10\n",
    "else:\n",
    "    total_bill = 100 * 4.5 + 100 * 6 + 100 * 10 + (units_consumed - 300) * 20\n",
    "\n",
    "print(\"Total Electricity Bill\",total_bill)\n"
   ]
  },
  {
   "cell_type": "markdown",
   "id": "2c72422b-2032-481c-983f-b5da70fb5df9",
   "metadata": {},
   "source": [
    "Q4. Create a list of numbers from 1 to 100. Use for loop and while loop to calculate the cube of each \n",
    "number and if the cube of that number is divisible by 4 or 5 then append that number in a list and print \n",
    "that list."
   ]
  },
  {
   "cell_type": "code",
   "execution_count": 2,
   "id": "0f5c1f69-a468-4c8a-9545-fba3030a6b3a",
   "metadata": {},
   "outputs": [
    {
     "name": "stdout",
     "output_type": "stream",
     "text": [
      "[2, 4, 5, 6, 8, 10, 12, 14, 15, 16, 18, 20, 22, 24, 25, 26, 28, 30, 32, 34, 35, 36, 38, 40, 42, 44, 45, 46, 48, 50, 52, 54, 55, 56, 58, 60, 62, 64, 65, 66, 68, 70, 72, 74, 75, 76, 78, 80, 82, 84, 85, 86, 88, 90, 92, 94, 95, 96, 98, 100]\n"
     ]
    }
   ],
   "source": [
    "numbers = list(range(1, 101))\n",
    "divisible_by_4_or_5 = []\n",
    "\n",
    "for i in numbers:\n",
    "    cube = i ** 3\n",
    "    if cube % 4 == 0 or cube % 5 == 0:\n",
    "        divisible_by_4_or_5.append(i)\n",
    "\n",
    "print(divisible_by_4_or_5)\n"
   ]
  },
  {
   "cell_type": "code",
   "execution_count": 3,
   "id": "7c52666e-b032-4fcf-b7a8-06b2464c13d1",
   "metadata": {},
   "outputs": [
    {
     "name": "stdout",
     "output_type": "stream",
     "text": [
      "[2, 4, 5, 6, 8, 10, 12, 14, 15, 16, 18, 20, 22, 24, 25, 26, 28, 30, 32, 34, 35, 36, 38, 40, 42, 44, 45, 46, 48, 50, 52, 54, 55, 56, 58, 60, 62, 64, 65, 66, 68, 70, 72, 74, 75, 76, 78, 80, 82, 84, 85, 86, 88, 90, 92, 94, 95, 96, 98, 100]\n"
     ]
    }
   ],
   "source": [
    "numbers = list(range(1, 101))\n",
    "divisible_by_4_or_5 = []\n",
    "i = 0\n",
    "\n",
    "while i < len(numbers):\n",
    "    cube = numbers[i] ** 3\n",
    "    if cube % 4 == 0 or cube % 5 == 0:\n",
    "        divisible_by_4_or_5.append(numbers[i])\n",
    "    i += 1\n",
    "\n",
    "print(divisible_by_4_or_5)\n"
   ]
  },
  {
   "cell_type": "markdown",
   "id": "5e78136d-a388-4ea1-b6a8-a8661516d578",
   "metadata": {},
   "source": [
    "Q.5)Write a program to filter count vowels in the below-given string.\n",
    "\n",
    "string = \"I want to become a data scientist\""
   ]
  },
  {
   "cell_type": "code",
   "execution_count": 7,
   "id": "0076c12e-d31f-4516-9973-7a12b1ec864e",
   "metadata": {},
   "outputs": [
    {
     "name": "stdout",
     "output_type": "stream",
     "text": [
      "Number of vowels present in the string are 12\n"
     ]
    }
   ],
   "source": [
    "string = \"I want to become a data scientist\"\n",
    "vowels = 'aeiou'\n",
    "count = 0 \n",
    "\n",
    "for char in string:\n",
    "    if char.lower() in vowels:\n",
    "        count += 1\n",
    "\n",
    "print(\"Number of vowels present in the string are\", count)\n"
   ]
  },
  {
   "cell_type": "code",
   "execution_count": null,
   "id": "d26ca66a-005f-4901-a65f-210ba30b21a8",
   "metadata": {},
   "outputs": [],
   "source": []
  }
 ],
 "metadata": {
  "kernelspec": {
   "display_name": "Python 3 (ipykernel)",
   "language": "python",
   "name": "python3"
  },
  "language_info": {
   "codemirror_mode": {
    "name": "ipython",
    "version": 3
   },
   "file_extension": ".py",
   "mimetype": "text/x-python",
   "name": "python",
   "nbconvert_exporter": "python",
   "pygments_lexer": "ipython3",
   "version": "3.10.8"
  }
 },
 "nbformat": 4,
 "nbformat_minor": 5
}

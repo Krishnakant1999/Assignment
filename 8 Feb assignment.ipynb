{
 "cells": [
  {
   "cell_type": "markdown",
   "id": "94e1c687",
   "metadata": {},
   "source": [
    "Q1. What is Abstraction in OOps? Explain with an example"
   ]
  },
  {
   "cell_type": "markdown",
   "id": "af7f5a29",
   "metadata": {},
   "source": [
    "An abstract class can be considered as a blueprint for other classes. It allows you to create a set of methods that must be created within any child classes built from the abstract class. A class which contains one or more abstract methods is called an abstract class. \n",
    "An abstract method is a method that has a declaration but does not have an implementation.  "
   ]
  },
  {
   "cell_type": "code",
   "execution_count": 6,
   "id": "4889ad62",
   "metadata": {},
   "outputs": [
    {
     "name": "stdout",
     "output_type": "stream",
     "text": [
      "I have 3 sides\n",
      "I have 4 sides\n",
      "I have 5 sides\n",
      "I have 6 sides\n"
     ]
    }
   ],
   "source": [
    "from abc import ABC, abstractmethod\n",
    "\n",
    "class Polygon(ABC):\n",
    "\n",
    "\t@abstractmethod\n",
    "\tdef noofsides(self):\n",
    "\t\tpass\n",
    "\n",
    "class Triangle(Polygon):\n",
    "\n",
    "\t# overriding abstract method\n",
    "\tdef noofsides(self):\n",
    "\t\tprint(\"I have 3 sides\")\n",
    "\n",
    "class Pentagon(Polygon):\n",
    "\n",
    "\t# overriding abstract method\n",
    "\tdef noofsides(self):\n",
    "\t\tprint(\"I have 5 sides\")\n",
    "\n",
    "class Hexagon(Polygon):\n",
    "\n",
    "\t# overriding abstract method\n",
    "\tdef noofsides(self):\n",
    "\t\tprint(\"I have 6 sides\")\n",
    "\n",
    "class Quadrilateral(Polygon):\n",
    "\n",
    "    # overriding abstract method\n",
    "\tdef noofsides(self):\n",
    "\t\tprint(\"I have 4 sides\")\n",
    "\n",
    "# Driver code\n",
    "R = Triangle()\n",
    "R.noofsides()\n",
    "\n",
    "K = Quadrilateral()\n",
    "K.noofsides()\n",
    "\n",
    "R = Pentagon()\n",
    "R.noofsides()\n",
    "\n",
    "K = Hexagon()\n",
    "K.noofsides()\n"
   ]
  },
  {
   "cell_type": "markdown",
   "id": "c0bb0030",
   "metadata": {},
   "source": [
    "Q.2 Differentiate between Abstraction and Encapsulation. Explain with an example"
   ]
  },
  {
   "cell_type": "markdown",
   "id": "dd268854",
   "metadata": {},
   "source": [
    "Abstraction is mothod in which we remove unncessary details in the code and focus on relevent part.\n",
    "ex. for multiply two number everytime we dont need to write code to multiply we can simply use the multiply function.so in this way if we work we dont need to write the multiplication code every time and we can remove unnecessay details in the code.\n",
    "Abstraction is a design level process and it is used to reduce the complexity at the designing stage of a project."
   ]
  },
  {
   "cell_type": "markdown",
   "id": "b098b007",
   "metadata": {},
   "source": [
    "Encapsulastion is a way of hiding complexicity of something and exposing only the parts you wish to expose.The class contains the data and it has mthods that expose the data.\n",
    "for example if in our class we have one or more data in private fields that you use to store the data then you are in encapsulation.\n",
    "Encapsulation is an implementation level process, and it is used to provide privacy and maintain control over the transparency of data at the implementation stage of a project."
   ]
  },
  {
   "cell_type": "markdown",
   "id": "34e9e5e8",
   "metadata": {},
   "source": [
    "Q.3 What is abc module in python? Why is it used?"
   ]
  },
  {
   "cell_type": "markdown",
   "id": "15e7fd41",
   "metadata": {},
   "source": [
    "By default python dont provide abstract classes , the abc module in python library provides the infrastructure for defining custom abstract base classes.\n",
    "Abstract class cannot be instantiated in python it can be called by its subclasses."
   ]
  },
  {
   "cell_type": "markdown",
   "id": "69f45480",
   "metadata": {},
   "source": [
    "Q.4 How can we achieve data abstraction?"
   ]
  },
  {
   "cell_type": "markdown",
   "id": "e69516ae",
   "metadata": {},
   "source": [
    "An abstract method is a method that is declared, but does not contain implementation. An abstract method in a base class identifies the functionality that should be implemented by all its subclasses. However, since the implementation of an abstract method would differ from one subclass to another, often the method body comprises just a pass statement. Every subclass of the base class will ride this method with its implementation. A class containing abstract methods is called abstract class.Python provides the abc module to use the abstraction in the Python program.\n",
    " In Python, abstraction can be achieved by having/using abstract classes and methods in our programs."
   ]
  },
  {
   "cell_type": "markdown",
   "id": "795fed5a",
   "metadata": {},
   "source": [
    "Q5. Can we create an instance of an abstract class? Explain your answer."
   ]
  },
  {
   "cell_type": "markdown",
   "id": "68ab71fa",
   "metadata": {},
   "source": [
    "Abstract classes cannot be instantiated, but they can be subclassed. When an abstract class is subclassed, the subclass usually provides implementations for all of the abstract methods in its parent class. However, if it does not, then the subclass must also be declared abstract ."
   ]
  }
 ],
 "metadata": {
  "kernelspec": {
   "display_name": "Python 3 (ipykernel)",
   "language": "python",
   "name": "python3"
  },
  "language_info": {
   "codemirror_mode": {
    "name": "ipython",
    "version": 3
   },
   "file_extension": ".py",
   "mimetype": "text/x-python",
   "name": "python",
   "nbconvert_exporter": "python",
   "pygments_lexer": "ipython3",
   "version": "3.9.13"
  }
 },
 "nbformat": 4,
 "nbformat_minor": 5
}

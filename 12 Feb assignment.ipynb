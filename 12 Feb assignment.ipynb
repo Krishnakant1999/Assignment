{
 "cells": [
  {
   "cell_type": "markdown",
   "id": "c8e1d992",
   "metadata": {},
   "source": [
    "Q.1.What is an exception in python ? write the difference between exceptions and syntex errors?"
   ]
  },
  {
   "cell_type": "markdown",
   "id": "954c647b",
   "metadata": {},
   "source": [
    "an exception is an error that occurs during the execution of a program. When a Python script encounters an exceptional condition or an error, it raises an exception. Exceptions provide a way to handle and manage errors or exceptional situations gracefully, rather than letting the program terminate abruptly.\n",
    "Syntax errors are detected by the Python interpreter during the parsing phase, before the code is executed. They indicate that the code is not written in a valid Python syntax. Exceptions, on the other hand, occur during the execution phase and are raised when the code encounters an exceptional condition."
   ]
  },
  {
   "cell_type": "markdown",
   "id": "82385cfe",
   "metadata": {},
   "source": [
    "Q.2.What happens when exception is  not handled ?Explain with an example"
   ]
  },
  {
   "cell_type": "markdown",
   "id": "19004f9f",
   "metadata": {},
   "source": [
    "When an exception is not handled in Python, it results in the termination of the program and an error message is displayed to the user. "
   ]
  },
  {
   "cell_type": "code",
   "execution_count": 1,
   "id": "fdb0c305",
   "metadata": {},
   "outputs": [
    {
     "ename": "ZeroDivisionError",
     "evalue": "division by zero",
     "output_type": "error",
     "traceback": [
      "\u001b[1;31m---------------------------------------------------------------------------\u001b[0m",
      "\u001b[1;31mZeroDivisionError\u001b[0m                         Traceback (most recent call last)",
      "\u001b[1;32m~\\AppData\\Local\\Temp\\ipykernel_15452\\1661108437.py\u001b[0m in \u001b[0;36m<module>\u001b[1;34m\u001b[0m\n\u001b[0;32m      1\u001b[0m \u001b[0ma\u001b[0m \u001b[1;33m=\u001b[0m \u001b[1;36m10\u001b[0m\u001b[1;33m\u001b[0m\u001b[1;33m\u001b[0m\u001b[0m\n\u001b[1;32m----> 2\u001b[1;33m \u001b[0ma\u001b[0m\u001b[1;33m/\u001b[0m\u001b[1;36m0\u001b[0m\u001b[1;33m\u001b[0m\u001b[1;33m\u001b[0m\u001b[0m\n\u001b[0m\u001b[0;32m      3\u001b[0m \u001b[0mprint\u001b[0m\u001b[1;33m(\u001b[0m\u001b[1;34m\"Reached till this point\"\u001b[0m\u001b[1;33m)\u001b[0m\u001b[1;33m\u001b[0m\u001b[1;33m\u001b[0m\u001b[0m\n",
      "\u001b[1;31mZeroDivisionError\u001b[0m: division by zero"
     ]
    }
   ],
   "source": [
    "a = 10\n",
    "a/0\n",
    "print(\"Reached till this point\")"
   ]
  },
  {
   "cell_type": "code",
   "execution_count": 7,
   "id": "8315f6c0",
   "metadata": {},
   "outputs": [
    {
     "name": "stdout",
     "output_type": "stream",
     "text": [
      "No error has occured division by zero\n"
     ]
    }
   ],
   "source": [
    "try:\n",
    "    a = 10\n",
    "    a/0\n",
    "except Exception as e:\n",
    "    print(\"No error has occured\" , e)"
   ]
  },
  {
   "cell_type": "markdown",
   "id": "5d50daf8",
   "metadata": {},
   "source": [
    "Without exception it is not reaching till next step and with exception programm is not stopping executing and it is completing the whole code."
   ]
  },
  {
   "cell_type": "markdown",
   "id": "d9872b70",
   "metadata": {},
   "source": [
    "Q.3.Whcih python statements are used to catch and handle exceptions ? Explain with an example"
   ]
  },
  {
   "cell_type": "markdown",
   "id": "3ccc48c3",
   "metadata": {},
   "source": [
    "you can use the try and except statements to catch and handle exceptions. The try block is used to enclose the code that may raise an exception, while the except block is used to handle the exception if it occurs."
   ]
  },
  {
   "cell_type": "code",
   "execution_count": 18,
   "id": "469b49ee",
   "metadata": {},
   "outputs": [
    {
     "name": "stdout",
     "output_type": "stream",
     "text": [
      "I have passed error\n"
     ]
    }
   ],
   "source": [
    "try:\n",
    "    f = open (\"tssst.txt\" , 'r')\n",
    "    f.read()\n",
    "except  :\n",
    "    print(\"I have passed error\"  )"
   ]
  },
  {
   "cell_type": "markdown",
   "id": "dba777ba",
   "metadata": {},
   "source": [
    "By using try and except statements, you can handle specific exceptions or provide a general error handling mechanism to prevent your program from crashing and provide meaningful feedback to the user."
   ]
  },
  {
   "cell_type": "markdown",
   "id": "739e149d",
   "metadata": {},
   "source": [
    "Explain with an example :\n",
    "    1. try and else"
   ]
  },
  {
   "cell_type": "markdown",
   "id": "9108ad6d",
   "metadata": {},
   "source": [
    "In Python, you can use the try, except, and else statements together to handle exceptions and execute additional code when no exceptions occur. The else block is optional and is executed only if no exceptions are raised in the try block."
   ]
  },
  {
   "cell_type": "markdown",
   "id": "8e5ab990",
   "metadata": {},
   "source": [
    "the try block contains the code that may raise exceptions, similar to the previous example. If any exceptions occur within the try block, the corresponding except block is executed.\n",
    "\n",
    "However, if no exceptions are raised in the try block, the else block is executed. In this example, if the user enters valid numbers and the division is successful, the code in the else block will be executed. It prints the result of the division and a message indicating that no exceptions occurred."
   ]
  },
  {
   "cell_type": "code",
   "execution_count": 19,
   "id": "74ed0560",
   "metadata": {},
   "outputs": [
    {
     "name": "stdout",
     "output_type": "stream",
     "text": [
      "Enter a number: 23\n",
      "Enter another number: 34\n",
      "Result: 0.6764705882352942\n",
      "No exceptions occurred.\n"
     ]
    }
   ],
   "source": [
    "try:\n",
    "    num1 = int(input(\"Enter a number: \"))\n",
    "    num2 = int(input(\"Enter another number: \"))\n",
    "    result = num1 / num2\n",
    "\n",
    "except ValueError:\n",
    "    print(\"Invalid input. Please enter a valid integer.\")\n",
    "\n",
    "except ZeroDivisionError:\n",
    "    print(\"Error: Cannot divide by zero.\")\n",
    "\n",
    "except Exception as e:\n",
    "    print(\"An error occurred:\", str(e))\n",
    "\n",
    "else:\n",
    "    print(\"Result:\", result)\n",
    "    print(\"No exceptions occurred.\")\n"
   ]
  },
  {
   "cell_type": "markdown",
   "id": "9a533984",
   "metadata": {},
   "source": [
    "2.finally"
   ]
  },
  {
   "cell_type": "markdown",
   "id": "28949c4c",
   "metadata": {},
   "source": [
    "the finally block is used in conjunction with the try and except blocks to define a piece of code that will be executed regardless of whether an exception occurs or not. "
   ]
  },
  {
   "cell_type": "code",
   "execution_count": 3,
   "id": "4cc4699e",
   "metadata": {},
   "outputs": [
    {
     "name": "stdout",
     "output_type": "stream",
     "text": [
      "File not found.\n",
      "File closed.\n"
     ]
    }
   ],
   "source": [
    "try:\n",
    "    file = open(\"examplewewe.txt\", \"r\")\n",
    "    content = file.read()\n",
    "    print(content)\n",
    "\n",
    "except FileNotFoundError:\n",
    "    print(\"File not found.\")\n",
    "\n",
    "finally:\n",
    "    print(\"File closed.\")\n"
   ]
  },
  {
   "cell_type": "markdown",
   "id": "b593a442",
   "metadata": {},
   "source": [
    "3.raise"
   ]
  },
  {
   "cell_type": "markdown",
   "id": "89773208",
   "metadata": {},
   "source": [
    " the raise statement is used to raise an exception manually. It allows you to create custom exceptions or raise built-in exceptions in specific situations to indicate that an error or exceptional condition has occurred during the execution of your program."
   ]
  },
  {
   "cell_type": "code",
   "execution_count": 4,
   "id": "5161b1a9",
   "metadata": {},
   "outputs": [
    {
     "name": "stdout",
     "output_type": "stream",
     "text": [
      "An error occurred: Cannot divide by zero\n"
     ]
    }
   ],
   "source": [
    "def divide_numbers(a, b):\n",
    "    if b == 0:\n",
    "        raise ZeroDivisionError(\"Cannot divide by zero\")\n",
    "    else:\n",
    "        return a / b\n",
    "\n",
    "try:\n",
    "    result = divide_numbers(10, 0)\n",
    "    print(\"Result:\", result)\n",
    "except ZeroDivisionError as e:\n",
    "    print(\"An error occurred:\", str(e))\n"
   ]
  },
  {
   "cell_type": "markdown",
   "id": "c15d61a1",
   "metadata": {},
   "source": [
    "Q.5.what are custom exception in python ? why do we need custom exceptions ?Explain with and example"
   ]
  },
  {
   "cell_type": "markdown",
   "id": "7c58ce48",
   "metadata": {},
   "source": [
    "custom exceptions are user-defined exception classes that inherit from the built-in Exception class or any of its subclasses. These exceptions are created to handle specific error conditions or exceptional situations that are not adequately represented by the built-in exceptions."
   ]
  },
  {
   "cell_type": "code",
   "execution_count": 6,
   "id": "1fd9f6dd",
   "metadata": {},
   "outputs": [
    {
     "name": "stdout",
     "output_type": "stream",
     "text": [
      "An error occurred: Cannot divide by zero\n"
     ]
    }
   ],
   "source": [
    "def divide_numbers(a, b):\n",
    "    if b == 0:\n",
    "        raise ZeroDivisionError(\"Cannot divide by zero\")\n",
    "    else:\n",
    "        return a / b\n",
    "\n",
    "try:\n",
    "    result = divide_numbers(10, 0)\n",
    "    print(\"Result:\", result)\n",
    "except ZeroDivisionError as e:\n",
    "    print(\"An error occurred:\", str(e))"
   ]
  },
  {
   "cell_type": "markdown",
   "id": "8a46d3a3",
   "metadata": {},
   "source": [
    "Q.6.create an custom exception class .use this class to handle an exception"
   ]
  },
  {
   "cell_type": "code",
   "execution_count": 7,
   "id": "d0c4b89b",
   "metadata": {},
   "outputs": [
    {
     "name": "stdout",
     "output_type": "stream",
     "text": [
      "Error: Invalid email address: johndoe.com. Please provide a valid email address.\n",
      "Invalid Email: johndoe.com\n"
     ]
    }
   ],
   "source": [
    "class InvalidEmailError(Exception):\n",
    "    def __init__(self, email):\n",
    "        self.email = email\n",
    "        message = f\"Invalid email address: {email}. Please provide a valid email address.\"\n",
    "        super().__init__(message)\n",
    "\n",
    "    def get_email(self):\n",
    "        return self.email\n",
    "\n",
    "\n",
    "def send_email(to_email, message):\n",
    "    if \"@\" not in to_email:\n",
    "        raise InvalidEmailError(to_email)\n",
    "    else:\n",
    "        print(f\"Email sent to: {to_email}\\nMessage: {message}\")\n",
    "\n",
    "\n",
    "try:\n",
    "    send_email(\"johndoe.com\", \"Hello, John!\")\n",
    "except InvalidEmailError as e:\n",
    "    print(\"Error:\", str(e))\n",
    "    print(\"Invalid Email:\", e.get_email())\n"
   ]
  },
  {
   "cell_type": "code",
   "execution_count": null,
   "id": "42dd0d78",
   "metadata": {},
   "outputs": [],
   "source": []
  }
 ],
 "metadata": {
  "kernelspec": {
   "display_name": "Python 3 (ipykernel)",
   "language": "python",
   "name": "python3"
  },
  "language_info": {
   "codemirror_mode": {
    "name": "ipython",
    "version": 3
   },
   "file_extension": ".py",
   "mimetype": "text/x-python",
   "name": "python",
   "nbconvert_exporter": "python",
   "pygments_lexer": "ipython3",
   "version": "3.9.13"
  }
 },
 "nbformat": 4,
 "nbformat_minor": 5
}
